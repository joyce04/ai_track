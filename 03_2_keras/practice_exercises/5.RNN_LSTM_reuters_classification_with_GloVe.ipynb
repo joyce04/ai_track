{
 "cells": [
  {
   "cell_type": "markdown",
   "metadata": {},
   "source": [
    "## RNN (LSTM):\n",
    "\n",
    "- 입력된 데이터의 순서를 고려\n",
    "- 앞서 받은 데이터를 잠시 기억할 수 있다 -> 중요도에 따라 가중치를 적용하여 다음 데이터로 넘어간다.\n",
    "\n",
    "- 1. 다수 입력 단일 출력 : 문장을 읽고 뜻을 파악할 때\n",
    "- 2. 단입 입력 다수 출력 : 사진의 캡션을 만들 때\n",
    "- 3. 다수 입력 다수 출력 : 문장을 번역할 때"
   ]
  },
  {
   "cell_type": "markdown",
   "metadata": {},
   "source": [
    "## Classify Reuters with LSTM"
   ]
  },
  {
   "cell_type": "code",
   "execution_count": 1,
   "metadata": {},
   "outputs": [
    {
     "name": "stderr",
     "output_type": "stream",
     "text": [
      "Using TensorFlow backend.\n"
     ]
    }
   ],
   "source": [
    "from keras.datasets import reuters\n",
    "import numpy as np"
   ]
  },
  {
   "cell_type": "code",
   "execution_count": 2,
   "metadata": {},
   "outputs": [],
   "source": [
    "# words with frequency rank of 1-1000\n",
    "(X_train, Y_train), (X_test, Y_test) = reuters.load_data(num_words=1000, test_split=0.2)"
   ]
  },
  {
   "cell_type": "code",
   "execution_count": 3,
   "metadata": {},
   "outputs": [
    {
     "data": {
      "text/plain": [
       "(8982,)"
      ]
     },
     "execution_count": 3,
     "metadata": {},
     "output_type": "execute_result"
    }
   ],
   "source": [
    "X_train.shape"
   ]
  },
  {
   "cell_type": "code",
   "execution_count": 4,
   "metadata": {},
   "outputs": [
    {
     "data": {
      "text/plain": [
       "(2246,)"
      ]
     },
     "execution_count": 4,
     "metadata": {},
     "output_type": "execute_result"
    }
   ],
   "source": [
    "X_test.shape"
   ]
  },
  {
   "cell_type": "code",
   "execution_count": 5,
   "metadata": {},
   "outputs": [
    {
     "data": {
      "text/plain": [
       "46"
      ]
     },
     "execution_count": 5,
     "metadata": {},
     "output_type": "execute_result"
    }
   ],
   "source": [
    "category = np.max(Y_train)+1\n",
    "category"
   ]
  },
  {
   "cell_type": "code",
   "execution_count": 6,
   "metadata": {},
   "outputs": [
    {
     "name": "stdout",
     "output_type": "stream",
     "text": [
      "[1, 2, 2, 8, 43, 10, 447, 5, 25, 207, 270, 5, 2, 111, 16, 369, 186, 90, 67, 7, 89, 5, 19, 102, 6, 19, 124, 15, 90, 67, 84, 22, 482, 26, 7, 48, 4, 49, 8, 864, 39, 209, 154, 6, 151, 6, 83, 11, 15, 22, 155, 11, 15, 7, 48, 9, 2, 2, 504, 6, 258, 6, 272, 11, 15, 22, 134, 44, 11, 15, 16, 8, 197, 2, 90, 67, 52, 29, 209, 30, 32, 132, 6, 109, 15, 17, 12]\n"
     ]
    }
   ],
   "source": [
    "# count vector 3 = 3rd most frequent word\n",
    "print(X_train[0])"
   ]
  },
  {
   "cell_type": "markdown",
   "metadata": {},
   "source": [
    "### Preprocessing\n",
    "\n",
    "- 각 기사의 단어 수가 다름으로 단어의 숫자를 맞춰야 한다"
   ]
  },
  {
   "cell_type": "code",
   "execution_count": 7,
   "metadata": {},
   "outputs": [],
   "source": [
    "from keras.preprocessing import sequence"
   ]
  },
  {
   "cell_type": "code",
   "execution_count": 8,
   "metadata": {},
   "outputs": [],
   "source": [
    "MAX_LEN = 100\n",
    "x_train = sequence.pad_sequences(X_train, maxlen=MAX_LEN)\n",
    "x_test = sequence.pad_sequences(X_test, maxlen=MAX_LEN)"
   ]
  },
  {
   "cell_type": "code",
   "execution_count": 9,
   "metadata": {},
   "outputs": [],
   "source": [
    "from keras.utils import np_utils\n",
    "\n",
    "y_train = np_utils.to_categorical(Y_train)\n",
    "y_test = np_utils.to_categorical(Y_test)"
   ]
  },
  {
   "cell_type": "markdown",
   "metadata": {},
   "source": [
    "### Model"
   ]
  },
  {
   "cell_type": "code",
   "execution_count": 10,
   "metadata": {},
   "outputs": [],
   "source": [
    "from keras.models import Sequential\n",
    "from keras.layers import Embedding, LSTM, Dense\n",
    "\n",
    "model = Sequential()\n",
    "# embedding (총 단어 수, 기사당 단어 수)\n",
    "model.add(Embedding(1000, 100))\n",
    "# lstm(기사당 단어 수)\n",
    "model.add(LSTM(100, activation='tanh'))\n",
    "model.add(Dense(category, activation='softmax'))"
   ]
  },
  {
   "cell_type": "code",
   "execution_count": 11,
   "metadata": {},
   "outputs": [],
   "source": [
    "model.compile(loss='categorical_crossentropy',\\\n",
    "             optimizer='adam',\\\n",
    "             metrics=['accuracy'])"
   ]
  },
  {
   "cell_type": "code",
   "execution_count": 12,
   "metadata": {},
   "outputs": [
    {
     "name": "stdout",
     "output_type": "stream",
     "text": [
      "Train on 8982 samples, validate on 2246 samples\n",
      "Epoch 1/20\n",
      "8982/8982 [==============================] - 37s 4ms/step - loss: 2.6113 - acc: 0.3473 - val_loss: 2.4102 - val_acc: 0.3620\n",
      "Epoch 2/20\n",
      "8982/8982 [==============================] - 36s 4ms/step - loss: 2.1295 - acc: 0.4674 - val_loss: 1.9987 - val_acc: 0.5076\n",
      "Epoch 3/20\n",
      "8982/8982 [==============================] - 36s 4ms/step - loss: 1.8640 - acc: 0.5240 - val_loss: 1.7954 - val_acc: 0.5387\n",
      "Epoch 4/20\n",
      "8982/8982 [==============================] - 40s 4ms/step - loss: 1.7074 - acc: 0.5626 - val_loss: 1.6962 - val_acc: 0.5494\n",
      "Epoch 5/20\n",
      "8982/8982 [==============================] - 36s 4ms/step - loss: 1.6036 - acc: 0.5939 - val_loss: 1.6483 - val_acc: 0.5926\n",
      "Epoch 6/20\n",
      "8982/8982 [==============================] - 36s 4ms/step - loss: 1.5173 - acc: 0.6071 - val_loss: 1.5977 - val_acc: 0.5922\n",
      "Epoch 7/20\n",
      "8982/8982 [==============================] - 36s 4ms/step - loss: 1.4395 - acc: 0.6304 - val_loss: 1.5429 - val_acc: 0.6091\n",
      "Epoch 8/20\n",
      "8982/8982 [==============================] - 27s 3ms/step - loss: 1.3539 - acc: 0.6542 - val_loss: 1.4488 - val_acc: 0.6460\n",
      "Epoch 9/20\n",
      "8982/8982 [==============================] - 13s 1ms/step - loss: 1.2908 - acc: 0.6738 - val_loss: 1.3932 - val_acc: 0.6420\n",
      "Epoch 10/20\n",
      "8982/8982 [==============================] - 13s 1ms/step - loss: 1.2187 - acc: 0.6898 - val_loss: 1.3424 - val_acc: 0.6643\n",
      "Epoch 11/20\n",
      "8982/8982 [==============================] - 13s 1ms/step - loss: 1.1414 - acc: 0.7110 - val_loss: 1.3172 - val_acc: 0.6656\n",
      "Epoch 12/20\n",
      "8982/8982 [==============================] - 13s 1ms/step - loss: 1.1048 - acc: 0.7178 - val_loss: 1.2956 - val_acc: 0.6679\n",
      "Epoch 13/20\n",
      "8982/8982 [==============================] - 11s 1ms/step - loss: 1.0409 - acc: 0.7371 - val_loss: 1.2783 - val_acc: 0.6679\n",
      "Epoch 14/20\n",
      "8982/8982 [==============================] - 11s 1ms/step - loss: 0.9996 - acc: 0.7452 - val_loss: 1.2673 - val_acc: 0.6714\n",
      "Epoch 15/20\n",
      "8982/8982 [==============================] - 11s 1ms/step - loss: 0.9479 - acc: 0.7593 - val_loss: 1.2455 - val_acc: 0.6906\n",
      "Epoch 16/20\n",
      "8982/8982 [==============================] - 11s 1ms/step - loss: 0.9041 - acc: 0.7723 - val_loss: 1.2378 - val_acc: 0.6923\n",
      "Epoch 17/20\n",
      "8982/8982 [==============================] - 11s 1ms/step - loss: 0.8659 - acc: 0.7825 - val_loss: 1.2274 - val_acc: 0.6950\n",
      "Epoch 18/20\n",
      "8982/8982 [==============================] - 8s 859us/step - loss: 0.8362 - acc: 0.7900 - val_loss: 1.2514 - val_acc: 0.6972\n",
      "Epoch 19/20\n",
      "8982/8982 [==============================] - 9s 1ms/step - loss: 0.7928 - acc: 0.8009 - val_loss: 1.2427 - val_acc: 0.7044\n",
      "Epoch 20/20\n",
      "8982/8982 [==============================] - 10s 1ms/step - loss: 0.7580 - acc: 0.8047 - val_loss: 1.2605 - val_acc: 0.7039\n"
     ]
    }
   ],
   "source": [
    "history = model.fit(x_train, y_train,\n",
    "                   batch_size=100, epochs=20,\\\n",
    "                   validation_data=(x_test, y_test))"
   ]
  },
  {
   "cell_type": "code",
   "execution_count": 26,
   "metadata": {},
   "outputs": [
    {
     "data": {
      "image/png": "[encoded data removed]",
      "text/plain": [
       "<Figure size 432x288 with 1 Axes>"
      ]
     },
     "metadata": {
      "needs_background": "light"
     },
     "output_type": "display_data"
    }
   ],
   "source": [
    "import matplotlib.pyplot as plt\n",
    "\n",
    "y_vloss = history.history['val_loss']\n",
    "\n",
    "# training set\n",
    "y_loss = history.history['loss']\n",
    "\n",
    "plt.plot(np.arange(len(y_loss)), y_vloss, marker='.', c='red', label='Testset_loss')\n",
    "plt.plot(np.arange(len(y_loss)), y_loss, marker='.', c='blue', label='Trainset_loss')\n",
    "\n",
    "plt.legend(loc='upper right')\n",
    "plt.grid()\n",
    "plt.xlabel('epoch')\n",
    "plt.ylabel('loss')\n",
    "plt.show()"
   ]
  },
  {
   "cell_type": "code",
   "execution_count": 14,
   "metadata": {},
   "outputs": [
    {
     "data": {
      "image/png": "[encoded data removed]",
      "text/plain": [
       "<Figure size 432x288 with 1 Axes>"
      ]
     },
     "metadata": {
      "needs_background": "light"
     },
     "output_type": "display_data"
    }
   ],
   "source": [
    "import matplotlib.pyplot as plt\n",
    "\n",
    "y_vacc = history.history['val_acc']\n",
    "\n",
    "# training set\n",
    "y_acc = history.history['acc']\n",
    "\n",
    "plt.plot(np.arange(len(y_acc)), y_vacc, marker='.', c='red', label='Testset_acc')\n",
    "plt.plot(np.arange(len(y_acc)), y_acc, marker='.', c='blue', label='Trainset_acc')\n",
    "\n",
    "plt.legend(loc='upper right')\n",
    "plt.grid()\n",
    "plt.xlabel('epoch')\n",
    "plt.ylabel('accuracy')\n",
    "plt.show()"
   ]
  },
  {
   "cell_type": "markdown",
   "metadata": {},
   "source": [
    "### GloVe"
   ]
  },
  {
   "cell_type": "code",
   "execution_count": 18,
   "metadata": {},
   "outputs": [],
   "source": [
    "import gensim.downloader as api\n",
    "\n",
    "#https://github.com/RaRe-Technologies/gensim-data\n",
    "word_vectors = api.load(\"glove-wiki-gigaword-100\")"
   ]
  },
  {
   "cell_type": "code",
   "execution_count": 19,
   "metadata": {},
   "outputs": [],
   "source": [
    "vocab_size = 1000\n",
    "embed_size = 100"
   ]
  },
  {
   "cell_type": "code",
   "execution_count": 20,
   "metadata": {},
   "outputs": [
    {
     "name": "stderr",
     "output_type": "stream",
     "text": [
      "/home/grace/.local/lib/python3.5/site-packages/ipykernel_launcher.py:4: DeprecationWarning: Call to deprecated `wv` (Attribute will be removed in 4.0.0, use self instead).\n",
      "  after removing the cwd from sys.path.\n"
     ]
    }
   ],
   "source": [
    "embedding_weights = np.zeros((vocab_size, embed_size))\n",
    "for ind in range(vocab_size):\n",
    "    try:\n",
    "        embedding_weights[ind, :] = word_vectors.wv[word_vectors.wv.index2word[ind]]\n",
    "    except KeyError:\n",
    "        pass"
   ]
  },
  {
   "cell_type": "code",
   "execution_count": 21,
   "metadata": {},
   "outputs": [],
   "source": [
    "model_tl = Sequential()\n",
    "# embedding (총 단어 수, 기사당 단어 수)\n",
    "model_tl.add(Embedding(vocab_size, embed_size, input_length=MAX_LEN, weights=[embedding_weights], trainable=True))\n",
    "# lstm(기사당 단어 수)\n",
    "model_tl.add(LSTM(100, activation='tanh'))\n",
    "model_tl.add(Dense(category, activation='softmax'))"
   ]
  },
  {
   "cell_type": "code",
   "execution_count": 22,
   "metadata": {},
   "outputs": [],
   "source": [
    "model_tl.compile(loss='categorical_crossentropy',\\\n",
    "             optimizer='adam',\\\n",
    "             metrics=['accuracy'])"
   ]
  },
  {
   "cell_type": "code",
   "execution_count": 23,
   "metadata": {},
   "outputs": [
    {
     "name": "stdout",
     "output_type": "stream",
     "text": [
      "Train on 8982 samples, validate on 2246 samples\n",
      "Epoch 1/20\n",
      "8982/8982 [==============================] - 39s 4ms/step - loss: 2.3850 - acc: 0.3910 - val_loss: 2.1027 - val_acc: 0.4880\n",
      "Epoch 2/20\n",
      "8982/8982 [==============================] - 37s 4ms/step - loss: 2.0522 - acc: 0.4912 - val_loss: 1.9744 - val_acc: 0.5138\n",
      "Epoch 3/20\n",
      "8982/8982 [==============================] - 36s 4ms/step - loss: 1.9135 - acc: 0.5267 - val_loss: 1.8548 - val_acc: 0.5534\n",
      "Epoch 4/20\n",
      "8982/8982 [==============================] - 36s 4ms/step - loss: 1.7432 - acc: 0.5620 - val_loss: 1.6565 - val_acc: 0.5855\n",
      "Epoch 5/20\n",
      "8982/8982 [==============================] - 36s 4ms/step - loss: 1.5876 - acc: 0.6000 - val_loss: 1.5872 - val_acc: 0.6028\n",
      "Epoch 6/20\n",
      "8982/8982 [==============================] - 37s 4ms/step - loss: 1.4404 - acc: 0.6388 - val_loss: 1.4719 - val_acc: 0.6354\n",
      "Epoch 7/20\n",
      "8982/8982 [==============================] - 36s 4ms/step - loss: 1.3243 - acc: 0.6738 - val_loss: 1.3761 - val_acc: 0.6612\n",
      "Epoch 8/20\n",
      "8982/8982 [==============================] - 35s 4ms/step - loss: 1.2328 - acc: 0.6948 - val_loss: 1.3174 - val_acc: 0.6670\n",
      "Epoch 9/20\n",
      "8982/8982 [==============================] - 35s 4ms/step - loss: 1.1460 - acc: 0.7125 - val_loss: 1.2613 - val_acc: 0.6861\n",
      "Epoch 10/20\n",
      "8982/8982 [==============================] - 35s 4ms/step - loss: 1.0741 - acc: 0.7302 - val_loss: 1.2357 - val_acc: 0.6937\n",
      "Epoch 11/20\n",
      "8982/8982 [==============================] - 35s 4ms/step - loss: 1.0026 - acc: 0.7504 - val_loss: 1.1886 - val_acc: 0.7075\n",
      "Epoch 12/20\n",
      "8982/8982 [==============================] - 35s 4ms/step - loss: 0.9352 - acc: 0.7705 - val_loss: 1.1615 - val_acc: 0.7195\n",
      "Epoch 13/20\n",
      "8982/8982 [==============================] - 35s 4ms/step - loss: 0.8806 - acc: 0.7821 - val_loss: 1.1361 - val_acc: 0.7244\n",
      "Epoch 14/20\n",
      "8982/8982 [==============================] - 35s 4ms/step - loss: 0.8334 - acc: 0.7957 - val_loss: 1.1466 - val_acc: 0.7217\n",
      "Epoch 15/20\n",
      "8982/8982 [==============================] - 35s 4ms/step - loss: 0.7850 - acc: 0.8056 - val_loss: 1.1420 - val_acc: 0.7289\n",
      "Epoch 16/20\n",
      "8982/8982 [==============================] - 35s 4ms/step - loss: 0.7289 - acc: 0.8163 - val_loss: 1.1433 - val_acc: 0.7248\n",
      "Epoch 17/20\n",
      "8982/8982 [==============================] - 35s 4ms/step - loss: 0.6919 - acc: 0.8283 - val_loss: 1.1504 - val_acc: 0.7275\n",
      "Epoch 18/20\n",
      "8982/8982 [==============================] - 34s 4ms/step - loss: 0.6662 - acc: 0.8354 - val_loss: 1.1588 - val_acc: 0.7306\n",
      "Epoch 19/20\n",
      "8982/8982 [==============================] - 35s 4ms/step - loss: 0.6366 - acc: 0.8428 - val_loss: 1.1681 - val_acc: 0.7271\n",
      "Epoch 20/20\n",
      "8982/8982 [==============================] - 35s 4ms/step - loss: 0.5988 - acc: 0.8484 - val_loss: 1.1769 - val_acc: 0.7235\n"
     ]
    }
   ],
   "source": [
    "history_tl = model_tl.fit(x_train, y_train,\n",
    "                   batch_size=100, epochs=20,\\\n",
    "                   validation_data=(x_test, y_test))"
   ]
  },
  {
   "cell_type": "code",
   "execution_count": 24,
   "metadata": {},
   "outputs": [
    {
     "data": {
      "image/png": "[encoded data removed]",
      "text/plain": [
       "<Figure size 432x288 with 1 Axes>"
      ]
     },
     "metadata": {
      "needs_background": "light"
     },
     "output_type": "display_data"
    }
   ],
   "source": [
    "import matplotlib.pyplot as plt\n",
    "\n",
    "y_vloss = history_tl.history['val_loss']\n",
    "\n",
    "# training set\n",
    "y_loss = history_tl.history['loss']\n",
    "\n",
    "plt.plot(np.arange(len(y_loss)), y_vloss, marker='.', c='red', label='Testset_loss')\n",
    "plt.plot(np.arange(len(y_loss)), y_loss, marker='.', c='blue', label='Trainset_loss')\n",
    "\n",
    "plt.legend(loc='upper right')\n",
    "plt.grid()\n",
    "plt.xlabel('epoch')\n",
    "plt.ylabel('loss')\n",
    "plt.show()"
   ]
  },
  {
   "cell_type": "code",
   "execution_count": 25,
   "metadata": {},
   "outputs": [
    {
     "data": {
      "image/png": "[encoded data removed]",
      "text/plain": [
       "<Figure size 432x288 with 1 Axes>"
      ]
     },
     "metadata": {
      "needs_background": "light"
     },
     "output_type": "display_data"
    }
   ],
   "source": [
    "import matplotlib.pyplot as plt\n",
    "\n",
    "y_vacc = history_tl.history['val_acc']\n",
    "\n",
    "# training set\n",
    "y_acc = history_tl.history['acc']\n",
    "\n",
    "plt.plot(np.arange(len(y_acc)), y_vacc, marker='.', c='red', label='Testset_acc')\n",
    "plt.plot(np.arange(len(y_acc)), y_acc, marker='.', c='blue', label='Trainset_acc')\n",
    "\n",
    "plt.legend(loc='upper right')\n",
    "plt.grid()\n",
    "plt.xlabel('epoch')\n",
    "plt.ylabel('accuracy')\n",
    "plt.show()"
   ]
  },
  {
   "cell_type": "code",
   "execution_count": null,
   "metadata": {},
   "outputs": [],
   "source": []
  }
 ],
 "metadata": {
  "kernelspec": {
   "display_name": "Python 3",
   "language": "python",
   "name": "python3"
  },
  "language_info": {
   "codemirror_mode": {
    "name": "ipython",
    "version": 3
   },
   "file_extension": ".py",
   "mimetype": "text/x-python",
   "name": "python",
   "nbconvert_exporter": "python",
   "pygments_lexer": "ipython3",
   "version": "3.5.2"
  }
 },
 "nbformat": 4,
 "nbformat_minor": 2
}
