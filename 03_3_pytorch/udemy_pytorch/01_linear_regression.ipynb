{
 "cells": [
  {
   "cell_type": "markdown",
   "metadata": {},
   "source": [
    "## Linear Regression with PyTorch\n",
    "\n",
    "- x : independent variable\n",
    "- y : depdent variable\n",
    "\n",
    "$$ y = \\alpha x + \\beta $$"
   ]
  },
  {
   "cell_type": "code",
   "execution_count": 1,
   "metadata": {},
   "outputs": [
    {
     "data": {
      "text/plain": [
       "<Figure size 640x480 with 1 Axes>"
      ]
     },
     "metadata": {},
     "output_type": "display_data"
    }
   ],
   "source": [
    "# simple example\n",
    "import datetime\n",
    "import sys\n",
    "\n",
    "import numpy as np\n",
    "import matplotlib.pyplot as plt\n",
    "\n",
    "np.random.seed(1)\n",
    "n = 50\n",
    "x = np.random.randn(n)\n",
    "y = x * np.random.randn(n)\n",
    "\n",
    "colors = np.random.rand(n)\n",
    "plt.plot(np.unique(x), np.poly1d(np.polyfit(x, y, 1))(np.unique(x)))\n",
    "\n",
    "plt.scatter(x, y, c=colors, alpha=.5)\n",
    "plt.show()"
   ]
  },
  {
   "cell_type": "markdown",
   "metadata": {},
   "source": [
    "### aim: minimize the distance between the points and the line\n",
    "\n",
    "- adjusting (coefficient : $\\alpha$) or (bias : $\\beta$)"
   ]
  },
  {
   "cell_type": "markdown",
   "metadata": {},
   "source": [
    "- coefficient = 2\n",
    "- bias = 1\n",
    "- equation $y = 2x+ 1$"
   ]
  },
  {
   "cell_type": "code",
   "execution_count": 2,
   "metadata": {},
   "outputs": [
    {
     "data": {
      "text/plain": [
       "[0, 1, 2, 3, 4, 5, 6, 7, 8, 9, 10]"
      ]
     },
     "execution_count": 2,
     "metadata": {},
     "output_type": "execute_result"
    }
   ],
   "source": [
    "x_values = [i for i in range(11)]\n",
    "x_values"
   ]
  },
  {
   "cell_type": "code",
   "execution_count": 3,
   "metadata": {},
   "outputs": [
    {
     "data": {
      "text/plain": [
       "(11,)"
      ]
     },
     "execution_count": 3,
     "metadata": {},
     "output_type": "execute_result"
    }
   ],
   "source": [
    "# to numpy\n",
    "x_train = np.array(x_values, dtype=np.float32)\n",
    "x_train.shape"
   ]
  },
  {
   "cell_type": "code",
   "execution_count": 4,
   "metadata": {},
   "outputs": [
    {
     "data": {
      "text/plain": [
       "(11, 1)"
      ]
     },
     "execution_count": 4,
     "metadata": {},
     "output_type": "execute_result"
    }
   ],
   "source": [
    "# 2D shape\n",
    "x_train = x_train.reshape(-1, 1)\n",
    "x_train.shape"
   ]
  },
  {
   "cell_type": "code",
   "execution_count": 5,
   "metadata": {},
   "outputs": [
    {
     "data": {
      "text/plain": [
       "array([[ 0.],\n",
       "       [ 1.],\n",
       "       [ 2.],\n",
       "       [ 3.],\n",
       "       [ 4.],\n",
       "       [ 5.],\n",
       "       [ 6.],\n",
       "       [ 7.],\n",
       "       [ 8.],\n",
       "       [ 9.],\n",
       "       [10.]], dtype=float32)"
      ]
     },
     "execution_count": 5,
     "metadata": {},
     "output_type": "execute_result"
    }
   ],
   "source": [
    "x_train"
   ]
  },
  {
   "cell_type": "code",
   "execution_count": 6,
   "metadata": {},
   "outputs": [
    {
     "data": {
      "text/plain": [
       "[1, 3, 5, 7, 9, 11, 13, 15, 17, 19, 21]"
      ]
     },
     "execution_count": 6,
     "metadata": {},
     "output_type": "execute_result"
    }
   ],
   "source": [
    "y_values = [2 * i + 1 for i in x_values]\n",
    "y_values"
   ]
  },
  {
   "cell_type": "code",
   "execution_count": 7,
   "metadata": {},
   "outputs": [
    {
     "data": {
      "text/plain": [
       "(11,)"
      ]
     },
     "execution_count": 7,
     "metadata": {},
     "output_type": "execute_result"
    }
   ],
   "source": [
    "y_train = np.array(y_values, dtype=np.float32)\n",
    "y_train.shape"
   ]
  },
  {
   "cell_type": "code",
   "execution_count": 8,
   "metadata": {},
   "outputs": [
    {
     "data": {
      "text/plain": [
       "array([[ 1.],\n",
       "       [ 3.],\n",
       "       [ 5.],\n",
       "       [ 7.],\n",
       "       [ 9.],\n",
       "       [11.],\n",
       "       [13.],\n",
       "       [15.],\n",
       "       [17.],\n",
       "       [19.],\n",
       "       [21.]], dtype=float32)"
      ]
     },
     "execution_count": 8,
     "metadata": {},
     "output_type": "execute_result"
    }
   ],
   "source": [
    "y_train = y_train.reshape(-1, 1)\n",
    "y_train"
   ]
  },
  {
   "cell_type": "markdown",
   "metadata": {},
   "source": [
    "## model building"
   ]
  },
  {
   "cell_type": "code",
   "execution_count": 9,
   "metadata": {},
   "outputs": [],
   "source": [
    "import torch.nn as nn\n",
    "from torch.autograd import Variable\n",
    "import torch"
   ]
  },
  {
   "cell_type": "code",
   "execution_count": 10,
   "metadata": {},
   "outputs": [],
   "source": [
    "# linear model y=2x + 1"
   ]
  },
  {
   "cell_type": "code",
   "execution_count": 11,
   "metadata": {},
   "outputs": [],
   "source": [
    "class LinearRegressionModel(nn.Module):\n",
    "    def __init__(self, input_size, output_size):\n",
    "        super(LinearRegressionModel, self).__init__()\n",
    "        self.linear = nn.Linear(input_dim, output_dim)\n",
    "        \n",
    "    def forward(self, x):\n",
    "        out = self.linear(x)\n",
    "        return out"
   ]
  },
  {
   "cell_type": "code",
   "execution_count": 12,
   "metadata": {},
   "outputs": [],
   "source": [
    "input_dim = 1\n",
    "output_dim = 1\n",
    "\n",
    "model = LinearRegressionModel(input_dim, output_dim)"
   ]
  },
  {
   "cell_type": "markdown",
   "metadata": {},
   "source": [
    "## instantiate loss\n",
    "- MSE loss (Mean Squared Error)\n",
    "- $MSE = \\frac{1}{n} \\sum_{i=1}^n(\\hat y_i - y_i)$\n",
    "    - $\\hat y$: prediction\n",
    "    - $y$: true value"
   ]
  },
  {
   "cell_type": "code",
   "execution_count": 13,
   "metadata": {},
   "outputs": [],
   "source": [
    "criterion = nn.MSELoss()"
   ]
  },
  {
   "cell_type": "markdown",
   "metadata": {},
   "source": [
    "## Optimizer\n",
    "- Simplified equation\n",
    "    - $\\theta = \\theta - \\eta \\cdot \\nabla_\\theta $\n",
    "        - $\\theta$: parameters (our variables)\n",
    "        - $\\eta$: learning rate (how fast we want to learn)\n",
    "        - $\\nabla_\\theta$: parameters' gradients\n",
    "- Even simplier equation\n",
    "    - `parameters = parameters - learning_rate * parameters_gradients`\n",
    "        - parameters: $\\alpha$ and $\\beta$ in $ y = \\alpha x + \\beta$\n",
    "        - desired parameters: $\\alpha = 2$ and $\\beta = 1$ in $ y = 2x + 1$"
   ]
  },
  {
   "cell_type": "code",
   "execution_count": 14,
   "metadata": {},
   "outputs": [],
   "source": [
    "learning_rate = 0.01\n",
    "\n",
    "optimizer = torch.optim.SGD(model.parameters(), lr=learning_rate)"
   ]
  },
  {
   "cell_type": "markdown",
   "metadata": {},
   "source": [
    "## train\n",
    "\n",
    "- 1 epoch = going through the whole x_train data once\n",
    "\n",
    "\n",
    "1. convert inputs/labels to variables\n",
    "2. clear gradient buffets\n",
    "3. get output\n",
    "4. get loss\n",
    "5. get gradients w.r.t parameters\n",
    "6. update parameters with gradients\n",
    "7. repeat"
   ]
  },
  {
   "cell_type": "code",
   "execution_count": 15,
   "metadata": {},
   "outputs": [
    {
     "name": "stdout",
     "output_type": "stream",
     "text": [
      "epoch 1, loss 260.6395263671875\n",
      "epoch 2, loss 21.328079223632812\n",
      "epoch 3, loss 1.8074325323104858\n",
      "epoch 4, loss 0.21443681418895721\n",
      "epoch 5, loss 0.083753302693367\n",
      "epoch 6, loss 0.07235391438007355\n",
      "epoch 7, loss 0.07069242745637894\n",
      "epoch 8, loss 0.06983327865600586\n",
      "epoch 9, loss 0.06904792040586472\n",
      "epoch 10, loss 0.06827633827924728\n",
      "epoch 11, loss 0.06751392781734467\n",
      "epoch 12, loss 0.06675992906093597\n",
      "epoch 13, loss 0.06601448357105255\n",
      "epoch 14, loss 0.06527730077505112\n",
      "epoch 15, loss 0.06454837322235107\n",
      "epoch 16, loss 0.06382744014263153\n",
      "epoch 17, loss 0.06311486661434174\n",
      "epoch 18, loss 0.06240992620587349\n",
      "epoch 19, loss 0.06171305105090141\n",
      "epoch 20, loss 0.06102386862039566\n",
      "epoch 21, loss 0.06034243479371071\n",
      "epoch 22, loss 0.05966861918568611\n",
      "epoch 23, loss 0.05900230258703232\n",
      "epoch 24, loss 0.058343470096588135\n",
      "epoch 25, loss 0.057692043483257294\n",
      "epoch 26, loss 0.057047802954912186\n",
      "epoch 27, loss 0.05641062930226326\n",
      "epoch 28, loss 0.055780790746212006\n",
      "epoch 29, loss 0.05515776202082634\n",
      "epoch 30, loss 0.05454188212752342\n",
      "epoch 31, loss 0.05393289402127266\n",
      "epoch 32, loss 0.05333051458001137\n",
      "epoch 33, loss 0.05273496359586716\n",
      "epoch 34, loss 0.052146125584840775\n",
      "epoch 35, loss 0.051563795655965805\n",
      "epoch 36, loss 0.05098803713917732\n",
      "epoch 37, loss 0.05041860044002533\n",
      "epoch 38, loss 0.0498555563390255\n",
      "epoch 39, loss 0.04929880052804947\n",
      "epoch 40, loss 0.048748407512903214\n",
      "epoch 41, loss 0.048204030841588974\n",
      "epoch 42, loss 0.047665707767009735\n",
      "epoch 43, loss 0.04713347926735878\n",
      "epoch 44, loss 0.04660715535283089\n",
      "epoch 45, loss 0.046086572110652924\n",
      "epoch 46, loss 0.04557197540998459\n",
      "epoch 47, loss 0.04506317153573036\n",
      "epoch 48, loss 0.04455987364053726\n",
      "epoch 49, loss 0.044062428176403046\n",
      "epoch 50, loss 0.043570272624492645\n",
      "epoch 51, loss 0.043083857744932175\n",
      "epoch 52, loss 0.0426025390625\n",
      "epoch 53, loss 0.04212690889835358\n",
      "epoch 54, loss 0.04165646433830261\n",
      "epoch 55, loss 0.04119130223989487\n",
      "epoch 56, loss 0.04073123633861542\n",
      "epoch 57, loss 0.04027656838297844\n",
      "epoch 58, loss 0.03982679545879364\n",
      "epoch 59, loss 0.03938206657767296\n",
      "epoch 60, loss 0.038942161947488785\n",
      "epoch 61, loss 0.03850734978914261\n",
      "epoch 62, loss 0.038077421486377716\n",
      "epoch 63, loss 0.03765213489532471\n",
      "epoch 64, loss 0.0372316800057888\n",
      "epoch 65, loss 0.03681586682796478\n",
      "epoch 66, loss 0.03640483692288399\n",
      "epoch 67, loss 0.035998307168483734\n",
      "epoch 68, loss 0.03559635579586029\n",
      "epoch 69, loss 0.03519877791404724\n",
      "epoch 70, loss 0.034805696457624435\n",
      "epoch 71, loss 0.03441710025072098\n",
      "epoch 72, loss 0.03403270244598389\n",
      "epoch 73, loss 0.033652614802122116\n",
      "epoch 74, loss 0.03327690064907074\n",
      "epoch 75, loss 0.03290537744760513\n",
      "epoch 76, loss 0.03253785893321037\n",
      "epoch 77, loss 0.0321744829416275\n",
      "epoch 78, loss 0.03181523457169533\n",
      "epoch 79, loss 0.03146001324057579\n",
      "epoch 80, loss 0.031108684837818146\n",
      "epoch 81, loss 0.03076121397316456\n",
      "epoch 82, loss 0.03041766583919525\n",
      "epoch 83, loss 0.03007807768881321\n",
      "epoch 84, loss 0.02974224090576172\n",
      "epoch 85, loss 0.029410164803266525\n",
      "epoch 86, loss 0.029081596061587334\n",
      "epoch 87, loss 0.028756937012076378\n",
      "epoch 88, loss 0.028435776010155678\n",
      "epoch 89, loss 0.02811828814446926\n",
      "epoch 90, loss 0.027804234996438026\n",
      "epoch 91, loss 0.027493828907608986\n",
      "epoch 92, loss 0.027186725288629532\n",
      "epoch 93, loss 0.026883233338594437\n",
      "epoch 94, loss 0.02658292092382908\n",
      "epoch 95, loss 0.0262860506772995\n",
      "epoch 96, loss 0.025992585346102715\n",
      "epoch 97, loss 0.025702308863401413\n",
      "epoch 98, loss 0.02541527710855007\n",
      "epoch 99, loss 0.025131525471806526\n",
      "epoch 100, loss 0.02485082298517227\n",
      "Time 0:00:00.036790"
     ]
    }
   ],
   "source": [
    "epochs = 100\n",
    "start_time = datetime.datetime.now()\n",
    "\n",
    "for e in range(epochs):\n",
    "    e += 1\n",
    "    \n",
    "    # convert inputs/labels to variables\n",
    "    inputs = Variable(torch.from_numpy(x_train))\n",
    "    labels = Variable(torch.from_numpy(y_train))\n",
    "    \n",
    "    # clear gradients\n",
    "    optimizer.zero_grad()\n",
    "    \n",
    "    # forward & get output\n",
    "    outputs = model(inputs)\n",
    "    \n",
    "    # calculate loss\n",
    "    loss = criterion(outputs, labels)\n",
    "    \n",
    "    # gradients\n",
    "    loss.backward()\n",
    "    \n",
    "    # update parameters\n",
    "    optimizer.step()\n",
    "    \n",
    "    print('epoch {}, loss {}'.format(e, loss.data.item()))\n",
    "sys.stdout.write('Time '+ str(datetime.datetime.now() - start_time))"
   ]
  },
  {
   "cell_type": "code",
   "execution_count": 16,
   "metadata": {},
   "outputs": [
    {
     "data": {
      "text/plain": [
       "array([[ 0.7067548],\n",
       "       [ 2.7489848],\n",
       "       [ 4.791215 ],\n",
       "       [ 6.833445 ],\n",
       "       [ 8.875675 ],\n",
       "       [10.917906 ],\n",
       "       [12.960135 ],\n",
       "       [15.002365 ],\n",
       "       [17.044596 ],\n",
       "       [19.086826 ],\n",
       "       [21.129057 ]], dtype=float32)"
      ]
     },
     "execution_count": 16,
     "metadata": {},
     "output_type": "execute_result"
    }
   ],
   "source": [
    "predicted = model(Variable(torch.from_numpy(x_train))).data.numpy()\n",
    "predicted"
   ]
  },
  {
   "cell_type": "code",
   "execution_count": 17,
   "metadata": {},
   "outputs": [
    {
     "data": {
      "text/plain": [
       "array([[ 1.],\n",
       "       [ 3.],\n",
       "       [ 5.],\n",
       "       [ 7.],\n",
       "       [ 9.],\n",
       "       [11.],\n",
       "       [13.],\n",
       "       [15.],\n",
       "       [17.],\n",
       "       [19.],\n",
       "       [21.]], dtype=float32)"
      ]
     },
     "execution_count": 17,
     "metadata": {},
     "output_type": "execute_result"
    }
   ],
   "source": [
    "y_train"
   ]
  },
  {
   "cell_type": "code",
   "execution_count": 18,
   "metadata": {},
   "outputs": [
    {
     "data": {
      "image/png": "[encoded data removed]",
      "text/plain": [
       "<Figure size 432x288 with 1 Axes>"
      ]
     },
     "metadata": {
      "needs_background": "light"
     },
     "output_type": "display_data"
    }
   ],
   "source": [
    "# plot\n",
    "plt.clf() #clear figure\n",
    "\n",
    "plt.plot(x_train, y_train, 'go', label='True data', alpha=.5)\n",
    "plt.plot(x_train, predicted, '--', label='Predicted', alpha=.5)\n",
    "\n",
    "plt.legend(loc='best')\n",
    "plt.show()"
   ]
  },
  {
   "cell_type": "markdown",
   "metadata": {},
   "source": [
    "## save"
   ]
  },
  {
   "cell_type": "code",
   "execution_count": 19,
   "metadata": {},
   "outputs": [],
   "source": [
    "torch.save(model.state_dict(), 'regression_model.pkl')"
   ]
  },
  {
   "cell_type": "code",
   "execution_count": 20,
   "metadata": {},
   "outputs": [
    {
     "data": {
      "text/plain": [
       "IncompatibleKeys(missing_keys=[], unexpected_keys=[])"
      ]
     },
     "execution_count": 20,
     "metadata": {},
     "output_type": "execute_result"
    }
   ],
   "source": [
    "t_model = LinearRegressionModel(1, 1)\n",
    "t_model.load_state_dict(torch.load('regression_model.pkl'))"
   ]
  },
  {
   "cell_type": "code",
   "execution_count": 21,
   "metadata": {},
   "outputs": [
    {
     "data": {
      "text/plain": [
       "tensor([[ 0.7068],\n",
       "        [ 2.7490],\n",
       "        [ 4.7912],\n",
       "        [ 6.8334],\n",
       "        [ 8.8757],\n",
       "        [10.9179],\n",
       "        [12.9601],\n",
       "        [15.0024],\n",
       "        [17.0446],\n",
       "        [19.0868],\n",
       "        [21.1291]], grad_fn=<AddmmBackward>)"
      ]
     },
     "execution_count": 21,
     "metadata": {},
     "output_type": "execute_result"
    }
   ],
   "source": [
    "t_model(Variable(torch.from_numpy(x_train)))"
   ]
  },
  {
   "cell_type": "markdown",
   "metadata": {},
   "source": [
    "## GPU"
   ]
  },
  {
   "cell_type": "code",
   "execution_count": 22,
   "metadata": {},
   "outputs": [
    {
     "name": "stdout",
     "output_type": "stream",
     "text": [
      "epoch 1, loss 146.0475311279297\n",
      "epoch 2, loss 74.51280975341797\n",
      "epoch 3, loss 6.099574565887451\n",
      "epoch 4, loss 0.5190826058387756\n",
      "epoch 5, loss 0.06365825980901718\n",
      "epoch 6, loss 0.026272492483258247\n",
      "epoch 7, loss 0.022987686097621918\n",
      "epoch 8, loss 0.022486984729766846\n",
      "epoch 9, loss 0.02221600152552128\n",
      "epoch 10, loss 0.0219662357121706\n",
      "epoch 11, loss 0.021720750257372856\n",
      "epoch 12, loss 0.021478276699781418\n",
      "epoch 13, loss 0.02123843878507614\n",
      "epoch 14, loss 0.02100123092532158\n",
      "epoch 15, loss 0.020766714587807655\n",
      "epoch 16, loss 0.020534764975309372\n",
      "epoch 17, loss 0.020305486395955086\n",
      "epoch 18, loss 0.020078780129551888\n",
      "epoch 19, loss 0.019854538142681122\n",
      "epoch 20, loss 0.019632818177342415\n",
      "epoch 21, loss 0.019413597881793976\n",
      "epoch 22, loss 0.01919674500823021\n",
      "epoch 23, loss 0.018982423469424248\n",
      "epoch 24, loss 0.018770460039377213\n",
      "epoch 25, loss 0.018560828641057014\n",
      "epoch 26, loss 0.018353551626205444\n",
      "epoch 27, loss 0.018148647621273994\n",
      "epoch 28, loss 0.01794600673019886\n",
      "epoch 29, loss 0.01774561032652855\n",
      "epoch 30, loss 0.017547406256198883\n",
      "epoch 31, loss 0.01735151931643486\n",
      "epoch 32, loss 0.017157703638076782\n",
      "epoch 33, loss 0.016966063529253006\n",
      "epoch 34, loss 0.016776684671640396\n",
      "epoch 35, loss 0.01658931002020836\n",
      "epoch 36, loss 0.016404064372181892\n",
      "epoch 37, loss 0.016220904886722565\n",
      "epoch 38, loss 0.016039742156863213\n",
      "epoch 39, loss 0.015860576182603836\n",
      "epoch 40, loss 0.015683509409427643\n",
      "epoch 41, loss 0.015508404932916164\n",
      "epoch 42, loss 0.015335222706198692\n",
      "epoch 43, loss 0.015163978561758995\n",
      "epoch 44, loss 0.014994610100984573\n",
      "epoch 45, loss 0.014827152714133263\n",
      "epoch 46, loss 0.014661579392850399\n",
      "epoch 47, loss 0.01449787337332964\n",
      "epoch 48, loss 0.01433595921844244\n",
      "epoch 49, loss 0.014175928197801113\n",
      "epoch 50, loss 0.014017531648278236\n",
      "epoch 51, loss 0.013861098326742649\n",
      "epoch 52, loss 0.013706299476325512\n",
      "epoch 53, loss 0.013553228229284286\n",
      "epoch 54, loss 0.013401862233877182\n",
      "epoch 55, loss 0.013252225704491138\n",
      "epoch 56, loss 0.013104235753417015\n",
      "epoch 57, loss 0.012957929633557796\n",
      "epoch 58, loss 0.012813213281333447\n",
      "epoch 59, loss 0.012670147232711315\n",
      "epoch 60, loss 0.012528649531304836\n",
      "epoch 61, loss 0.012388733215630054\n",
      "epoch 62, loss 0.012250450439751148\n",
      "epoch 63, loss 0.012113556265830994\n",
      "epoch 64, loss 0.011978340335190296\n",
      "epoch 65, loss 0.011844595894217491\n",
      "epoch 66, loss 0.011712273582816124\n",
      "epoch 67, loss 0.011581555008888245\n",
      "epoch 68, loss 0.011452222242951393\n",
      "epoch 69, loss 0.011324257589876652\n",
      "epoch 70, loss 0.011197865940630436\n",
      "epoch 71, loss 0.011072814464569092\n",
      "epoch 72, loss 0.010949171148240566\n",
      "epoch 73, loss 0.010826877318322659\n",
      "epoch 74, loss 0.010705993510782719\n",
      "epoch 75, loss 0.01058642566204071\n",
      "epoch 76, loss 0.010468228720128536\n",
      "epoch 77, loss 0.010351344011723995\n",
      "epoch 78, loss 0.010235696099698544\n",
      "epoch 79, loss 0.010121434926986694\n",
      "epoch 80, loss 0.010008427314460278\n",
      "epoch 81, loss 0.009896650910377502\n",
      "epoch 82, loss 0.009786102920770645\n",
      "epoch 83, loss 0.00967680849134922\n",
      "epoch 84, loss 0.009568803943693638\n",
      "epoch 85, loss 0.009461946785449982\n",
      "epoch 86, loss 0.009356283582746983\n",
      "epoch 87, loss 0.009251791052520275\n",
      "epoch 88, loss 0.009148458950221539\n",
      "epoch 89, loss 0.009046368300914764\n",
      "epoch 90, loss 0.008945300243794918\n",
      "epoch 91, loss 0.008845402859151363\n",
      "epoch 92, loss 0.008746640756726265\n",
      "epoch 93, loss 0.00864892452955246\n",
      "epoch 94, loss 0.008552390150725842\n",
      "epoch 95, loss 0.008456876501441002\n",
      "epoch 96, loss 0.00836245622485876\n",
      "epoch 97, loss 0.00826906319707632\n",
      "epoch 98, loss 0.00817667506635189\n",
      "epoch 99, loss 0.008085385896265507\n",
      "epoch 100, loss 0.007995115593075752\n",
      "Time 0:00:00.064657"
     ]
    }
   ],
   "source": [
    "if torch.cuda.is_available():\n",
    "    model.cuda()\n",
    "\n",
    "start_time = datetime.datetime.now()\n",
    "epochs = 100\n",
    "\n",
    "for e in range(epochs):\n",
    "    e += 1\n",
    "    \n",
    "    # convert inputs/labels to variables\n",
    "    if torch.cuda.is_available():\n",
    "        inputs = Variable(torch.from_numpy(x_train).cuda())\n",
    "        labels = Variable(torch.from_numpy(y_train).cuda())\n",
    "    else:\n",
    "        inputs = Variable(torch.from_numpy(x_train))\n",
    "        labels = Variable(torch.from_numpy(y_train))\n",
    "    \n",
    "    # clear gradients\n",
    "    optimizer.zero_grad()\n",
    "    \n",
    "    # forward & get output\n",
    "    outputs = model(inputs)\n",
    "    \n",
    "    # calculate loss\n",
    "    loss = criterion(outputs, labels)\n",
    "    \n",
    "    # gradients\n",
    "    loss.backward()\n",
    "    \n",
    "    # update parameters\n",
    "    optimizer.step()\n",
    "    \n",
    "    print('epoch {}, loss {}'.format(e, loss.data.item()))\n",
    "    \n",
    "sys.stdout.write('Time '+ str(datetime.datetime.now() - start_time))"
   ]
  },
  {
   "cell_type": "code",
   "execution_count": null,
   "metadata": {},
   "outputs": [],
   "source": []
  }
 ],
 "metadata": {
  "kernelspec": {
   "display_name": "grace_python",
   "language": "python",
   "name": "grace_jupyter"
  },
  "language_info": {
   "codemirror_mode": {
    "name": "ipython",
    "version": 3
   },
   "file_extension": ".py",
   "mimetype": "text/x-python",
   "name": "python",
   "nbconvert_exporter": "python",
   "pygments_lexer": "ipython3",
   "version": "3.6.7"
  }
 },
 "nbformat": 4,
 "nbformat_minor": 4
}
