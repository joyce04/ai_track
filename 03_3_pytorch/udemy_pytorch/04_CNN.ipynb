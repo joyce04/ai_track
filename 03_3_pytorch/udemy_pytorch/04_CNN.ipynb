{
 "cells": [
  {
   "cell_type": "markdown",
   "metadata": {},
   "source": [
    "## Convolutional NN\n",
    "- additional convolution and pooling layers before FNN\n",
    "![title](resource/cnn.png)"
   ]
  },
  {
   "cell_type": "markdown",
   "metadata": {},
   "source": [
    "![title](resource/cnn_one.png)\n",
    "- 28*28 gray scale image -> 1 Conv layer\n",
    "\n",
    "\n",
    "![title](resource/kernel.png)"
   ]
  },
  {
   "cell_type": "markdown",
   "metadata": {},
   "source": [
    "- kernel is sliding/convolving across the image -> 2 ops per patch\n",
    "     - element-wise multiplication + summation\n",
    "- more kernels = more feature map channels\n",
    ": can capture more information about the input\n",
    "\n",
    "\n",
    "- pooling layer\n",
    "    - max pooling\n",
    "    - average pooling\n",
    "    \n",
    "![title](resource/max_pooling.png)"
   ]
  },
  {
   "cell_type": "markdown",
   "metadata": {},
   "source": [
    "### padding\n",
    "- valid padding = zero padding\n",
    "    - output size < input size\n",
    "![title](resource/padding.png)\n",
    "\n",
    "- same padding\n",
    "    - output size = input size\n",
    "![title](resource/padding2.png)"
   ]
  },
  {
   "cell_type": "markdown",
   "metadata": {},
   "source": [
    "### 1.8 Dimension Calculations\n",
    "- $ O = \\frac {W - K + 2P}{S} + 1$\n",
    "    - $O$: output height/length\n",
    "    - $W$: input height/length\n",
    "    - $K$: filter size (kernel size)\n",
    "    - $P$: padding\n",
    "        - $ P = \\frac{K - 1}{2} $\n",
    "    - $S$: stride"
   ]
  },
  {
   "cell_type": "markdown",
   "metadata": {},
   "source": [
    "#### Example 1: Output Dimension Calculation for Valid Padding\n",
    "\n",
    "- $W = 4$\n",
    "- $K = 3$\n",
    "- $P = 0$\n",
    "- $S = 1$\n",
    "- $O = \\frac {4 - 3 + 2*0}{1} + 1 = \\frac {1}{1} + 1 = 1 + 1 = 2 $\n",
    "\n",
    "-> feature map 2 x 2"
   ]
  },
  {
   "cell_type": "markdown",
   "metadata": {},
   "source": [
    "#### Example 2: Output Dimension Calculation for Same Padding\n",
    "- $W = 5$\n",
    "- $K = 3$\n",
    "- $P = \\frac{3 - 1}{2} = \\frac{2}{2} = 1 $\n",
    "- $S = 1 $\n",
    "- $O = \\frac {5 - 3 + 2*1}{1} + 1 = \\frac {4}{1} + 1 = 5$\n",
    "\n",
    "-> feature map 5 x 5"
   ]
  },
  {
   "cell_type": "markdown",
   "metadata": {},
   "source": [
    "## Build a convoluationNN\n",
    "- model A:\n",
    "    - 2 convolutional layers (same padding)\n",
    "    - 2 max pooling layers\n",
    "    - 1 fully connected layer\n",
    "![title](resource/cnn_1.png)"
   ]
  },
  {
   "cell_type": "code",
   "execution_count": 1,
   "metadata": {},
   "outputs": [],
   "source": [
    "import datetime\n",
    "import sys\n",
    "import torch\n",
    "import torch.nn as nn\n",
    "import torchvision.transforms as transforms\n",
    "import torchvision.datasets as dsets\n",
    "from torch.autograd import Variable"
   ]
  },
  {
   "cell_type": "code",
   "execution_count": 2,
   "metadata": {},
   "outputs": [],
   "source": [
    "train_dataset = dsets.MNIST(root='./data',\n",
    "                           train=True,\n",
    "                           transform=transforms.ToTensor(),\n",
    "                           download=False)\n",
    "test_dataset = dsets.MNIST(root='./data',\n",
    "                           train=False,\n",
    "                           transform=transforms.ToTensor())"
   ]
  },
  {
   "cell_type": "code",
   "execution_count": 3,
   "metadata": {},
   "outputs": [
    {
     "name": "stderr",
     "output_type": "stream",
     "text": [
      "/home/madigun/.pyenv/versions/3.6.7/envs/grace_jupyter/lib/python3.6/site-packages/torchvision/datasets/mnist.py:55: UserWarning: train_data has been renamed data\n",
      "  warnings.warn(\"train_data has been renamed data\")\n"
     ]
    },
    {
     "data": {
      "text/plain": [
       "torch.Size([60000, 28, 28])"
      ]
     },
     "execution_count": 3,
     "metadata": {},
     "output_type": "execute_result"
    }
   ],
   "source": [
    "train_dataset.train_data.size()"
   ]
  },
  {
   "cell_type": "code",
   "execution_count": 4,
   "metadata": {},
   "outputs": [
    {
     "name": "stderr",
     "output_type": "stream",
     "text": [
      "/home/madigun/.pyenv/versions/3.6.7/envs/grace_jupyter/lib/python3.6/site-packages/torchvision/datasets/mnist.py:50: UserWarning: test_labels has been renamed targets\n",
      "  warnings.warn(\"test_labels has been renamed targets\")\n"
     ]
    },
    {
     "data": {
      "text/plain": [
       "torch.Size([10000])"
      ]
     },
     "execution_count": 4,
     "metadata": {},
     "output_type": "execute_result"
    }
   ],
   "source": [
    "test_dataset.test_labels.size()"
   ]
  },
  {
   "cell_type": "code",
   "execution_count": 5,
   "metadata": {},
   "outputs": [],
   "source": [
    "# make dataset iterable\n",
    "batch_size = 100\n",
    "n_iters = 3000\n",
    "num_epochs = int(n_iters / (len(train_dataset) / batch_size))\n",
    "\n",
    "train_loader = torch.utils.data.DataLoader(dataset=train_dataset,\n",
    "                                          batch_size=batch_size,\n",
    "                                          shuffle=True)\n",
    "teset_loader = torch.utils.data.DataLoader(dataset=test_dataset,\n",
    "                                          batch_size=batch_size)"
   ]
  },
  {
   "cell_type": "code",
   "execution_count": 6,
   "metadata": {},
   "outputs": [
    {
     "data": {
      "text/plain": [
       "28.0"
      ]
     },
     "execution_count": 6,
     "metadata": {},
     "output_type": "execute_result"
    }
   ],
   "source": [
    "# output_formula = ((w - k + 2P)/ S) + 1\n",
    "# kernel = 5\n",
    "\n",
    "k = 5\n",
    "# padding = (k - 1) / 2 = (5 - 1)/2 = 2\n",
    "p = 2\n",
    "S = 1\n",
    "o = (28 - 5 + 2*p)/1 + 1\n",
    "o"
   ]
  },
  {
   "cell_type": "markdown",
   "metadata": {},
   "source": [
    "- pooling k = 2\n",
    "- o = w/k\n",
    "\n",
    "![title](resource/cnn_11.png)"
   ]
  },
  {
   "cell_type": "code",
   "execution_count": 7,
   "metadata": {},
   "outputs": [],
   "source": [
    "class CNNModel(nn.Module):\n",
    "    def __init__(self):\n",
    "        super(CNNModel, self).__init__()\n",
    "        \n",
    "        # convolution 1\n",
    "        self.cnn1 = nn.Conv2d(in_channels=1, out_channels=16, # number of kernels = 16 = feature maps\n",
    "                              kernel_size=5, stride=1, padding=2)\n",
    "        self.relu1 = nn.ReLU()\n",
    "        \n",
    "        # max pool 1\n",
    "        self.maxpool1 = nn.MaxPool2d(kernel_size=2)\n",
    "        \n",
    "        # convolution 2\n",
    "        self.cnn2 = nn.Conv2d(in_channels=16, out_channels=32, # 16 feature maps\n",
    "                             kernel_size=5, stride=1, padding=2)\n",
    "        self.relu2 = nn.ReLU()\n",
    "        \n",
    "        # max pool2\n",
    "        self.maxpool2 = nn.MaxPool2d(kernel_size=2)\n",
    "        \n",
    "        # fully connected\n",
    "        self.fc1 = nn.Linear(32 * 7 * 7, 10) \n",
    "        # input dim 32(feature map) * 7 * 7\n",
    "        #output dim = 10\n",
    "    \n",
    "    def forward(self, x):\n",
    "        # conv 1\n",
    "        out = self.relu1(self.cnn1(x))\n",
    "        \n",
    "        #max pool 1\n",
    "        out = self.maxpool1(out)\n",
    "        \n",
    "        # conv 2\n",
    "        out = self.relu2(self.cnn2(out))\n",
    "        \n",
    "        # max pool2\n",
    "        out = self.maxpool2(out)\n",
    "        \n",
    "        # resize!!!! need to flatten\n",
    "        # original size (100, 32, 7, 7)\n",
    "        # out size (100)\n",
    "        # new out size ( 100, 32*7*7)\n",
    "        out = out.view(out.size(0), -1)\n",
    "#         print(out.size())\n",
    "        \n",
    "        return self.fc1(out)"
   ]
  },
  {
   "cell_type": "code",
   "execution_count": 8,
   "metadata": {},
   "outputs": [],
   "source": [
    "model = CNNModel()"
   ]
  },
  {
   "cell_type": "code",
   "execution_count": 9,
   "metadata": {},
   "outputs": [],
   "source": [
    "criterion = nn.CrossEntropyLoss()\n",
    "\n",
    "learning_rate = 0.01\n",
    "optimizer = torch.optim.Adam(model.parameters(), lr=learning_rate)"
   ]
  },
  {
   "cell_type": "code",
   "execution_count": 10,
   "metadata": {},
   "outputs": [
    {
     "data": {
      "text/plain": [
       "6"
      ]
     },
     "execution_count": 10,
     "metadata": {},
     "output_type": "execute_result"
    }
   ],
   "source": [
    "len(list(model.parameters()))"
   ]
  },
  {
   "cell_type": "code",
   "execution_count": 11,
   "metadata": {},
   "outputs": [
    {
     "name": "stdout",
     "output_type": "stream",
     "text": [
      "torch.Size([16, 1, 5, 5])\n",
      "torch.Size([16])\n",
      "torch.Size([32, 16, 5, 5])\n",
      "torch.Size([32])\n",
      "torch.Size([10, 1568])\n",
      "torch.Size([10])\n"
     ]
    }
   ],
   "source": [
    "# convolution 1, 16 kernels\n",
    "print(list(model.parameters())[0].size())\n",
    "\n",
    "# convlution 1 bias, 16 kernels\n",
    "print(list(model.parameters())[1].size())\n",
    "\n",
    "# convolution 2, 32 kernels\n",
    "print(list(model.parameters())[2].size())\n",
    "\n",
    "# convlution 2 bias, 32 kernels\n",
    "print(list(model.parameters())[3].size())\n",
    "\n",
    "# fully connected\n",
    "print(list(model.parameters())[4].size())\n",
    "\n",
    "# fully connected bias\n",
    "print(list(model.parameters())[5].size())"
   ]
  },
  {
   "cell_type": "code",
   "execution_count": 15,
   "metadata": {},
   "outputs": [
    {
     "name": "stdout",
     "output_type": "stream",
     "text": [
      "Iteration: 500. Loss: 0.0390019528567791. Accuracy: 98\n",
      "Iteration: 1000. Loss: 0.0318228118121624. Accuracy: 98\n",
      "Iteration: 1500. Loss: 0.009434083476662636. Accuracy: 97\n",
      "Iteration: 2000. Loss: 0.007331760134547949. Accuracy: 98\n",
      "Iteration: 2500. Loss: 0.004547544755041599. Accuracy: 98\n",
      "Iteration: 3000. Loss: 0.07188664376735687. Accuracy: 98\n",
      "Time 0:01:42.752246"
     ]
    }
   ],
   "source": [
    "# train\n",
    "start_time = datetime.datetime.now()\n",
    "\n",
    "iter = 0\n",
    "for e in range(num_epochs):\n",
    "    for i, (images, labels) in enumerate(train_loader):\n",
    "        images= Variable(images)\n",
    "        labels = Variable(labels)\n",
    "        \n",
    "        optimizer.zero_grad()\n",
    "        \n",
    "        outputs = model(images)\n",
    "        loss = criterion(outputs, labels)\n",
    "        \n",
    "        loss.backward()\n",
    "        \n",
    "        optimizer.step()\n",
    "        \n",
    "        iter += 1\n",
    "        \n",
    "        if iter % 500 == 0:\n",
    "            correct = 0\n",
    "            total = 0\n",
    "            \n",
    "            for images, labels in teset_loader:\n",
    "                images = Variable(images)\n",
    "                outputs = model(images)\n",
    "                \n",
    "                _, predicted = torch.max(outputs.data, 1)\n",
    "                total += labels.size(0)\n",
    "                \n",
    "                correct += (predicted == labels).sum()\n",
    "                \n",
    "            accuracy = 100 * correct/ total\n",
    "            print('Iteration: {}. Loss: {}. Accuracy: {}'.format(iter, loss.item(), accuracy))\n",
    "\n",
    "sys.stdout.write('Time '+ str(datetime.datetime.now() - start_time))"
   ]
  },
  {
   "cell_type": "markdown",
   "metadata": {},
   "source": [
    "## model B\n",
    "\n",
    "- 2 convolutional layers\n",
    "- 2 average pooling layers\n",
    "- 1 fully connected layers"
   ]
  },
  {
   "cell_type": "code",
   "execution_count": 20,
   "metadata": {},
   "outputs": [],
   "source": [
    "class CNNModel_wa(nn.Module):\n",
    "    def __init__(self):\n",
    "        super(CNNModel_wa, self).__init__()\n",
    "        \n",
    "        # convolution 1\n",
    "        self.cnn1 = nn.Conv2d(in_channels=1, out_channels=16, # number of kernels = 16 = feature maps\n",
    "                              kernel_size=5, stride=1, padding=2)\n",
    "        self.relu1 = nn.ReLU()\n",
    "        \n",
    "        # avg pool 1\n",
    "        self.avgpool1 = nn.AvgPool2d(kernel_size=2)\n",
    "        \n",
    "        # convolution 2\n",
    "        self.cnn2 = nn.Conv2d(in_channels=16, out_channels=32, # 16 feature maps\n",
    "                             kernel_size=5, stride=1, padding=2)\n",
    "        self.relu2 = nn.ReLU()\n",
    "        \n",
    "        # avg pool2\n",
    "        self.avgpool2 = nn.AvgPool2d(kernel_size=2)\n",
    "        \n",
    "        # fully connected\n",
    "        self.fc1 = nn.Linear(32 * 7 * 7, 10) \n",
    "        # input dim 32(feature map) * 7 * 7\n",
    "        #output dim = 10\n",
    "    \n",
    "    def forward(self, x):\n",
    "        # conv 1\n",
    "        out = self.relu1(self.cnn1(x))\n",
    "        \n",
    "        # pool 1\n",
    "        out = self.avgpool1(out)\n",
    "        \n",
    "        # conv 2\n",
    "        out = self.relu2(self.cnn2(out))\n",
    "        \n",
    "        # pool2\n",
    "        out = self.avgpool2(out)\n",
    "        \n",
    "        # resize!!!! need to flatten\n",
    "        # original size (100, 32, 7, 7)\n",
    "        # out size (100)\n",
    "        # new out size ( 100, 32*7*7)\n",
    "        out = out.view(out.size(0), -1)\n",
    "#         print(out.size())\n",
    "        \n",
    "        return self.fc1(out)"
   ]
  },
  {
   "cell_type": "code",
   "execution_count": 23,
   "metadata": {},
   "outputs": [
    {
     "name": "stdout",
     "output_type": "stream",
     "text": [
      "Iteration: 500. Loss: 0.357828289270401. Accuracy: 96\n",
      "Iteration: 1000. Loss: 0.1261773407459259. Accuracy: 97\n",
      "Iteration: 1500. Loss: 0.059222232550382614. Accuracy: 98\n",
      "Iteration: 2000. Loss: 0.04335835948586464. Accuracy: 98\n",
      "Iteration: 2500. Loss: 0.2807896137237549. Accuracy: 98\n",
      "Iteration: 3000. Loss: 0.1934695839881897. Accuracy: 98\n",
      "Time 0:01:42.567814"
     ]
    }
   ],
   "source": [
    "model = CNNModel_wa()\n",
    "criterion = nn.CrossEntropyLoss()\n",
    "optimizer = torch.optim.Adam(model.parameters())\n",
    "\n",
    "# train\n",
    "start_time = datetime.datetime.now()\n",
    "\n",
    "iter = 0\n",
    "for e in range(num_epochs):\n",
    "    for i, (images, labels) in enumerate(train_loader):\n",
    "        images= Variable(images)\n",
    "        labels = Variable(labels)\n",
    "        \n",
    "        optimizer.zero_grad()\n",
    "        \n",
    "        outputs = model(images)\n",
    "        loss = criterion(outputs, labels)\n",
    "        \n",
    "        loss.backward()\n",
    "        \n",
    "        optimizer.step()\n",
    "        \n",
    "        iter += 1\n",
    "        \n",
    "        if iter % 500 == 0:\n",
    "            correct = 0\n",
    "            total = 0\n",
    "            \n",
    "            for images, labels in teset_loader:\n",
    "                images = Variable(images)\n",
    "                outputs = model(images)\n",
    "                \n",
    "                _, predicted = torch.max(outputs.data, 1)\n",
    "                total += labels.size(0)\n",
    "                \n",
    "                correct += (predicted == labels).sum()\n",
    "                \n",
    "            accuracy = 100 * correct/ total\n",
    "            print('Iteration: {}. Loss: {}. Accuracy: {}'.format(iter, loss.item(), accuracy))\n",
    "\n",
    "sys.stdout.write('Time '+ str(datetime.datetime.now() - start_time))"
   ]
  },
  {
   "cell_type": "markdown",
   "metadata": {},
   "source": [
    "max pooling test accuracy > average pooling test accuracy\n",
    "\n",
    "## model C\n",
    "\n",
    "- 2 convolutional layers (valid padding)\n",
    "- 2 max pooling\n",
    "- 1 fully connected\n",
    "\n",
    "![title](resource/cnn_2.png)"
   ]
  },
  {
   "cell_type": "code",
   "execution_count": 26,
   "metadata": {},
   "outputs": [],
   "source": [
    "# o = ((28 - 5 + 0) / 1) + 1 = 24\n",
    "\n",
    "class CNNModel_wvp(nn.Module):\n",
    "    def __init__(self):\n",
    "        super(CNNModel_wvp, self).__init__()\n",
    "        \n",
    "        self.conv1 = nn.Conv2d(in_channels=1,\n",
    "                              out_channels=16,\n",
    "                              kernel_size=5,\n",
    "                              stride=1,\n",
    "                              padding=0)\n",
    "        self.relu1 = nn.ReLU()\n",
    "        self.maxpoo1 = nn.MaxPool2d(kernel_size=2)\n",
    "        \n",
    "        self.conv2 = nn.Conv2d(in_channels=16,\n",
    "                              out_channels=32,\n",
    "                              kernel_size=5,\n",
    "                              stride=1,\n",
    "                              padding=0)\n",
    "        self.relu2 = nn.ReLU()\n",
    "        self.maxpoo2 = nn.MaxPool2d(kernel_size=2)\n",
    "        \n",
    "        self.fc1 = nn.Linear(32*4*4, 10)\n",
    "        \n",
    "    def forward(self, x):\n",
    "        out = self.relu1(self.conv1(x))\n",
    "        out = self.maxpoo1(out)\n",
    "        \n",
    "        out = self.relu2(self.conv2(out))\n",
    "        out = self.maxpoo2(out)\n",
    "        \n",
    "        out = out.view(out.size(0), -1)\n",
    "        \n",
    "        return self.fc1(out)"
   ]
  },
  {
   "cell_type": "code",
   "execution_count": 27,
   "metadata": {},
   "outputs": [
    {
     "name": "stdout",
     "output_type": "stream",
     "text": [
      "Iteration: 500. Loss: 0.14758828282356262. Accuracy: 96\n",
      "Iteration: 1000. Loss: 0.03974378481507301. Accuracy: 98\n",
      "Iteration: 1500. Loss: 0.027911577373743057. Accuracy: 98\n",
      "Iteration: 2000. Loss: 0.012288711965084076. Accuracy: 98\n",
      "Iteration: 2500. Loss: 0.04452335461974144. Accuracy: 98\n",
      "Iteration: 3000. Loss: 0.00675430940464139. Accuracy: 98\n",
      "Time 0:01:27.655863"
     ]
    }
   ],
   "source": [
    "model = CNNModel_wvp()\n",
    "criterion = nn.CrossEntropyLoss()\n",
    "optimizer = torch.optim.Adam(model.parameters())\n",
    "\n",
    "# train\n",
    "start_time = datetime.datetime.now()\n",
    "\n",
    "iter = 0\n",
    "for e in range(num_epochs):\n",
    "    for i, (images, labels) in enumerate(train_loader):\n",
    "        images= Variable(images)\n",
    "        labels = Variable(labels)\n",
    "        \n",
    "        optimizer.zero_grad()\n",
    "        \n",
    "        outputs = model(images)\n",
    "        loss = criterion(outputs, labels)\n",
    "        \n",
    "        loss.backward()\n",
    "        \n",
    "        optimizer.step()\n",
    "        \n",
    "        iter += 1\n",
    "        \n",
    "        if iter % 500 == 0:\n",
    "            correct = 0\n",
    "            total = 0\n",
    "            \n",
    "            for images, labels in teset_loader:\n",
    "                images = Variable(images)\n",
    "                outputs = model(images)\n",
    "                \n",
    "                _, predicted = torch.max(outputs.data, 1)\n",
    "                total += labels.size(0)\n",
    "                \n",
    "                correct += (predicted == labels).sum()\n",
    "                \n",
    "            accuracy = 100 * correct/ total\n",
    "            print('Iteration: {}. Loss: {}. Accuracy: {}'.format(iter, loss.item(), accuracy))\n",
    "\n",
    "sys.stdout.write('Time '+ str(datetime.datetime.now() - start_time))"
   ]
  },
  {
   "cell_type": "markdown",
   "metadata": {},
   "source": [
    "- ways to expand a convolutional NN\n",
    "    - more convolutional layers\n",
    "    - less aggressive downsampling (smaller kernel size)\n",
    "    - more fully connected layers\n",
    "    \n",
    "    - con : need a larger dataset\n",
    "        - does not necessarily mean higher accuracy"
   ]
  },
  {
   "cell_type": "code",
   "execution_count": 31,
   "metadata": {},
   "outputs": [
    {
     "name": "stdout",
     "output_type": "stream",
     "text": [
      "Iteration: 500. Loss: 0.11380062997341156. Accuracy: 97\n",
      "Iteration: 1000. Loss: 0.056805793195962906. Accuracy: 98\n",
      "Iteration: 1500. Loss: 0.019140100106596947. Accuracy: 98\n",
      "Iteration: 2000. Loss: 0.11289659142494202. Accuracy: 98\n",
      "Iteration: 2500. Loss: 0.0036157798022031784. Accuracy: 98\n",
      "Iteration: 3000. Loss: 0.026368223130702972. Accuracy: 98\n",
      "Time 0:01:52.323294"
     ]
    }
   ],
   "source": [
    "model = CNNModel()\n",
    "device = torch.device(\"cuda:0\" if torch.cuda.is_available() else \"cpu\")\n",
    "model.to(device)\n",
    "\n",
    "criterion = nn.CrossEntropyLoss()\n",
    "optimizer = torch.optim.Adam(model.parameters())\n",
    "\n",
    "# train\n",
    "start_time = datetime.datetime.now()\n",
    "\n",
    "iter = 0\n",
    "for e in range(num_epochs):\n",
    "    for i, (images, labels) in enumerate(train_loader):\n",
    "        images= Variable(images).requires_grad_().to(device)\n",
    "        labels = Variable(labels).to(device)\n",
    "        \n",
    "        optimizer.zero_grad()\n",
    "        \n",
    "        outputs = model(images)\n",
    "        loss = criterion(outputs, labels)\n",
    "        \n",
    "        loss.backward()\n",
    "        \n",
    "        optimizer.step()\n",
    "        \n",
    "        iter += 1\n",
    "        \n",
    "        if iter % 500 == 0:\n",
    "            correct = 0\n",
    "            total = 0\n",
    "            \n",
    "            for images, labels in teset_loader:\n",
    "                images = Variable(images)\n",
    "                outputs = model(images)\n",
    "                \n",
    "                _, predicted = torch.max(outputs.data, 1)\n",
    "                total += labels.size(0)\n",
    "                \n",
    "                correct += (predicted.cpu() == labels.cpu()).sum()\n",
    "                \n",
    "            accuracy = 100 * correct/ total\n",
    "            print('Iteration: {}. Loss: {}. Accuracy: {}'.format(iter, loss.item(), accuracy))\n",
    "\n",
    "sys.stdout.write('Time '+ str(datetime.datetime.now() - start_time))"
   ]
  },
  {
   "cell_type": "code",
   "execution_count": null,
   "metadata": {},
   "outputs": [],
   "source": []
  }
 ],
 "metadata": {
  "kernelspec": {
   "display_name": "grace_python",
   "language": "python",
   "name": "grace_jupyter"
  },
  "language_info": {
   "codemirror_mode": {
    "name": "ipython",
    "version": 3
   },
   "file_extension": ".py",
   "mimetype": "text/x-python",
   "name": "python",
   "nbconvert_exporter": "python",
   "pygments_lexer": "ipython3",
   "version": "3.6.7"
  }
 },
 "nbformat": 4,
 "nbformat_minor": 4
}
