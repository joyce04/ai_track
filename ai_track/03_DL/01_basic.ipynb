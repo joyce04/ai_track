{
 "cells": [
  {
   "cell_type": "markdown",
   "metadata": {},
   "source": [
    "## Categories of ML Problems\n",
    "\n",
    "![image](resource/categories_ml.png)\n",
    "\n",
    "\n",
    "- clustering: automatic grouping of instances, such that the instances that belong to the same clusters are more similar to each other than to those in the other groups"
   ]
  },
  {
   "cell_type": "markdown",
   "metadata": {},
   "source": [
    "### 1. Linear Regression\n",
    "\n",
    "- Cost function : 제곱을 취해서 (+/-)값으로 인해 cost function의 값이 잘못 계산되는 것을 방지.\n",
    "    - 실제 계산시에는 W, b를 인자로 받아서 cost function을 계산하기 때문에\n",
    "    \\begin{align}\n",
    "    cost(W, b) = \\frac{1}{m} \\sum_{i=1}^m (H(x^{(i)}) - y^{(i)})^2 \\\\\n",
    "    \\end{align}\n",
    "    \n",
    "    - Goal : Minimize cost"
   ]
  },
  {
   "cell_type": "markdown",
   "metadata": {},
   "source": [
    "- Gradient Descent \n",
    "    - start with initial guesses -> keep changing W and b and reduce cost(W,b). Each time changing the parameters, select the gradient which reduces cost(W, b) the most possible -> repeat until converge\n",
    "    \n",
    "    \\begin{align}\n",
    "    W := W - \\alpha \\frac{\\partial}{\\partial W} \\frac{1}{2m} \\sum_{i=1}^m (Wx^{(i)} - y^{(i)})^2 \\\\\n",
    "     W := W - \\alpha \\frac{1}{2m} \\sum_{i=1}^m 2(Wx^{(i)} - y^{(i)})x^{(i)} \\\\\n",
    "     W := W - \\alpha \\frac{1}{m} \\sum_{i=1}^m (Wx^{(i)} - y^{(i)})x^{(i)} \\\\\n",
    "    \\end{align}"
   ]
  },
  {
   "cell_type": "markdown",
   "metadata": {},
   "source": [
    "### 2. Multi-linear Regression\n",
    "\n",
    "- cost function\n",
    "   \\begin{align}\n",
    "   cost(W, b) = \\frac{1}{m} \\sum_{i=1}^m (H(x^{(i)}_1, x^{(i)}_2, x^{(i)}_3) - y^{(i)})^2 \\\\\n",
    "   \\end{align}"
   ]
  },
  {
   "cell_type": "code",
   "execution_count": null,
   "metadata": {},
   "outputs": [],
   "source": []
  }
 ],
 "metadata": {
  "kernelspec": {
   "display_name": "Python 3",
   "language": "python",
   "name": "python3"
  },
  "language_info": {
   "codemirror_mode": {
    "name": "ipython",
    "version": 3
   },
   "file_extension": ".py",
   "mimetype": "text/x-python",
   "name": "python",
   "nbconvert_exporter": "python",
   "pygments_lexer": "ipython3",
   "version": "3.7.6"
  }
 },
 "nbformat": 4,
 "nbformat_minor": 4
}
