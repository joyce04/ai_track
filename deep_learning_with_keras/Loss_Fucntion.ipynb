{
 "cells": [
  {
   "cell_type": "markdown",
   "metadata": {},
   "source": [
    "# Loss Function\n",
    "\n",
    "- 정확도\n",
    "    - binary_accuracy : 이진\n",
    "    - categorical_accuracy : 다범주\n",
    "    - sparse_categorical : 희소한 대상에 대해\n",
    "    - top_k_categorical : top_k안에 목적 범주가 포함됐을 때\n",
    "    \n",
    "- 오차 손실\n",
    "    - mse : 예측한 값과 목표 값 사이의 평균 제곱 오차\n",
    "    - rmse : 예측한 값과 목표 값 사이의 평균 제곱근 오차\n",
    "    - mae : 예측한 값과 목표 값 사이의 평균 절대값 오차\n",
    "    - mape : 예측한 값과 목표 값 사이의 평균 오차 백분율 값\n",
    "    - msle : 예측한 값과 목표 값 사이의 평균 제곱 로그 오차"
   ]
  },
  {
   "cell_type": "code",
   "execution_count": null,
   "metadata": {},
   "outputs": [],
   "source": []
  }
 ],
 "metadata": {
  "kernelspec": {
   "display_name": "Python 3",
   "language": "python",
   "name": "python3"
  },
  "language_info": {
   "codemirror_mode": {
    "name": "ipython",
    "version": 3
   },
   "file_extension": ".py",
   "mimetype": "text/x-python",
   "name": "python",
   "nbconvert_exporter": "python",
   "pygments_lexer": "ipython3",
   "version": "3.6.4"
  }
 },
 "nbformat": 4,
 "nbformat_minor": 2
}
