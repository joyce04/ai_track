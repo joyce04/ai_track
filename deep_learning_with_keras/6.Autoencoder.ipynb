{
 "cells": [
  {
   "cell_type": "markdown",
   "metadata": {},
   "source": [
    "### Autoencoder\n",
    "\n",
    ": 역전파를 이용해 입력 변수와 목적 변수를 동일한 값으로 넣고 다시 복원하려는 신경망 종류\n",
    "- 오토인코더의 은닉 유닛들의 개수는 일반적으로 입력 변수보다 적으며, 이 특징은 인코더에게 디코더가 원복하려고 하는 입력 변수의 간결한 표현을 학습하게 강요한다. "
   ]
  }
 ],
 "metadata": {
  "kernelspec": {
   "display_name": "Python 3",
   "language": "python",
   "name": "python3"
  },
  "language_info": {
   "codemirror_mode": {
    "name": "ipython",
    "version": 3
   },
   "file_extension": ".py",
   "mimetype": "text/x-python",
   "name": "python",
   "nbconvert_exporter": "python",
   "pygments_lexer": "ipython3",
   "version": "3.5.2"
  }
 },
 "nbformat": 4,
 "nbformat_minor": 2
}
