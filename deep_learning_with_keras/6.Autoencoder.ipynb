{
 "cells": [
  {
   "cell_type": "markdown",
   "metadata": {},
   "source": [
    "### Autoencoder\n",
    "\n",
    ": 역전파를 이용해 입력 변수와 목적 변수를 동일한 값으로 넣고 다시 복원하려는 신경망 종류\n",
    "- 오토인코더의 은닉 유닛들의 개수는 일반적으로 입력 변수보다 적으며, 이 특징은 인코더에게 디코더가 원복하려고 하는 입력 변수의 간결한 표현을 학습하게 강요한다. 입력 변수들 간의 상관관계가 있다면 결국 주성분 분석(PCA)를 사용해 학습된 것과 비슷하게 저차원의 테이터 표현이 된다.\n",
    "- 인코더 구성 요소를 사용해 입력을 압축해 표현한다.\n",
    "- Stacked autoencoder는 풍부한 표현력을 가지며 연속적인 표현 계층들은 합성곱 신경망에서의 합성곱과 풀링 연산 비슷하게 입력의 계층적인 그룹을 잡아낸다.\n",
    "- denosing autoencoder\n",
    "- variational autoencoder : http://alexadam.ca/ml/2017/05/05/keras-vae.html"
   ]
  },
  {
   "cell_type": "code",
   "execution_count": null,
   "metadata": {},
   "outputs": [],
   "source": [
    "from keras.layers.core import Dense, Dropout, SpatialDropout1D\n",
    "from keras.layers.convolutional import Conv1D\n",
    "from keras.layers.embeddings import Embedding\n",
    "from keras.layers.pooling import GlobalMaxPooling1D\n",
    "from keras.models import Sequential\n",
    "from sklearn.model_selection import train_test_split\n",
    "import matplotlib.pyplot as plt\n",
    "import numpy as np\n",
    "import collections"
   ]
  },
  {
   "cell_type": "code",
   "execution_count": null,
   "metadata": {},
   "outputs": [],
   "source": [
    "np.random.seed(2019)"
   ]
  },
  {
   "cell_type": "code",
   "execution_count": null,
   "metadata": {},
   "outputs": [],
   "source": [
    "# from keras.datasets import reuters\n",
    "\n",
    "from nltk.corpus import reuters\n",
    "import numpy as np"
   ]
  },
  {
   "cell_type": "code",
   "execution_count": null,
   "metadata": {},
   "outputs": [],
   "source": [
    "# words with frequency rank of 1-3000\n",
    "(X_train, Y_train), (X_test, Y_test) = reuters.load_data(num_words=5000, test_split=0.2)"
   ]
  },
  {
   "cell_type": "code",
   "execution_count": null,
   "metadata": {},
   "outputs": [],
   "source": [
    "X_train.shape"
   ]
  },
  {
   "cell_type": "code",
   "execution_count": null,
   "metadata": {},
   "outputs": [],
   "source": [
    "category = np.max(Y_train)+1\n",
    "category"
   ]
  },
  {
   "cell_type": "code",
   "execution_count": null,
   "metadata": {},
   "outputs": [],
   "source": [
    "MAX_LEN = 500\n",
    "vocab_size = 5000\n",
    "embed_size = MAX_LEN\n",
    "window_size = 1\n",
    "BATCH_SIZE = 100\n",
    "NUM_EPOCHS= 20\n",
    "\n",
    "LATENT_SIZE = 10"
   ]
  },
  {
   "cell_type": "code",
   "execution_count": null,
   "metadata": {},
   "outputs": [],
   "source": [
    "from nltk.corpus import stopwords\n",
    "\n",
    "def trim(word):\n",
    "    word = word.lower().strip()\n",
    "    if word not in stopwords:\n",
    "        return word\n",
    "    else :\n",
    "        return ''\n",
    "    \n",
    "def build_vocab(vocab_size):\n",
    "    words = reuters.words()\n",
    "    words = list(filter(lambda x: x.strip(), map(lambda x: trim(x), words)))\n",
    "    \n",
    "build_vocab(vocab_size)"
   ]
  },
  {
   "cell_type": "code",
   "execution_count": null,
   "metadata": {},
   "outputs": [],
   "source": [
    "from keras.preprocessing import sequence\n",
    "\n",
    "x_train = sequence.pad_sequences(X_train, maxlen=MAX_LEN)\n",
    "x_test = sequence.pad_sequences(X_test, maxlen=MAX_LEN)"
   ]
  },
  {
   "cell_type": "code",
   "execution_count": null,
   "metadata": {},
   "outputs": [],
   "source": [
    "from keras.utils import np_utils\n",
    "\n",
    "y_train = np_utils.to_categorical(Y_train)\n",
    "y_test = np_utils.to_categorical(Y_test)"
   ]
  },
  {
   "cell_type": "code",
   "execution_count": null,
   "metadata": {},
   "outputs": [],
   "source": []
  },
  {
   "cell_type": "markdown",
   "metadata": {},
   "source": [
    "### Autoencoder"
   ]
  },
  {
   "cell_type": "code",
   "execution_count": null,
   "metadata": {},
   "outputs": [],
   "source": [
    "from keras.layers import Input\n",
    "from keras.layers.recurrent import LSTM\n",
    "from keras.layers.wrappers import Bidirectional\n",
    "from keras.layers.core import RepeatVector\n",
    "from keras.models import Model\n",
    "\n",
    "inputs = Input(shape=(MAX_LEN, embed_size), name='input')\n",
    "encoded = Bidirectional(LSTM(LATENT_SIZE), merge_mode='sum', name='encoder_lstm')(inputs)\n",
    "decoded = RepeatVector(MAX_LEN, name='repeater')(encoded)\n",
    "decoded = Bidirectional(LSTM(embed_size, return_sequences=True), merge_mode='sum', name='dncoder_lstm')(decoded)\n",
    "\n",
    "autoencoder = Model(inputs, decoded)\n",
    "autoencoder.compile(optimizer='sgd', loss='mse')"
   ]
  },
  {
   "cell_type": "code",
   "execution_count": null,
   "metadata": {},
   "outputs": [],
   "source": [
    "hiotory = autoencoder.fit(x_train,\\\n",
    "#                                    steps_per_epoch=BATCH_SIZE,\\\n",
    "                                   epochs=NUM_EPOCHS,\\\n",
    "                                   validation_data=x_test)\n",
    "#                                    validation_steps=BATCH_SIZE)"
   ]
  },
  {
   "cell_type": "markdown",
   "metadata": {},
   "source": [
    "오코인코더를 실행해 예측한 임베딩을 구한다. 코사인유사도를 사용해 두 벡터를 비교한다."
   ]
  },
  {
   "cell_type": "code",
   "execution_count": null,
   "metadata": {},
   "outputs": [],
   "source": [
    "encoder = Model(autoencoder.input, autoencoder.get_layer('encoder_lstm').output)"
   ]
  },
  {
   "cell_type": "code",
   "execution_count": null,
   "metadata": {},
   "outputs": [],
   "source": [
    "def compute_cosine_similarity(x, y):\n",
    "    return np.dot(x, y) / (np.linalg.norm(x, 2) * np.linalg.norm(y, 2))"
   ]
  },
  {
   "cell_type": "code",
   "execution_count": null,
   "metadata": {},
   "outputs": [],
   "source": [
    "k = 500\n",
    "cosims = np.zeros((k))\n",
    "i = 0\n",
    "\n",
    "for i in range(len(x_test)):\n",
    "    x= x_test[i]\n",
    "    y = Y_test[i]\n",
    "    \n",
    "    _y = autoencoder.predict(x)\n",
    "    x_vec = encoder.predict(x)\n",
    "    y_vec = encoder.predict(_y)\n",
    "    \n",
    "    for rid in range(x_vec.shape[0]):\n",
    "        if i>=k:\n",
    "            break\n",
    "        cosims[i] = compute_cosine_similarity(x_vec[rid], y_vec[rid])\n",
    "        \n",
    "        if i <= 10:\n",
    "            print(cosims[i])\n",
    "            i +=1\n",
    "        if i >= k:\n",
    "            break"
   ]
  },
  {
   "cell_type": "code",
   "execution_count": null,
   "metadata": {},
   "outputs": [],
   "source": []
  }
 ],
 "metadata": {
  "kernelspec": {
   "display_name": "Python 3",
   "language": "python",
   "name": "python3"
  },
  "language_info": {
   "codemirror_mode": {
    "name": "ipython",
    "version": 3
   },
   "file_extension": ".py",
   "mimetype": "text/x-python",
   "name": "python",
   "nbconvert_exporter": "python",
   "pygments_lexer": "ipython3",
   "version": "3.5.2"
  }
 },
 "nbformat": 4,
 "nbformat_minor": 2
}
