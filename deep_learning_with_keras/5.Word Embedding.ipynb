{
 "cells": [
  {
   "cell_type": "markdown",
   "metadata": {},
   "source": [
    "### 5.Word Embedding / 단어 임베딩\n",
    "\n",
    "- TF-IDF\n",
    "- LSA, Latent Semantic Analysis\n",
    "- Topic Modeling\n",
    "\n",
    "\n",
    "- distributed representation\n",
    "    - Dai, Andrew M., Christopher Olah, and Quoc V. Le. \"Document embedding with paragraph vectors.\" arXiv preprint arXiv:1507.07998 (2015).\n",
    "    \n",
    "    - word2vec (CBOW -주변 단어의 윈도우 상에서 현재 단어 예측, Skip-gram -중심 단어를 기반으로 주변단어 예측)"
   ]
  },
  {
   "cell_type": "code",
   "execution_count": 2,
   "metadata": {},
   "outputs": [],
   "source": [
    "from keras.layers import Merge\n",
    "from keras.layers.core import Dense, Reshape\n",
    "from keras.layers.embeddings import Embedding\n",
    "from keras.models import Sequential"
   ]
  },
  {
   "cell_type": "code",
   "execution_count": 3,
   "metadata": {},
   "outputs": [],
   "source": [
    "vocab_size = 5000\n",
    "embed_size = 300"
   ]
  },
  {
   "cell_type": "code",
   "execution_count": 4,
   "metadata": {},
   "outputs": [],
   "source": [
    "# 입력 = 어휘집에 있는 단어 ID\n",
    "word_model = Sequential()\n",
    "word_model.add(Embedding(vocab_size, embed_size, input_length=1))\n",
    "word_model.add(Reshape((embed_size,)))"
   ]
  },
  {
   "cell_type": "code",
   "execution_count": null,
   "metadata": {},
   "outputs": [],
   "source": []
  }
 ],
 "metadata": {
  "kernelspec": {
   "display_name": "Python 3",
   "language": "python",
   "name": "python3"
  },
  "language_info": {
   "codemirror_mode": {
    "name": "ipython",
    "version": 3
   },
   "file_extension": ".py",
   "mimetype": "text/x-python",
   "name": "python",
   "nbconvert_exporter": "python",
   "pygments_lexer": "ipython3",
   "version": "3.6.4"
  }
 },
 "nbformat": 4,
 "nbformat_minor": 2
}
