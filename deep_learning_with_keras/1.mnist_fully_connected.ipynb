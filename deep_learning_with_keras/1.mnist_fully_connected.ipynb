{
 "cells": [
  {
   "cell_type": "code",
   "execution_count": 1,
   "metadata": {},
   "outputs": [
    {
     "name": "stderr",
     "output_type": "stream",
     "text": [
      "/Users/grace/workspace/keras/venv/lib/python3.6/site-packages/h5py/__init__.py:36: FutureWarning: Conversion of the second argument of issubdtype from `float` to `np.floating` is deprecated. In future, it will be treated as `np.float64 == np.dtype(float).type`.\n",
      "  from ._conv import register_converters as _register_converters\n",
      "Using TensorFlow backend.\n",
      "/Users/grace/workspace/keras/venv/lib/python3.6/importlib/_bootstrap.py:219: RuntimeWarning: compiletime version 3.5 of module 'tensorflow.python.framework.fast_tensor_util' does not match runtime version 3.6\n",
      "  return f(*args, **kwds)\n"
     ]
    }
   ],
   "source": [
    "from __future__ import print_function\n",
    "import numpy as np\n",
    "from keras.datasets import mnist\n",
    "from keras import regularizers\n",
    "from keras.models import Sequential\n",
    "from keras.layers.core import Dense, Activation, Dropout\n",
    "from keras.optimizers import SGD, Adam, RMSprop\n",
    "from keras.utils import np_utils\n",
    "np.random.seed(2018)"
   ]
  },
  {
   "cell_type": "code",
   "execution_count": 2,
   "metadata": {},
   "outputs": [],
   "source": [
    "nb_epoch = 50 # 전체 데이터셋을 학습한 횟수\n",
    "batch_size = 128 # optimizer가 가중치 업데이트를 하는 데이터의 수\n",
    "verbose = 1\n",
    "nb_classes = 10 #(0-9 numbers)\n",
    "optimizer = Adam()#SGD()\n",
    "n_hidden = 128\n",
    "validation_split = 0.2"
   ]
  },
  {
   "cell_type": "markdown",
   "metadata": {},
   "source": [
    "## load data"
   ]
  },
  {
   "cell_type": "code",
   "execution_count": 3,
   "metadata": {},
   "outputs": [],
   "source": [
    "(X_train, y_train), (X_test, y_test) = mnist.load_data()"
   ]
  },
  {
   "cell_type": "code",
   "execution_count": 4,
   "metadata": {},
   "outputs": [
    {
     "data": {
      "text/plain": [
       "(60000, 28, 28)"
      ]
     },
     "execution_count": 4,
     "metadata": {},
     "output_type": "execute_result"
    }
   ],
   "source": [
    "X_train.shape"
   ]
  },
  {
   "cell_type": "code",
   "execution_count": 5,
   "metadata": {},
   "outputs": [
    {
     "data": {
      "text/plain": [
       "(10000, 28, 28)"
      ]
     },
     "execution_count": 5,
     "metadata": {},
     "output_type": "execute_result"
    }
   ],
   "source": [
    "X_test.shape"
   ]
  },
  {
   "cell_type": "markdown",
   "metadata": {},
   "source": [
    "## Preprocess"
   ]
  },
  {
   "cell_type": "code",
   "execution_count": 6,
   "metadata": {},
   "outputs": [],
   "source": [
    "reshape = 28*28\n",
    "X_train = X_train.reshape(60000, reshape)\n",
    "X_train = X_train.astype('float32')\n",
    "X_test = X_test.reshape(10000, reshape)\n",
    "X_test = X_test.astype('float32')"
   ]
  },
  {
   "cell_type": "code",
   "execution_count": 7,
   "metadata": {},
   "outputs": [],
   "source": [
    "y_train = np_utils.to_categorical(y_train, nb_classes)\n",
    "y_test = np_utils.to_categorical(y_test, nb_classes)"
   ]
  },
  {
   "cell_type": "markdown",
   "metadata": {},
   "source": [
    "## Regularization"
   ]
  },
  {
   "cell_type": "code",
   "execution_count": 8,
   "metadata": {},
   "outputs": [],
   "source": [
    "# regularize to 0-1\n",
    "X_train /= 255\n",
    "X_test /= 255"
   ]
  },
  {
   "cell_type": "markdown",
   "metadata": {},
   "source": [
    "## Model"
   ]
  },
  {
   "cell_type": "markdown",
   "metadata": {},
   "source": [
    "- without hidden layer 92%\n",
    "- with hidden layer 94%\n",
    "- with dropout 97%\n",
    "\n",
    "\n",
    "optimizer\n",
    "- SGD\n",
    "- RMSprop\n",
    "- Adam : 여기서는 아담이 제일 빠르고 제일 성능이 좋음"
   ]
  },
  {
   "cell_type": "markdown",
   "metadata": {},
   "source": [
    "## Dropout\n",
    "\n",
    "#### keras.layers.core.Dropout(rate, noise_shape=, seed=)\n",
    "- rate : 드롭아웃을 적용할 입력 유닛의 비율\n",
    "- noise_shape : 드롭아웃 마스크 형태"
   ]
  },
  {
   "cell_type": "markdown",
   "metadata": {},
   "source": [
    "## Regularization: 과적합을 방지하는 방법\n",
    "\n",
    "- kernel_regularizer : 가중치 행렬에 적용되는 일반화 함수\n",
    "    - L1 (lasso): 모델의 복잡도를 가중치의 절댓값의 합으로\n",
    "    - L2 (ridge): 가중치의 제곱 합으로\n",
    "    - Elastic net: hybrid\n",
    "- bias_regularizer : 바이어스 벡터에 적용되는 일반화 함수\n",
    "- activity_regularizer : 계층의 출력에 적용되는 일반화 함수\n",
    "- dropout"
   ]
  },
  {
   "cell_type": "code",
   "execution_count": 9,
   "metadata": {},
   "outputs": [
    {
     "name": "stdout",
     "output_type": "stream",
     "text": [
      "WARNING:tensorflow:From /Users/grace/workspace/keras/venv/lib/python3.6/site-packages/keras/backend/tensorflow_backend.py:1188: calling reduce_sum (from tensorflow.python.ops.math_ops) with keep_dims is deprecated and will be removed in a future version.\n",
      "Instructions for updating:\n",
      "keep_dims is deprecated, use keepdims instead\n",
      "_________________________________________________________________\n",
      "Layer (type)                 Output Shape              Param #   \n",
      "=================================================================\n",
      "dense_1 (Dense)              (None, 128)               100480    \n",
      "_________________________________________________________________\n",
      "activation_1 (Activation)    (None, 128)               0         \n",
      "_________________________________________________________________\n",
      "dropout_1 (Dropout)          (None, 128)               0         \n",
      "_________________________________________________________________\n",
      "dense_2 (Dense)              (None, 128)               16512     \n",
      "_________________________________________________________________\n",
      "activation_2 (Activation)    (None, 128)               0         \n",
      "_________________________________________________________________\n",
      "dropout_2 (Dropout)          (None, 128)               0         \n",
      "_________________________________________________________________\n",
      "dense_3 (Dense)              (None, 10)                1290      \n",
      "_________________________________________________________________\n",
      "activation_3 (Activation)    (None, 10)                0         \n",
      "=================================================================\n",
      "Total params: 118,282\n",
      "Trainable params: 118,282\n",
      "Non-trainable params: 0\n",
      "_________________________________________________________________\n"
     ]
    }
   ],
   "source": [
    "# hidden layer shape\n",
    "n_hidden = 128\n",
    "# dropout\n",
    "dropout = 0.3\n",
    "\n",
    "model = Sequential()\n",
    "model.add(Dense(n_hidden, input_shape=(reshape,)))\n",
    "#hidden layer\n",
    "model.add(Activation('relu'))\n",
    "model.add(Dropout(dropout))\n",
    "model.add(Dense(n_hidden))\n",
    "model.add(Activation('relu'))\n",
    "model.add(Dropout(dropout))\n",
    "model.add(Dense(nb_classes, kernel_regularizer=regularizers.l2(0.01)))\n",
    "#\n",
    "model.add(Activation('softmax'))\n",
    "# softmax : k dimension -> (0,1)\n",
    "\n",
    "model.summary()"
   ]
  },
  {
   "cell_type": "code",
   "execution_count": 10,
   "metadata": {},
   "outputs": [
    {
     "name": "stdout",
     "output_type": "stream",
     "text": [
      "WARNING:tensorflow:From /Users/grace/workspace/keras/venv/lib/python3.6/site-packages/keras/backend/tensorflow_backend.py:1290: calling reduce_mean (from tensorflow.python.ops.math_ops) with keep_dims is deprecated and will be removed in a future version.\n",
      "Instructions for updating:\n",
      "keep_dims is deprecated, use keepdims instead\n"
     ]
    }
   ],
   "source": [
    "# 목적함수 - mse : 예측값과 실제 값 사이의 평균 제곱 오차\n",
    "model.compile(loss='categorical_crossentropy',\\\n",
    "             optimizer=optimizer,\\\n",
    "             metrics=['accuracy'])"
   ]
  },
  {
   "cell_type": "markdown",
   "metadata": {},
   "source": [
    "## Earlystopping"
   ]
  },
  {
   "cell_type": "code",
   "execution_count": 19,
   "metadata": {},
   "outputs": [],
   "source": [
    "from keras.callbacks import ModelCheckpoint, EarlyStopping, TensorBoard\n",
    "\n",
    "early_stopping_callback = EarlyStopping(monitor='val_loss', \\\n",
    "                                       patience=100)"
   ]
  },
  {
   "cell_type": "code",
   "execution_count": 18,
   "metadata": {},
   "outputs": [
    {
     "name": "stdout",
     "output_type": "stream",
     "text": [
      "Train on 48000 samples, validate on 12000 samples\n",
      "Epoch 1/30\n",
      "48000/48000 [==============================] - 1s - loss: 0.0625 - acc: 0.9850 - val_loss: 0.0885 - val_acc: 0.9789\n",
      "Epoch 2/30\n",
      "48000/48000 [==============================] - 1s - loss: 0.0605 - acc: 0.9851 - val_loss: 0.0906 - val_acc: 0.9777\n",
      "Epoch 3/30\n",
      "48000/48000 [==============================] - 1s - loss: 0.0616 - acc: 0.9848 - val_loss: 0.0894 - val_acc: 0.9792\n",
      "Epoch 4/30\n",
      "48000/48000 [==============================] - 1s - loss: 0.0564 - acc: 0.9860 - val_loss: 0.0924 - val_acc: 0.9773\n",
      "Epoch 5/30\n",
      "48000/48000 [==============================] - 1s - loss: 0.0564 - acc: 0.9859 - val_loss: 0.0916 - val_acc: 0.9780\n",
      "Epoch 6/30\n",
      "48000/48000 [==============================] - 1s - loss: 0.0567 - acc: 0.9864 - val_loss: 0.0878 - val_acc: 0.9786\n",
      "Epoch 7/30\n",
      "48000/48000 [==============================] - 1s - loss: 0.0564 - acc: 0.9871 - val_loss: 0.0935 - val_acc: 0.9787\n",
      "Epoch 8/30\n",
      "48000/48000 [==============================] - 1s - loss: 0.0534 - acc: 0.9869 - val_loss: 0.0957 - val_acc: 0.9776\n",
      "Epoch 9/30\n",
      "48000/48000 [==============================] - 1s - loss: 0.0539 - acc: 0.9863 - val_loss: 0.0906 - val_acc: 0.9785\n",
      "Epoch 10/30\n",
      "48000/48000 [==============================] - 1s - loss: 0.0517 - acc: 0.9875 - val_loss: 0.0905 - val_acc: 0.9787\n",
      "Epoch 11/30\n",
      "48000/48000 [==============================] - 1s - loss: 0.0520 - acc: 0.9873 - val_loss: 0.0899 - val_acc: 0.9786\n",
      "Epoch 12/30\n",
      "48000/48000 [==============================] - 1s - loss: 0.0522 - acc: 0.9872 - val_loss: 0.0945 - val_acc: 0.9773\n",
      "Epoch 13/30\n",
      "48000/48000 [==============================] - 1s - loss: 0.0534 - acc: 0.9866 - val_loss: 0.0907 - val_acc: 0.9783\n",
      "Epoch 14/30\n",
      "48000/48000 [==============================] - 1s - loss: 0.0502 - acc: 0.9876 - val_loss: 0.0981 - val_acc: 0.9765\n",
      "Epoch 15/30\n",
      "48000/48000 [==============================] - 1s - loss: 0.0524 - acc: 0.9873 - val_loss: 0.0927 - val_acc: 0.9788\n",
      "Epoch 16/30\n",
      "48000/48000 [==============================] - 1s - loss: 0.0476 - acc: 0.9887 - val_loss: 0.0890 - val_acc: 0.9788\n",
      "Epoch 17/30\n",
      "48000/48000 [==============================] - 1s - loss: 0.0490 - acc: 0.9875 - val_loss: 0.0880 - val_acc: 0.9788\n",
      "Epoch 18/30\n",
      "48000/48000 [==============================] - 1s - loss: 0.0513 - acc: 0.9866 - val_loss: 0.0948 - val_acc: 0.9778\n",
      "Epoch 19/30\n",
      "48000/48000 [==============================] - 1s - loss: 0.0474 - acc: 0.9890 - val_loss: 0.0890 - val_acc: 0.9786\n",
      "Epoch 20/30\n",
      "48000/48000 [==============================] - 1s - loss: 0.0465 - acc: 0.9891 - val_loss: 0.0886 - val_acc: 0.9793\n",
      "Epoch 21/30\n",
      "48000/48000 [==============================] - 1s - loss: 0.0467 - acc: 0.9882 - val_loss: 0.0924 - val_acc: 0.9798\n",
      "Epoch 22/30\n",
      "48000/48000 [==============================] - 1s - loss: 0.0479 - acc: 0.9887 - val_loss: 0.0913 - val_acc: 0.9784\n",
      "Epoch 23/30\n",
      "48000/48000 [==============================] - 1s - loss: 0.0452 - acc: 0.9893 - val_loss: 0.0965 - val_acc: 0.9787\n",
      "Epoch 24/30\n",
      "48000/48000 [==============================] - 1s - loss: 0.0434 - acc: 0.9894 - val_loss: 0.0955 - val_acc: 0.9783\n",
      "Epoch 25/30\n",
      "48000/48000 [==============================] - 1s - loss: 0.0431 - acc: 0.9897 - val_loss: 0.0948 - val_acc: 0.9784\n",
      "Epoch 26/30\n",
      "48000/48000 [==============================] - 1s - loss: 0.0458 - acc: 0.9887 - val_loss: 0.0949 - val_acc: 0.9782\n",
      "Epoch 27/30\n",
      "48000/48000 [==============================] - 1s - loss: 0.0421 - acc: 0.9904 - val_loss: 0.0940 - val_acc: 0.9783\n",
      "Epoch 28/30\n",
      "48000/48000 [==============================] - 1s - loss: 0.0432 - acc: 0.9896 - val_loss: 0.0977 - val_acc: 0.9775\n",
      "Epoch 29/30\n",
      "48000/48000 [==============================] - 1s - loss: 0.0405 - acc: 0.9905 - val_loss: 0.0921 - val_acc: 0.9792\n",
      "Epoch 30/30\n",
      "48000/48000 [==============================] - 1s - loss: 0.0408 - acc: 0.9905 - val_loss: 0.0932 - val_acc: 0.9784\n"
     ]
    }
   ],
   "source": [
    "history = model.fit(X_train, y_train,\\\n",
    "                   batch_size=batch_size, epochs=nb_epoch,\\\n",
    "                   verbose=verbose, validation_split=validation_split,\\\n",
    "                   callbacks=[early_stopping_callback])"
   ]
  },
  {
   "cell_type": "markdown",
   "metadata": {},
   "source": [
    "## evalute\n",
    "\n",
    "train accuracy must be higher than test accuracy, otherwise training wasn't enough\n",
    "\n",
    "\n",
    "- model.predict()\n",
    "- model.evalute()\n",
    "- model.predict_classes()\n",
    "- model.predict_proba()"
   ]
  },
  {
   "cell_type": "code",
   "execution_count": 12,
   "metadata": {},
   "outputs": [
    {
     "name": "stdout",
     "output_type": "stream",
     "text": [
      " 8736/10000 [=========================>....] - ETA: 0s\n",
      "\n",
      "test score :  0.08087899531573058\n",
      "test accuracy :  0.9799\n"
     ]
    }
   ],
   "source": [
    "score = model.evaluate(X_test, y_test, verbose=verbose)\n",
    "print('\\n')\n",
    "print('test score : ', score[0])\n",
    "print('test accuracy : ', score[1])"
   ]
  },
  {
   "cell_type": "code",
   "execution_count": 13,
   "metadata": {},
   "outputs": [
    {
     "data": {
      "text/plain": [
       "[<matplotlib.lines.Line2D at 0x136a00d30>]"
      ]
     },
     "execution_count": 13,
     "metadata": {},
     "output_type": "execute_result"
    },
    {
     "data": {
      "text/plain": [
       "[<matplotlib.lines.Line2D at 0x133cced30>]"
      ]
     },
     "execution_count": 13,
     "metadata": {},
     "output_type": "execute_result"
    },
    {
     "data": {
      "text/plain": [
       "Text(0.5, 1.0, 'model accuracy')"
      ]
     },
     "execution_count": 13,
     "metadata": {},
     "output_type": "execute_result"
    },
    {
     "data": {
      "text/plain": [
       "Text(0, 0.5, 'accuracy')"
      ]
     },
     "execution_count": 13,
     "metadata": {},
     "output_type": "execute_result"
    },
    {
     "data": {
      "text/plain": [
       "Text(0.5, 0, 'epoch')"
      ]
     },
     "execution_count": 13,
     "metadata": {},
     "output_type": "execute_result"
    },
    {
     "data": {
      "text/plain": [
       "<matplotlib.legend.Legend at 0x136a10320>"
      ]
     },
     "execution_count": 13,
     "metadata": {},
     "output_type": "execute_result"
    }
   ],
   "source": [
    "import matplotlib.pyplot as plt\n",
    "\n",
    "plt.plot(history.history['acc'])\n",
    "plt.plot(history.history['val_acc'])\n",
    "plt.title('model accuracy')\n",
    "plt.ylabel('accuracy')\n",
    "plt.xlabel('epoch')\n",
    "plt.legend(['train', 'test'], loc='upper left')"
   ]
  },
  {
   "cell_type": "code",
   "execution_count": 14,
   "metadata": {},
   "outputs": [
    {
     "data": {
      "text/plain": [
       "[<matplotlib.lines.Line2D at 0x136bdc048>]"
      ]
     },
     "execution_count": 14,
     "metadata": {},
     "output_type": "execute_result"
    },
    {
     "data": {
      "text/plain": [
       "[<matplotlib.lines.Line2D at 0x133ccec50>]"
      ]
     },
     "execution_count": 14,
     "metadata": {},
     "output_type": "execute_result"
    },
    {
     "data": {
      "text/plain": [
       "Text(0.5, 1.0, 'model loss')"
      ]
     },
     "execution_count": 14,
     "metadata": {},
     "output_type": "execute_result"
    },
    {
     "data": {
      "text/plain": [
       "Text(0, 0.5, 'loss')"
      ]
     },
     "execution_count": 14,
     "metadata": {},
     "output_type": "execute_result"
    },
    {
     "data": {
      "text/plain": [
       "Text(0.5, 0, 'epoch')"
      ]
     },
     "execution_count": 14,
     "metadata": {},
     "output_type": "execute_result"
    },
    {
     "data": {
      "text/plain": [
       "<matplotlib.legend.Legend at 0x136bc39e8>"
      ]
     },
     "execution_count": 14,
     "metadata": {},
     "output_type": "execute_result"
    },
    {
     "data": {
      "image/png": "[encoded data removed]",
      "text/plain": [
       "<Figure size 432x288 with 1 Axes>"
      ]
     },
     "metadata": {},
     "output_type": "display_data"
    }
   ],
   "source": [
    "plt.plot(history.history['loss'])\n",
    "plt.plot(history.history['val_loss'])\n",
    "plt.title('model loss')\n",
    "plt.ylabel('loss')\n",
    "plt.xlabel('epoch')\n",
    "plt.legend(['train', 'test'], loc='upper left')"
   ]
  },
  {
   "cell_type": "markdown",
   "metadata": {},
   "source": [
    "## Test해보기\n",
    "- optimizer 테스트 (SGD, RMSprop, Adam) & 학습률\n",
    "- epoch 수 증가 - 학습이 부족한 경우가 아니면 성능을 크게 올려주지 못함\n",
    "- hidden layer - 복잡성이 올라갈수록 연산 시간이 크게 증가한다 + 복잡할 수록 학습 데이터에서만 우수한 성능을 얻을 수 있다.\n",
    "- batch size - mnist의 경우 128가 최적.\n",
    "    - Batch Normalization : 학습 속도를 더 빠르게 하고 일반적으로 더 나은 정화도를 달성하는 방법\n",
    "- dropout rate 조절"
   ]
  },
  {
   "cell_type": "markdown",
   "metadata": {},
   "source": [
    "## model 구조 저장\n",
    "\n",
    "- json\n",
    "    - model.to_json()\n",
    "    - model_from_json(json_string) - from keras.models import model_from_json\n",
    "\n",
    "- yaml\n",
    "    - model.to_yaml()\n",
    "    - model_from_yaml()\n",
    "    \n",
    "## model 가중치 저장\n",
    "- model.save('-.h5')\n",
    "- load_model('-.h5')"
   ]
  },
  {
   "cell_type": "markdown",
   "metadata": {},
   "source": [
    "## Tensorboard"
   ]
  },
  {
   "cell_type": "code",
   "execution_count": 20,
   "metadata": {},
   "outputs": [
    {
     "data": {
      "text/plain": [
       "<keras.callbacks.TensorBoard at 0x1374b84e0>"
      ]
     },
     "execution_count": 20,
     "metadata": {},
     "output_type": "execute_result"
    }
   ],
   "source": [
    "TensorBoard(log_dir='./logs', histogram_freq=0,\\\n",
    "           write_graph=True, write_images=False)"
   ]
  },
  {
   "cell_type": "code",
   "execution_count": 21,
   "metadata": {},
   "outputs": [
    {
     "name": "stdout",
     "output_type": "stream",
     "text": [
      "/Users/grace/workspace/keras/venv/lib/python3.6/importlib/_bootstrap.py:219: RuntimeWarning: compiletime version 3.5 of module 'tensorflow.python.framework.fast_tensor_util' does not match runtime version 3.6\n",
      "  return f(*args, **kwds)\n",
      "/Users/grace/workspace/keras/venv/lib/python3.6/site-packages/h5py/__init__.py:36: FutureWarning: Conversion of the second argument of issubdtype from `float` to `np.floating` is deprecated. In future, it will be treated as `np.float64 == np.dtype(float).type`.\n",
      "  from ._conv import register_converters as _register_converters\n",
      "TensorBoard 1.10.0 at http://graces-MacBook-Pro.local:6006 (Press CTRL+C to quit)\n",
      "^C\n"
     ]
    }
   ],
   "source": [
    "!tensorBoard --logdir='~/Users/workspace/daily_python/deep_learnig_with_keras/logs'"
   ]
  },
  {
   "cell_type": "markdown",
   "metadata": {},
   "source": [
    "## Quiver : CNN 특징을 시각화"
   ]
  },
  {
   "cell_type": "code",
   "execution_count": 24,
   "metadata": {},
   "outputs": [
    {
     "name": "stdout",
     "output_type": "stream",
     "text": [
      "Requirement already satisfied: quiver_engine in /Users/grace/workspace/keras/venv/lib/python3.6/site-packages (0.1.4.1.4)\n",
      "Requirement already satisfied: flask in /Users/grace/workspace/keras/venv/lib/python3.6/site-packages (from quiver_engine) (1.0.2)\n",
      "Requirement already satisfied: tensorflow in /Users/grace/workspace/keras/venv/lib/python3.6/site-packages (from quiver_engine) (1.10.1)\n",
      "Requirement already satisfied: numpy in /Users/grace/workspace/keras/venv/lib/python3.6/site-packages (from quiver_engine) (1.15.4)\n",
      "Requirement already satisfied: flask-cors in /Users/grace/workspace/keras/venv/lib/python3.6/site-packages (from quiver_engine) (3.0.7)\n",
      "Requirement already satisfied: gevent in /Users/grace/workspace/keras/venv/lib/python3.6/site-packages (from quiver_engine) (1.3.6)\n",
      "Requirement already satisfied: keras in /Users/grace/workspace/keras/venv/lib/python3.6/site-packages (from quiver_engine) (2.0.8)\n",
      "Requirement already satisfied: pillow in /Users/grace/workspace/keras/venv/lib/python3.6/site-packages (from quiver_engine) (5.1.0)\n",
      "Requirement already satisfied: click>=5.1 in /Users/grace/workspace/keras/venv/lib/python3.6/site-packages (from flask->quiver_engine) (7.0)\n",
      "Requirement already satisfied: Jinja2>=2.10 in /Users/grace/workspace/keras/venv/lib/python3.6/site-packages (from flask->quiver_engine) (2.10)\n",
      "Requirement already satisfied: Werkzeug>=0.14 in /Users/grace/workspace/keras/venv/lib/python3.6/site-packages (from flask->quiver_engine) (0.14.1)\n",
      "Requirement already satisfied: itsdangerous>=0.24 in /Users/grace/workspace/keras/venv/lib/python3.6/site-packages (from flask->quiver_engine) (1.1.0)\n",
      "Requirement already satisfied: gast>=0.2.0 in /Users/grace/workspace/keras/venv/lib/python3.6/site-packages (from tensorflow->quiver_engine) (0.2.0)\n",
      "Requirement already satisfied: setuptools<=39.1.0 in /Users/grace/workspace/keras/venv/lib/python3.6/site-packages (from tensorflow->quiver_engine) (39.1.0)\n",
      "Requirement already satisfied: protobuf>=3.6.0 in /Users/grace/workspace/keras/venv/lib/python3.6/site-packages (from tensorflow->quiver_engine) (3.6.1)\n",
      "Requirement already satisfied: astor>=0.6.0 in /Users/grace/workspace/keras/venv/lib/python3.6/site-packages (from tensorflow->quiver_engine) (0.6.2)\n",
      "Requirement already satisfied: tensorboard<1.11.0,>=1.10.0 in /Users/grace/workspace/keras/venv/lib/python3.6/site-packages (from tensorflow->quiver_engine) (1.10.0)\n",
      "Requirement already satisfied: absl-py>=0.1.6 in /Users/grace/workspace/keras/venv/lib/python3.6/site-packages (from tensorflow->quiver_engine) (0.2.2)\n",
      "Requirement already satisfied: termcolor>=1.1.0 in /Users/grace/workspace/keras/venv/lib/python3.6/site-packages (from tensorflow->quiver_engine) (1.1.0)\n",
      "Requirement already satisfied: six>=1.10.0 in /Users/grace/workspace/keras/venv/lib/python3.6/site-packages (from tensorflow->quiver_engine) (1.10.0)\n",
      "Requirement already satisfied: grpcio>=1.8.6 in /Users/grace/workspace/keras/venv/lib/python3.6/site-packages (from tensorflow->quiver_engine) (1.12.1)\n",
      "Requirement already satisfied: wheel>=0.26 in /Users/grace/workspace/keras/venv/lib/python3.6/site-packages (from tensorflow->quiver_engine) (0.31.1)\n",
      "Requirement already satisfied: greenlet>=0.4.14; platform_python_implementation == \"CPython\" in /Users/grace/workspace/keras/venv/lib/python3.6/site-packages (from gevent->quiver_engine) (0.4.15)\n",
      "Requirement already satisfied: pyyaml in /Users/grace/workspace/keras/venv/lib/python3.6/site-packages (from keras->quiver_engine) (3.12)\n",
      "Requirement already satisfied: scipy>=0.14 in /Users/grace/workspace/keras/venv/lib/python3.6/site-packages (from keras->quiver_engine) (1.0.0)\n",
      "Requirement already satisfied: MarkupSafe>=0.23 in /Users/grace/workspace/keras/venv/lib/python3.6/site-packages (from Jinja2>=2.10->flask->quiver_engine) (1.0)\n",
      "Requirement already satisfied: markdown>=2.6.8 in /Users/grace/workspace/keras/venv/lib/python3.6/site-packages (from tensorboard<1.11.0,>=1.10.0->tensorflow->quiver_engine) (2.6.11)\n"
     ]
    }
   ],
   "source": [
    "# !pip install quiver_engine"
   ]
  }
 ],
 "metadata": {
  "kernelspec": {
   "display_name": "Python 3",
   "language": "python",
   "name": "python3"
  },
  "language_info": {
   "codemirror_mode": {
    "name": "ipython",
    "version": 3
   },
   "file_extension": ".py",
   "mimetype": "text/x-python",
   "name": "python",
   "nbconvert_exporter": "python",
   "pygments_lexer": "ipython3",
   "version": "3.6.4"
  }
 },
 "nbformat": 4,
 "nbformat_minor": 2
}
