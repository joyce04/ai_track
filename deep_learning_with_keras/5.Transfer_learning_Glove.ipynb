{
 "cells": [
  {
   "cell_type": "markdown",
   "metadata": {},
   "source": [
    "### 5.Word Embedding / 단어 임베딩\n",
    "\n",
    "- TF-IDF\n",
    "- LSA, Latent Semantic Analysis\n",
    "- Topic Modeling\n",
    "\n",
    "\n",
    "- distributed representation\n",
    "    - Dai, Andrew M., Christopher Olah, and Quoc V. Le. \"Document embedding with paragraph vectors.\" arXiv preprint arXiv:1507.07998 (2015).\n",
    "    \n",
    "    - word2vec (CBOW -주변 단어의 윈도우 상에서 현재 단어 예측, Skip-gram -중심 단어를 기반으로 주변단어 예측)"
   ]
  },
  {
   "cell_type": "code",
   "execution_count": 1,
   "metadata": {},
   "outputs": [
    {
     "name": "stderr",
     "output_type": "stream",
     "text": [
      "Using TensorFlow backend.\n"
     ]
    }
   ],
   "source": [
    "from keras.layers.core import Dense, Dropout, SpatialDropout1D\n",
    "from keras.layers.convolutional import Conv1D\n",
    "from keras.layers.embeddings import Embedding\n",
    "from keras.layers.pooling import GlobalMaxPooling1D\n",
    "from keras.models import Sequential\n",
    "from sklearn.model_selection import train_test_split\n",
    "import matplotlib.pyplot as plt\n",
    "import numpy as np\n",
    "import codecs"
   ]
  },
  {
   "cell_type": "code",
   "execution_count": 2,
   "metadata": {},
   "outputs": [],
   "source": [
    "np.random.seed(2019)"
   ]
  },
  {
   "cell_type": "code",
   "execution_count": 3,
   "metadata": {},
   "outputs": [],
   "source": [
    "from keras.datasets import reuters\n",
    "import numpy as np"
   ]
  },
  {
   "cell_type": "code",
   "execution_count": 4,
   "metadata": {},
   "outputs": [],
   "source": [
    "# words with frequency rank of 1-1000\n",
    "(X_train, Y_train), (X_test, Y_test) = reuters.load_data(num_words=1000, test_split=0.2)"
   ]
  },
  {
   "cell_type": "code",
   "execution_count": 5,
   "metadata": {},
   "outputs": [
    {
     "data": {
      "text/plain": [
       "(8982,)"
      ]
     },
     "execution_count": 5,
     "metadata": {},
     "output_type": "execute_result"
    }
   ],
   "source": [
    "X_train.shape"
   ]
  },
  {
   "cell_type": "code",
   "execution_count": 6,
   "metadata": {},
   "outputs": [
    {
     "data": {
      "text/plain": [
       "46"
      ]
     },
     "execution_count": 6,
     "metadata": {},
     "output_type": "execute_result"
    }
   ],
   "source": [
    "category = np.max(Y_train)+1\n",
    "category"
   ]
  },
  {
   "cell_type": "code",
   "execution_count": 7,
   "metadata": {},
   "outputs": [],
   "source": [
    "MAX_LEN = 300"
   ]
  },
  {
   "cell_type": "code",
   "execution_count": 8,
   "metadata": {},
   "outputs": [],
   "source": [
    "from keras.preprocessing import sequence"
   ]
  },
  {
   "cell_type": "code",
   "execution_count": 9,
   "metadata": {},
   "outputs": [],
   "source": [
    "x_train = sequence.pad_sequences(X_train, maxlen=MAX_LEN)\n",
    "x_test = sequence.pad_sequences(X_test, maxlen=MAX_LEN)"
   ]
  },
  {
   "cell_type": "code",
   "execution_count": 10,
   "metadata": {},
   "outputs": [],
   "source": [
    "from keras.utils import np_utils\n",
    "\n",
    "y_train = np_utils.to_categorical(Y_train)\n",
    "y_test = np_utils.to_categorical(Y_test)"
   ]
  },
  {
   "cell_type": "markdown",
   "metadata": {},
   "source": [
    "### GloVe\n",
    "\n",
    "- count based model (단어, 문백) 쌍을 갖는 큰 행렬을 구성 -> matrix factorization\n",
    "\n",
    "- R = P * Q ~=~ R'\n",
    "    - 복원한 행렬 R'과 원래 행렬 R의 차이는 복원 오류를 최소화하기 위해 R'를 R에 가깝게 이동시키고자 P와 Q를 얼마만큼 변경해야 하는 지 알려준다. 이 과정을 SGD가 수렵한다."
   ]
  },
  {
   "cell_type": "code",
   "execution_count": 11,
   "metadata": {},
   "outputs": [],
   "source": [
    "vocab_size = 5000\n",
    "embed_size = MAX_LEN\n",
    "window_size = 1\n",
    "BATCH_SIZE = 64\n",
    "NUM_EPOCHS= 20"
   ]
  },
  {
   "cell_type": "code",
   "execution_count": 12,
   "metadata": {},
   "outputs": [],
   "source": [
    "import gensim.downloader as api\n",
    "\n",
    "#https://github.com/RaRe-Technologies/gensim-data\n",
    "word_vectors = api.load(\"glove-wiki-gigaword-300\")"
   ]
  },
  {
   "cell_type": "code",
   "execution_count": 13,
   "metadata": {},
   "outputs": [
    {
     "name": "stderr",
     "output_type": "stream",
     "text": [
      "/home/grace/.local/lib/python3.5/site-packages/ipykernel_launcher.py:1: DeprecationWarning: Call to deprecated `wv` (Attribute will be removed in 4.0.0, use self instead).\n",
      "  \"\"\"Entry point for launching an IPython kernel.\n"
     ]
    },
    {
     "data": {
      "text/plain": [
       "400000"
      ]
     },
     "execution_count": 13,
     "metadata": {},
     "output_type": "execute_result"
    }
   ],
   "source": [
    "len(word_vectors.wv.index2word)"
   ]
  },
  {
   "cell_type": "code",
   "execution_count": 15,
   "metadata": {},
   "outputs": [
    {
     "name": "stderr",
     "output_type": "stream",
     "text": [
      "/home/grace/.local/lib/python3.5/site-packages/ipykernel_launcher.py:4: DeprecationWarning: Call to deprecated `wv` (Attribute will be removed in 4.0.0, use self instead).\n",
      "  after removing the cwd from sys.path.\n"
     ]
    }
   ],
   "source": [
    "embedding_weights = np.zeros((vocab_size, embed_size))\n",
    "for ind in range(vocab_size):\n",
    "    try:\n",
    "        embedding_weights[ind, :] = word_vectors.wv[word_vectors.wv.index2word[ind]]\n",
    "    except KeyError:\n",
    "        pass"
   ]
  },
  {
   "cell_type": "code",
   "execution_count": 16,
   "metadata": {},
   "outputs": [],
   "source": [
    "model = Sequential()\n",
    "model.add(Embedding(vocab_size, embed_size, input_length=MAX_LEN, weights=[embedding_weights], trainable=True))\n",
    "model.add(SpatialDropout1D(0.2))\n",
    "model.add(Conv1D(filters=256, kernel_size=3, activation='relu'))\n",
    "model.add(GlobalMaxPooling1D())\n",
    "model.add(Dense(category, activation='softmax'))"
   ]
  },
  {
   "cell_type": "code",
   "execution_count": 17,
   "metadata": {},
   "outputs": [],
   "source": [
    "model.compile(optimizer='adam', loss='categorical_crossentropy', metrics=['accuracy'])"
   ]
  },
  {
   "cell_type": "code",
   "execution_count": 18,
   "metadata": {},
   "outputs": [
    {
     "name": "stdout",
     "output_type": "stream",
     "text": [
      "Train on 8982 samples, validate on 2246 samples\n",
      "Epoch 1/20\n",
      "8982/8982 [==============================] - 49s 5ms/step - loss: 1.6915 - acc: 0.5992 - val_loss: 1.3262 - val_acc: 0.7021\n",
      "Epoch 2/20\n",
      "8982/8982 [==============================] - 55s 6ms/step - loss: 1.0764 - acc: 0.7536 - val_loss: 1.0550 - val_acc: 0.7507\n",
      "Epoch 3/20\n",
      "8982/8982 [==============================] - 60s 7ms/step - loss: 0.8078 - acc: 0.8064 - val_loss: 0.9445 - val_acc: 0.7783\n",
      "Epoch 4/20\n",
      "8982/8982 [==============================] - 56s 6ms/step - loss: 0.6457 - acc: 0.8392 - val_loss: 0.8835 - val_acc: 0.7850\n",
      "Epoch 5/20\n",
      "8982/8982 [==============================] - 54s 6ms/step - loss: 0.5258 - acc: 0.8702 - val_loss: 0.8704 - val_acc: 0.7974\n",
      "Epoch 6/20\n",
      "8982/8982 [==============================] - 59s 7ms/step - loss: 0.4314 - acc: 0.8877 - val_loss: 0.8749 - val_acc: 0.7907\n",
      "Epoch 7/20\n",
      "8982/8982 [==============================] - 52s 6ms/step - loss: 0.3486 - acc: 0.9089 - val_loss: 0.8838 - val_acc: 0.7814\n",
      "Epoch 8/20\n",
      "8982/8982 [==============================] - 52s 6ms/step - loss: 0.2909 - acc: 0.9221 - val_loss: 0.8982 - val_acc: 0.7885\n",
      "Epoch 9/20\n",
      "8982/8982 [==============================] - 52s 6ms/step - loss: 0.2529 - acc: 0.9312 - val_loss: 0.9644 - val_acc: 0.7818\n",
      "Epoch 10/20\n",
      "8982/8982 [==============================] - 52s 6ms/step - loss: 0.2130 - acc: 0.9424 - val_loss: 0.9505 - val_acc: 0.7872\n",
      "Epoch 11/20\n",
      "8982/8982 [==============================] - 52s 6ms/step - loss: 0.1809 - acc: 0.9467 - val_loss: 0.9639 - val_acc: 0.7925\n",
      "Epoch 12/20\n",
      "8982/8982 [==============================] - 52s 6ms/step - loss: 0.1733 - acc: 0.9486 - val_loss: 1.0216 - val_acc: 0.7863\n",
      "Epoch 13/20\n",
      "8982/8982 [==============================] - 52s 6ms/step - loss: 0.1689 - acc: 0.9503 - val_loss: 1.0782 - val_acc: 0.7818\n",
      "Epoch 14/20\n",
      "8982/8982 [==============================] - 52s 6ms/step - loss: 0.1697 - acc: 0.9506 - val_loss: 1.0663 - val_acc: 0.7850\n",
      "Epoch 15/20\n",
      "8982/8982 [==============================] - 52s 6ms/step - loss: 0.1657 - acc: 0.9508 - val_loss: 1.1064 - val_acc: 0.7827\n",
      "Epoch 16/20\n",
      "8982/8982 [==============================] - 42s 5ms/step - loss: 0.1634 - acc: 0.9497 - val_loss: 1.1163 - val_acc: 0.7858\n",
      "Epoch 17/20\n",
      "8982/8982 [==============================] - 42s 5ms/step - loss: 0.1595 - acc: 0.9522 - val_loss: 1.1465 - val_acc: 0.7729\n",
      "Epoch 18/20\n",
      "8982/8982 [==============================] - 42s 5ms/step - loss: 0.1488 - acc: 0.9522 - val_loss: 1.1743 - val_acc: 0.7765\n",
      "Epoch 19/20\n",
      "8982/8982 [==============================] - 42s 5ms/step - loss: 0.1633 - acc: 0.9506 - val_loss: 1.1225 - val_acc: 0.7845\n",
      "Epoch 20/20\n",
      "8982/8982 [==============================] - 42s 5ms/step - loss: 0.1471 - acc: 0.9552 - val_loss: 1.2230 - val_acc: 0.7671\n",
      "2246/2246 [==============================] - 2s 924us/step\n"
     ]
    }
   ],
   "source": [
    "history = model.fit(x_train, y_train, batch_size=BATCH_SIZE, epochs=NUM_EPOCHS, validation_data=(x_test, y_test))\n",
    "score = model.evaluate(x_test, y_test, verbose=1)"
   ]
  },
  {
   "cell_type": "code",
   "execution_count": 19,
   "metadata": {},
   "outputs": [
    {
     "data": {
      "image/png": "[encoded data removed]",
      "text/plain": [
       "<Figure size 432x288 with 1 Axes>"
      ]
     },
     "metadata": {
      "needs_background": "light"
     },
     "output_type": "display_data"
    }
   ],
   "source": [
    "import matplotlib.pyplot as plt\n",
    "\n",
    "y_vloss = history.history['val_loss']\n",
    "\n",
    "# training set\n",
    "y_loss = history.history['loss']\n",
    "\n",
    "plt.plot(np.arange(len(y_loss)), y_vloss, marker='.', c='red', label='Testset_loss')\n",
    "plt.plot(np.arange(len(y_loss)), y_loss, marker='.', c='blue', label='Trainset_loss')\n",
    "\n",
    "plt.legend(loc='upper right')\n",
    "plt.grid()\n",
    "plt.xlabel('epoch')\n",
    "plt.ylabel('loss')\n",
    "plt.show()"
   ]
  },
  {
   "cell_type": "code",
   "execution_count": 20,
   "metadata": {},
   "outputs": [
    {
     "data": {
      "image/png": "[encoded data removed]",
      "text/plain": [
       "<Figure size 432x288 with 1 Axes>"
      ]
     },
     "metadata": {
      "needs_background": "light"
     },
     "output_type": "display_data"
    }
   ],
   "source": [
    "import matplotlib.pyplot as plt\n",
    "\n",
    "y_vacc = history.history['val_acc']\n",
    "\n",
    "# training set\n",
    "y_acc = history.history['acc']\n",
    "\n",
    "plt.plot(np.arange(len(y_acc)), y_vacc, marker='.', c='red', label='Testset_acc')\n",
    "plt.plot(np.arange(len(y_acc)), y_acc, marker='.', c='blue', label='Trainset_acc')\n",
    "\n",
    "plt.legend(loc='upper right')\n",
    "plt.grid()\n",
    "plt.xlabel('epoch')\n",
    "plt.ylabel('accuracy')\n",
    "plt.show()"
   ]
  },
  {
   "cell_type": "code",
   "execution_count": null,
   "metadata": {},
   "outputs": [],
   "source": []
  }
 ],
 "metadata": {
  "kernelspec": {
   "display_name": "Python 3",
   "language": "python",
   "name": "python3"
  },
  "language_info": {
   "codemirror_mode": {
    "name": "ipython",
    "version": 3
   },
   "file_extension": ".py",
   "mimetype": "text/x-python",
   "name": "python",
   "nbconvert_exporter": "python",
   "pygments_lexer": "ipython3",
   "version": "3.5.2"
  }
 },
 "nbformat": 4,
 "nbformat_minor": 2
}
