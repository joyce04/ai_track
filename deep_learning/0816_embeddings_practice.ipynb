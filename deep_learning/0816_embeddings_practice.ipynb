{
 "cells": [
  {
   "cell_type": "markdown",
   "metadata": {},
   "source": [
    "# Practice Embeddings \n",
    "according to deepschool.io Lesseson 06\n",
    "\n",
    "Codes below references to deepschool.io\n",
    "https://github.com/sachinruk/deepschool.io/blob/master/DL-Keras_Tensorflow/Lesson%2006%20-%20contraception.ipynb\n",
    "\n",
    "I've added some comments for study purpose"
   ]
  },
  {
   "cell_type": "code",
   "execution_count": 3,
   "metadata": {
    "collapsed": false
   },
   "outputs": [],
   "source": [
    "import pandas as pd\n",
    "import numpy as np\n",
    "\n",
    "from keras.models import Sequential\n",
    "from keras.layers import Dense, Activation, Embedding, merge, Flatten\n",
    "\n",
    "from sklearn.model_selection import train_test_split\n",
    "from sklearn.preprocessing import StandardScaler, scale\n",
    "\n",
    "import matplotlib.pyplot as plt\n",
    "%matplotlib inline"
   ]
  },
  {
   "cell_type": "code",
   "execution_count": 4,
   "metadata": {
    "collapsed": false
   },
   "outputs": [
    {
     "data": {
      "text/html": [
       "<div>\n",
       "<table border=\"1\" class=\"dataframe\">\n",
       "  <thead>\n",
       "    <tr style=\"text-align: right;\">\n",
       "      <th></th>\n",
       "      <th>Age</th>\n",
       "      <th>Education</th>\n",
       "      <th>H_education</th>\n",
       "      <th>num_child</th>\n",
       "      <th>Religion</th>\n",
       "      <th>Employ</th>\n",
       "      <th>H_occupation</th>\n",
       "      <th>living_standard</th>\n",
       "      <th>Media_exposure</th>\n",
       "      <th>contraceptive</th>\n",
       "    </tr>\n",
       "  </thead>\n",
       "  <tbody>\n",
       "    <tr>\n",
       "      <th>0</th>\n",
       "      <td>24</td>\n",
       "      <td>2</td>\n",
       "      <td>3</td>\n",
       "      <td>3</td>\n",
       "      <td>1</td>\n",
       "      <td>1</td>\n",
       "      <td>2</td>\n",
       "      <td>3</td>\n",
       "      <td>0</td>\n",
       "      <td>1</td>\n",
       "    </tr>\n",
       "    <tr>\n",
       "      <th>1</th>\n",
       "      <td>45</td>\n",
       "      <td>1</td>\n",
       "      <td>3</td>\n",
       "      <td>10</td>\n",
       "      <td>1</td>\n",
       "      <td>1</td>\n",
       "      <td>3</td>\n",
       "      <td>4</td>\n",
       "      <td>0</td>\n",
       "      <td>1</td>\n",
       "    </tr>\n",
       "    <tr>\n",
       "      <th>2</th>\n",
       "      <td>43</td>\n",
       "      <td>2</td>\n",
       "      <td>3</td>\n",
       "      <td>7</td>\n",
       "      <td>1</td>\n",
       "      <td>1</td>\n",
       "      <td>3</td>\n",
       "      <td>4</td>\n",
       "      <td>0</td>\n",
       "      <td>1</td>\n",
       "    </tr>\n",
       "    <tr>\n",
       "      <th>3</th>\n",
       "      <td>42</td>\n",
       "      <td>3</td>\n",
       "      <td>2</td>\n",
       "      <td>9</td>\n",
       "      <td>1</td>\n",
       "      <td>1</td>\n",
       "      <td>3</td>\n",
       "      <td>3</td>\n",
       "      <td>0</td>\n",
       "      <td>1</td>\n",
       "    </tr>\n",
       "    <tr>\n",
       "      <th>4</th>\n",
       "      <td>36</td>\n",
       "      <td>3</td>\n",
       "      <td>3</td>\n",
       "      <td>8</td>\n",
       "      <td>1</td>\n",
       "      <td>1</td>\n",
       "      <td>3</td>\n",
       "      <td>2</td>\n",
       "      <td>0</td>\n",
       "      <td>1</td>\n",
       "    </tr>\n",
       "  </tbody>\n",
       "</table>\n",
       "</div>"
      ],
      "text/plain": [
       "   Age  Education  H_education  num_child  Religion  Employ  H_occupation  \\\n",
       "0   24          2            3          3         1       1             2   \n",
       "1   45          1            3         10         1       1             3   \n",
       "2   43          2            3          7         1       1             3   \n",
       "3   42          3            2          9         1       1             3   \n",
       "4   36          3            3          8         1       1             3   \n",
       "\n",
       "   living_standard  Media_exposure  contraceptive  \n",
       "0                3               0              1  \n",
       "1                4               0              1  \n",
       "2                4               0              1  \n",
       "3                3               0              1  \n",
       "4                2               0              1  "
      ]
     },
     "execution_count": 4,
     "metadata": {},
     "output_type": "execute_result"
    }
   ],
   "source": [
    "df = pd.read_csv('data/cmc.csv', header=None, names=['Age', 'Education', 'H_education', 'num_child', 'Religion', 'Employ', 'H_occupation', 'living_standard', 'Media_exposure', 'contraceptive'])\n",
    "df.head()"
   ]
  },
  {
   "cell_type": "code",
   "execution_count": 5,
   "metadata": {
    "collapsed": false
   },
   "outputs": [
    {
     "data": {
      "text/plain": [
       "Age                False\n",
       "Education          False\n",
       "H_education        False\n",
       "num_child          False\n",
       "Religion           False\n",
       "Employ             False\n",
       "H_occupation       False\n",
       "living_standard    False\n",
       "Media_exposure     False\n",
       "contraceptive      False\n",
       "dtype: bool"
      ]
     },
     "execution_count": 5,
     "metadata": {},
     "output_type": "execute_result"
    }
   ],
   "source": [
    "#check missing value\n",
    "df.isnull().any()"
   ]
  },
  {
   "cell_type": "code",
   "execution_count": 6,
   "metadata": {
    "collapsed": false
   },
   "outputs": [
    {
     "data": {
      "text/plain": [
       "<matplotlib.axes._subplots.AxesSubplot at 0x7f9a2c1d9cc0>"
      ]
     },
     "execution_count": 6,
     "metadata": {},
     "output_type": "execute_result"
    },
    {
     "data": {
      "image/png": "[encoded data removed]",
      "text/plain": [
       "<matplotlib.figure.Figure at 0x7f9a2ff3b358>"
      ]
     },
     "metadata": {},
     "output_type": "display_data"
    }
   ],
   "source": [
    "df.Education.hist()"
   ]
  },
  {
   "cell_type": "code",
   "execution_count": 7,
   "metadata": {
    "collapsed": false
   },
   "outputs": [
    {
     "data": {
      "text/plain": [
       "(1473, 10)"
      ]
     },
     "execution_count": 7,
     "metadata": {},
     "output_type": "execute_result"
    }
   ],
   "source": [
    "df.shape"
   ]
  },
  {
   "cell_type": "code",
   "execution_count": 8,
   "metadata": {
    "collapsed": false
   },
   "outputs": [
    {
     "data": {
      "text/plain": [
       "<matplotlib.axes._subplots.AxesSubplot at 0x7f9a299faa90>"
      ]
     },
     "execution_count": 8,
     "metadata": {},
     "output_type": "execute_result"
    },
    {
     "data": {
      "image/png": "[encoded data removed]",
      "text/plain": [
       "<matplotlib.figure.Figure at 0x7f9a299deba8>"
      ]
     },
     "metadata": {},
     "output_type": "display_data"
    }
   ],
   "source": [
    "df.contraceptive.hist()"
   ]
  },
  {
   "cell_type": "code",
   "execution_count": 9,
   "metadata": {
    "collapsed": false
   },
   "outputs": [
    {
     "data": {
      "text/plain": [
       "Age                int64\n",
       "Education          int64\n",
       "H_education        int64\n",
       "num_child          int64\n",
       "Religion           int64\n",
       "Employ             int64\n",
       "H_occupation       int64\n",
       "living_standard    int64\n",
       "Media_exposure     int64\n",
       "contraceptive      int64\n",
       "dtype: object"
      ]
     },
     "execution_count": 9,
     "metadata": {},
     "output_type": "execute_result"
    }
   ],
   "source": [
    "df.dtypes"
   ]
  },
  {
   "cell_type": "code",
   "execution_count": 10,
   "metadata": {
    "collapsed": true
   },
   "outputs": [],
   "source": [
    "def one_hot_encoding(idx):\n",
    "    y = np.zeros((len(idx), max(idx)+1))\n",
    "    y[np.arange(len(idx)), idx] = 1\n",
    "    return y"
   ]
  },
  {
   "cell_type": "markdown",
   "metadata": {},
   "source": [
    "## one hot encoding\n",
    "\n",
    "Because categorical values designated via integer can mis-train machine learning.  \n",
    "\n",
    "For religion categories (christianity-0, buddhaism-1, islam-2, hinduism-3, other-4)\n",
    "\n",
    "we represent each category by one-hot encoding approach:\n",
    "\n",
    "| original data | one-hot encoding format <td colspan=6>|\n",
    "|--|--|\n",
    "| | id | christianity | buddhaism | islam | hinduism | other |\n",
    "| christianity | 1 | 1 | 0 | 0 | 0 | 0 |\n",
    "| buddhaism | 2 | 0 | 1 | 0 | 0 | 0 |\n",
    "| islam | 3 | 0 | 0 | 1 | 0 | 0 |\n",
    "| hinduism | 4 | 0 | 0 | 0 | 1 | 0 |\n",
    "| other | 5 | 0 | 0 | 0 | 0 | 1 |"
   ]
  },
  {
   "cell_type": "code",
   "execution_count": 11,
   "metadata": {
    "collapsed": false
   },
   "outputs": [
    {
     "data": {
      "text/plain": [
       "array([[ 0.,  0.,  0.,  0.,  0.],\n",
       "       [ 0.,  0.,  0.,  0.,  0.],\n",
       "       [ 0.,  0.,  0.,  0.,  0.],\n",
       "       [ 0.,  0.,  0.,  0.,  0.],\n",
       "       [ 0.,  0.,  0.,  0.,  0.]])"
      ]
     },
     "execution_count": 11,
     "metadata": {},
     "output_type": "execute_result"
    }
   ],
   "source": [
    "idx = [0, 1, 2, 3, 4]\n",
    "y = np.zeros((len(idx), max(idx)+1))\n",
    "y"
   ]
  },
  {
   "cell_type": "code",
   "execution_count": 12,
   "metadata": {
    "collapsed": false
   },
   "outputs": [
    {
     "data": {
      "text/plain": [
       "array([[ 1.,  0.,  0.,  0.,  0.],\n",
       "       [ 0.,  1.,  0.,  0.,  0.],\n",
       "       [ 0.,  0.,  1.,  0.,  0.],\n",
       "       [ 0.,  0.,  0.,  1.,  0.],\n",
       "       [ 0.,  0.,  0.,  0.,  1.]])"
      ]
     },
     "execution_count": 12,
     "metadata": {},
     "output_type": "execute_result"
    }
   ],
   "source": [
    "y[range(len(idx)), idx] = 1\n",
    "#y[np.arange(len(idx)), idx] = 1\n",
    "y"
   ]
  },
  {
   "cell_type": "code",
   "execution_count": 13,
   "metadata": {
    "collapsed": false
   },
   "outputs": [
    {
     "data": {
      "text/html": [
       "<div>\n",
       "<table border=\"1\" class=\"dataframe\">\n",
       "  <thead>\n",
       "    <tr style=\"text-align: right;\">\n",
       "      <th></th>\n",
       "      <th>['high_school_incomp', 'high_school_compl', 'college', 'futher_degree']_1</th>\n",
       "      <th>['high_school_incomp', 'high_school_compl', 'college', 'futher_degree']_2</th>\n",
       "      <th>['high_school_incomp', 'high_school_compl', 'college', 'futher_degree']_3</th>\n",
       "      <th>['high_school_incomp', 'high_school_compl', 'college', 'futher_degree']_4</th>\n",
       "    </tr>\n",
       "  </thead>\n",
       "  <tbody>\n",
       "    <tr>\n",
       "      <th>0</th>\n",
       "      <td>0.0</td>\n",
       "      <td>1.0</td>\n",
       "      <td>0.0</td>\n",
       "      <td>0.0</td>\n",
       "    </tr>\n",
       "    <tr>\n",
       "      <th>1</th>\n",
       "      <td>1.0</td>\n",
       "      <td>0.0</td>\n",
       "      <td>0.0</td>\n",
       "      <td>0.0</td>\n",
       "    </tr>\n",
       "    <tr>\n",
       "      <th>2</th>\n",
       "      <td>0.0</td>\n",
       "      <td>1.0</td>\n",
       "      <td>0.0</td>\n",
       "      <td>0.0</td>\n",
       "    </tr>\n",
       "    <tr>\n",
       "      <th>3</th>\n",
       "      <td>0.0</td>\n",
       "      <td>0.0</td>\n",
       "      <td>1.0</td>\n",
       "      <td>0.0</td>\n",
       "    </tr>\n",
       "    <tr>\n",
       "      <th>4</th>\n",
       "      <td>0.0</td>\n",
       "      <td>0.0</td>\n",
       "      <td>1.0</td>\n",
       "      <td>0.0</td>\n",
       "    </tr>\n",
       "    <tr>\n",
       "      <th>5</th>\n",
       "      <td>0.0</td>\n",
       "      <td>0.0</td>\n",
       "      <td>0.0</td>\n",
       "      <td>1.0</td>\n",
       "    </tr>\n",
       "    <tr>\n",
       "      <th>6</th>\n",
       "      <td>0.0</td>\n",
       "      <td>1.0</td>\n",
       "      <td>0.0</td>\n",
       "      <td>0.0</td>\n",
       "    </tr>\n",
       "    <tr>\n",
       "      <th>7</th>\n",
       "      <td>0.0</td>\n",
       "      <td>0.0</td>\n",
       "      <td>1.0</td>\n",
       "      <td>0.0</td>\n",
       "    </tr>\n",
       "    <tr>\n",
       "      <th>8</th>\n",
       "      <td>0.0</td>\n",
       "      <td>1.0</td>\n",
       "      <td>0.0</td>\n",
       "      <td>0.0</td>\n",
       "    </tr>\n",
       "    <tr>\n",
       "      <th>9</th>\n",
       "      <td>1.0</td>\n",
       "      <td>0.0</td>\n",
       "      <td>0.0</td>\n",
       "      <td>0.0</td>\n",
       "    </tr>\n",
       "    <tr>\n",
       "      <th>10</th>\n",
       "      <td>1.0</td>\n",
       "      <td>0.0</td>\n",
       "      <td>0.0</td>\n",
       "      <td>0.0</td>\n",
       "    </tr>\n",
       "    <tr>\n",
       "      <th>11</th>\n",
       "      <td>1.0</td>\n",
       "      <td>0.0</td>\n",
       "      <td>0.0</td>\n",
       "      <td>0.0</td>\n",
       "    </tr>\n",
       "    <tr>\n",
       "      <th>12</th>\n",
       "      <td>0.0</td>\n",
       "      <td>0.0</td>\n",
       "      <td>0.0</td>\n",
       "      <td>1.0</td>\n",
       "    </tr>\n",
       "    <tr>\n",
       "      <th>13</th>\n",
       "      <td>0.0</td>\n",
       "      <td>1.0</td>\n",
       "      <td>0.0</td>\n",
       "      <td>0.0</td>\n",
       "    </tr>\n",
       "    <tr>\n",
       "      <th>14</th>\n",
       "      <td>0.0</td>\n",
       "      <td>0.0</td>\n",
       "      <td>1.0</td>\n",
       "      <td>0.0</td>\n",
       "    </tr>\n",
       "    <tr>\n",
       "      <th>15</th>\n",
       "      <td>0.0</td>\n",
       "      <td>1.0</td>\n",
       "      <td>0.0</td>\n",
       "      <td>0.0</td>\n",
       "    </tr>\n",
       "    <tr>\n",
       "      <th>16</th>\n",
       "      <td>1.0</td>\n",
       "      <td>0.0</td>\n",
       "      <td>0.0</td>\n",
       "      <td>0.0</td>\n",
       "    </tr>\n",
       "    <tr>\n",
       "      <th>17</th>\n",
       "      <td>0.0</td>\n",
       "      <td>1.0</td>\n",
       "      <td>0.0</td>\n",
       "      <td>0.0</td>\n",
       "    </tr>\n",
       "    <tr>\n",
       "      <th>18</th>\n",
       "      <td>0.0</td>\n",
       "      <td>1.0</td>\n",
       "      <td>0.0</td>\n",
       "      <td>0.0</td>\n",
       "    </tr>\n",
       "    <tr>\n",
       "      <th>19</th>\n",
       "      <td>0.0</td>\n",
       "      <td>1.0</td>\n",
       "      <td>0.0</td>\n",
       "      <td>0.0</td>\n",
       "    </tr>\n",
       "    <tr>\n",
       "      <th>20</th>\n",
       "      <td>0.0</td>\n",
       "      <td>0.0</td>\n",
       "      <td>1.0</td>\n",
       "      <td>0.0</td>\n",
       "    </tr>\n",
       "    <tr>\n",
       "      <th>21</th>\n",
       "      <td>0.0</td>\n",
       "      <td>0.0</td>\n",
       "      <td>1.0</td>\n",
       "      <td>0.0</td>\n",
       "    </tr>\n",
       "    <tr>\n",
       "      <th>22</th>\n",
       "      <td>0.0</td>\n",
       "      <td>0.0</td>\n",
       "      <td>0.0</td>\n",
       "      <td>1.0</td>\n",
       "    </tr>\n",
       "    <tr>\n",
       "      <th>23</th>\n",
       "      <td>0.0</td>\n",
       "      <td>0.0</td>\n",
       "      <td>0.0</td>\n",
       "      <td>1.0</td>\n",
       "    </tr>\n",
       "    <tr>\n",
       "      <th>24</th>\n",
       "      <td>0.0</td>\n",
       "      <td>0.0</td>\n",
       "      <td>0.0</td>\n",
       "      <td>1.0</td>\n",
       "    </tr>\n",
       "    <tr>\n",
       "      <th>25</th>\n",
       "      <td>0.0</td>\n",
       "      <td>1.0</td>\n",
       "      <td>0.0</td>\n",
       "      <td>0.0</td>\n",
       "    </tr>\n",
       "    <tr>\n",
       "      <th>26</th>\n",
       "      <td>0.0</td>\n",
       "      <td>0.0</td>\n",
       "      <td>0.0</td>\n",
       "      <td>1.0</td>\n",
       "    </tr>\n",
       "    <tr>\n",
       "      <th>27</th>\n",
       "      <td>0.0</td>\n",
       "      <td>0.0</td>\n",
       "      <td>0.0</td>\n",
       "      <td>1.0</td>\n",
       "    </tr>\n",
       "    <tr>\n",
       "      <th>28</th>\n",
       "      <td>0.0</td>\n",
       "      <td>0.0</td>\n",
       "      <td>0.0</td>\n",
       "      <td>1.0</td>\n",
       "    </tr>\n",
       "    <tr>\n",
       "      <th>29</th>\n",
       "      <td>1.0</td>\n",
       "      <td>0.0</td>\n",
       "      <td>0.0</td>\n",
       "      <td>0.0</td>\n",
       "    </tr>\n",
       "    <tr>\n",
       "      <th>...</th>\n",
       "      <td>...</td>\n",
       "      <td>...</td>\n",
       "      <td>...</td>\n",
       "      <td>...</td>\n",
       "    </tr>\n",
       "    <tr>\n",
       "      <th>1443</th>\n",
       "      <td>0.0</td>\n",
       "      <td>1.0</td>\n",
       "      <td>0.0</td>\n",
       "      <td>0.0</td>\n",
       "    </tr>\n",
       "    <tr>\n",
       "      <th>1444</th>\n",
       "      <td>0.0</td>\n",
       "      <td>0.0</td>\n",
       "      <td>0.0</td>\n",
       "      <td>1.0</td>\n",
       "    </tr>\n",
       "    <tr>\n",
       "      <th>1445</th>\n",
       "      <td>0.0</td>\n",
       "      <td>0.0</td>\n",
       "      <td>0.0</td>\n",
       "      <td>1.0</td>\n",
       "    </tr>\n",
       "    <tr>\n",
       "      <th>1446</th>\n",
       "      <td>0.0</td>\n",
       "      <td>1.0</td>\n",
       "      <td>0.0</td>\n",
       "      <td>0.0</td>\n",
       "    </tr>\n",
       "    <tr>\n",
       "      <th>1447</th>\n",
       "      <td>0.0</td>\n",
       "      <td>0.0</td>\n",
       "      <td>0.0</td>\n",
       "      <td>1.0</td>\n",
       "    </tr>\n",
       "    <tr>\n",
       "      <th>1448</th>\n",
       "      <td>0.0</td>\n",
       "      <td>1.0</td>\n",
       "      <td>0.0</td>\n",
       "      <td>0.0</td>\n",
       "    </tr>\n",
       "    <tr>\n",
       "      <th>1449</th>\n",
       "      <td>0.0</td>\n",
       "      <td>0.0</td>\n",
       "      <td>0.0</td>\n",
       "      <td>1.0</td>\n",
       "    </tr>\n",
       "    <tr>\n",
       "      <th>1450</th>\n",
       "      <td>0.0</td>\n",
       "      <td>0.0</td>\n",
       "      <td>0.0</td>\n",
       "      <td>1.0</td>\n",
       "    </tr>\n",
       "    <tr>\n",
       "      <th>1451</th>\n",
       "      <td>0.0</td>\n",
       "      <td>1.0</td>\n",
       "      <td>0.0</td>\n",
       "      <td>0.0</td>\n",
       "    </tr>\n",
       "    <tr>\n",
       "      <th>1452</th>\n",
       "      <td>0.0</td>\n",
       "      <td>0.0</td>\n",
       "      <td>1.0</td>\n",
       "      <td>0.0</td>\n",
       "    </tr>\n",
       "    <tr>\n",
       "      <th>1453</th>\n",
       "      <td>1.0</td>\n",
       "      <td>0.0</td>\n",
       "      <td>0.0</td>\n",
       "      <td>0.0</td>\n",
       "    </tr>\n",
       "    <tr>\n",
       "      <th>1454</th>\n",
       "      <td>0.0</td>\n",
       "      <td>0.0</td>\n",
       "      <td>1.0</td>\n",
       "      <td>0.0</td>\n",
       "    </tr>\n",
       "    <tr>\n",
       "      <th>1455</th>\n",
       "      <td>0.0</td>\n",
       "      <td>1.0</td>\n",
       "      <td>0.0</td>\n",
       "      <td>0.0</td>\n",
       "    </tr>\n",
       "    <tr>\n",
       "      <th>1456</th>\n",
       "      <td>0.0</td>\n",
       "      <td>1.0</td>\n",
       "      <td>0.0</td>\n",
       "      <td>0.0</td>\n",
       "    </tr>\n",
       "    <tr>\n",
       "      <th>1457</th>\n",
       "      <td>0.0</td>\n",
       "      <td>0.0</td>\n",
       "      <td>1.0</td>\n",
       "      <td>0.0</td>\n",
       "    </tr>\n",
       "    <tr>\n",
       "      <th>1458</th>\n",
       "      <td>0.0</td>\n",
       "      <td>1.0</td>\n",
       "      <td>0.0</td>\n",
       "      <td>0.0</td>\n",
       "    </tr>\n",
       "    <tr>\n",
       "      <th>1459</th>\n",
       "      <td>0.0</td>\n",
       "      <td>0.0</td>\n",
       "      <td>0.0</td>\n",
       "      <td>1.0</td>\n",
       "    </tr>\n",
       "    <tr>\n",
       "      <th>1460</th>\n",
       "      <td>0.0</td>\n",
       "      <td>0.0</td>\n",
       "      <td>0.0</td>\n",
       "      <td>1.0</td>\n",
       "    </tr>\n",
       "    <tr>\n",
       "      <th>1461</th>\n",
       "      <td>0.0</td>\n",
       "      <td>0.0</td>\n",
       "      <td>0.0</td>\n",
       "      <td>1.0</td>\n",
       "    </tr>\n",
       "    <tr>\n",
       "      <th>1462</th>\n",
       "      <td>0.0</td>\n",
       "      <td>0.0</td>\n",
       "      <td>0.0</td>\n",
       "      <td>1.0</td>\n",
       "    </tr>\n",
       "    <tr>\n",
       "      <th>1463</th>\n",
       "      <td>1.0</td>\n",
       "      <td>0.0</td>\n",
       "      <td>0.0</td>\n",
       "      <td>0.0</td>\n",
       "    </tr>\n",
       "    <tr>\n",
       "      <th>1464</th>\n",
       "      <td>0.0</td>\n",
       "      <td>1.0</td>\n",
       "      <td>0.0</td>\n",
       "      <td>0.0</td>\n",
       "    </tr>\n",
       "    <tr>\n",
       "      <th>1465</th>\n",
       "      <td>0.0</td>\n",
       "      <td>1.0</td>\n",
       "      <td>0.0</td>\n",
       "      <td>0.0</td>\n",
       "    </tr>\n",
       "    <tr>\n",
       "      <th>1466</th>\n",
       "      <td>0.0</td>\n",
       "      <td>1.0</td>\n",
       "      <td>0.0</td>\n",
       "      <td>0.0</td>\n",
       "    </tr>\n",
       "    <tr>\n",
       "      <th>1467</th>\n",
       "      <td>0.0</td>\n",
       "      <td>0.0</td>\n",
       "      <td>0.0</td>\n",
       "      <td>1.0</td>\n",
       "    </tr>\n",
       "    <tr>\n",
       "      <th>1468</th>\n",
       "      <td>0.0</td>\n",
       "      <td>0.0</td>\n",
       "      <td>0.0</td>\n",
       "      <td>1.0</td>\n",
       "    </tr>\n",
       "    <tr>\n",
       "      <th>1469</th>\n",
       "      <td>0.0</td>\n",
       "      <td>0.0</td>\n",
       "      <td>0.0</td>\n",
       "      <td>1.0</td>\n",
       "    </tr>\n",
       "    <tr>\n",
       "      <th>1470</th>\n",
       "      <td>0.0</td>\n",
       "      <td>0.0</td>\n",
       "      <td>1.0</td>\n",
       "      <td>0.0</td>\n",
       "    </tr>\n",
       "    <tr>\n",
       "      <th>1471</th>\n",
       "      <td>0.0</td>\n",
       "      <td>0.0</td>\n",
       "      <td>1.0</td>\n",
       "      <td>0.0</td>\n",
       "    </tr>\n",
       "    <tr>\n",
       "      <th>1472</th>\n",
       "      <td>0.0</td>\n",
       "      <td>0.0</td>\n",
       "      <td>1.0</td>\n",
       "      <td>0.0</td>\n",
       "    </tr>\n",
       "  </tbody>\n",
       "</table>\n",
       "<p>1473 rows × 4 columns</p>\n",
       "</div>"
      ],
      "text/plain": [
       "      ['high_school_incomp', 'high_school_compl', 'college', 'futher_degree']_1  \\\n",
       "0                                                   0.0                           \n",
       "1                                                   1.0                           \n",
       "2                                                   0.0                           \n",
       "3                                                   0.0                           \n",
       "4                                                   0.0                           \n",
       "5                                                   0.0                           \n",
       "6                                                   0.0                           \n",
       "7                                                   0.0                           \n",
       "8                                                   0.0                           \n",
       "9                                                   1.0                           \n",
       "10                                                  1.0                           \n",
       "11                                                  1.0                           \n",
       "12                                                  0.0                           \n",
       "13                                                  0.0                           \n",
       "14                                                  0.0                           \n",
       "15                                                  0.0                           \n",
       "16                                                  1.0                           \n",
       "17                                                  0.0                           \n",
       "18                                                  0.0                           \n",
       "19                                                  0.0                           \n",
       "20                                                  0.0                           \n",
       "21                                                  0.0                           \n",
       "22                                                  0.0                           \n",
       "23                                                  0.0                           \n",
       "24                                                  0.0                           \n",
       "25                                                  0.0                           \n",
       "26                                                  0.0                           \n",
       "27                                                  0.0                           \n",
       "28                                                  0.0                           \n",
       "29                                                  1.0                           \n",
       "...                                                 ...                           \n",
       "1443                                                0.0                           \n",
       "1444                                                0.0                           \n",
       "1445                                                0.0                           \n",
       "1446                                                0.0                           \n",
       "1447                                                0.0                           \n",
       "1448                                                0.0                           \n",
       "1449                                                0.0                           \n",
       "1450                                                0.0                           \n",
       "1451                                                0.0                           \n",
       "1452                                                0.0                           \n",
       "1453                                                1.0                           \n",
       "1454                                                0.0                           \n",
       "1455                                                0.0                           \n",
       "1456                                                0.0                           \n",
       "1457                                                0.0                           \n",
       "1458                                                0.0                           \n",
       "1459                                                0.0                           \n",
       "1460                                                0.0                           \n",
       "1461                                                0.0                           \n",
       "1462                                                0.0                           \n",
       "1463                                                1.0                           \n",
       "1464                                                0.0                           \n",
       "1465                                                0.0                           \n",
       "1466                                                0.0                           \n",
       "1467                                                0.0                           \n",
       "1468                                                0.0                           \n",
       "1469                                                0.0                           \n",
       "1470                                                0.0                           \n",
       "1471                                                0.0                           \n",
       "1472                                                0.0                           \n",
       "\n",
       "      ['high_school_incomp', 'high_school_compl', 'college', 'futher_degree']_2  \\\n",
       "0                                                   1.0                           \n",
       "1                                                   0.0                           \n",
       "2                                                   1.0                           \n",
       "3                                                   0.0                           \n",
       "4                                                   0.0                           \n",
       "5                                                   0.0                           \n",
       "6                                                   1.0                           \n",
       "7                                                   0.0                           \n",
       "8                                                   1.0                           \n",
       "9                                                   0.0                           \n",
       "10                                                  0.0                           \n",
       "11                                                  0.0                           \n",
       "12                                                  0.0                           \n",
       "13                                                  1.0                           \n",
       "14                                                  0.0                           \n",
       "15                                                  1.0                           \n",
       "16                                                  0.0                           \n",
       "17                                                  1.0                           \n",
       "18                                                  1.0                           \n",
       "19                                                  1.0                           \n",
       "20                                                  0.0                           \n",
       "21                                                  0.0                           \n",
       "22                                                  0.0                           \n",
       "23                                                  0.0                           \n",
       "24                                                  0.0                           \n",
       "25                                                  1.0                           \n",
       "26                                                  0.0                           \n",
       "27                                                  0.0                           \n",
       "28                                                  0.0                           \n",
       "29                                                  0.0                           \n",
       "...                                                 ...                           \n",
       "1443                                                1.0                           \n",
       "1444                                                0.0                           \n",
       "1445                                                0.0                           \n",
       "1446                                                1.0                           \n",
       "1447                                                0.0                           \n",
       "1448                                                1.0                           \n",
       "1449                                                0.0                           \n",
       "1450                                                0.0                           \n",
       "1451                                                1.0                           \n",
       "1452                                                0.0                           \n",
       "1453                                                0.0                           \n",
       "1454                                                0.0                           \n",
       "1455                                                1.0                           \n",
       "1456                                                1.0                           \n",
       "1457                                                0.0                           \n",
       "1458                                                1.0                           \n",
       "1459                                                0.0                           \n",
       "1460                                                0.0                           \n",
       "1461                                                0.0                           \n",
       "1462                                                0.0                           \n",
       "1463                                                0.0                           \n",
       "1464                                                1.0                           \n",
       "1465                                                1.0                           \n",
       "1466                                                1.0                           \n",
       "1467                                                0.0                           \n",
       "1468                                                0.0                           \n",
       "1469                                                0.0                           \n",
       "1470                                                0.0                           \n",
       "1471                                                0.0                           \n",
       "1472                                                0.0                           \n",
       "\n",
       "      ['high_school_incomp', 'high_school_compl', 'college', 'futher_degree']_3  \\\n",
       "0                                                   0.0                           \n",
       "1                                                   0.0                           \n",
       "2                                                   0.0                           \n",
       "3                                                   1.0                           \n",
       "4                                                   1.0                           \n",
       "5                                                   0.0                           \n",
       "6                                                   0.0                           \n",
       "7                                                   1.0                           \n",
       "8                                                   0.0                           \n",
       "9                                                   0.0                           \n",
       "10                                                  0.0                           \n",
       "11                                                  0.0                           \n",
       "12                                                  0.0                           \n",
       "13                                                  0.0                           \n",
       "14                                                  1.0                           \n",
       "15                                                  0.0                           \n",
       "16                                                  0.0                           \n",
       "17                                                  0.0                           \n",
       "18                                                  0.0                           \n",
       "19                                                  0.0                           \n",
       "20                                                  1.0                           \n",
       "21                                                  1.0                           \n",
       "22                                                  0.0                           \n",
       "23                                                  0.0                           \n",
       "24                                                  0.0                           \n",
       "25                                                  0.0                           \n",
       "26                                                  0.0                           \n",
       "27                                                  0.0                           \n",
       "28                                                  0.0                           \n",
       "29                                                  0.0                           \n",
       "...                                                 ...                           \n",
       "1443                                                0.0                           \n",
       "1444                                                0.0                           \n",
       "1445                                                0.0                           \n",
       "1446                                                0.0                           \n",
       "1447                                                0.0                           \n",
       "1448                                                0.0                           \n",
       "1449                                                0.0                           \n",
       "1450                                                0.0                           \n",
       "1451                                                0.0                           \n",
       "1452                                                1.0                           \n",
       "1453                                                0.0                           \n",
       "1454                                                1.0                           \n",
       "1455                                                0.0                           \n",
       "1456                                                0.0                           \n",
       "1457                                                1.0                           \n",
       "1458                                                0.0                           \n",
       "1459                                                0.0                           \n",
       "1460                                                0.0                           \n",
       "1461                                                0.0                           \n",
       "1462                                                0.0                           \n",
       "1463                                                0.0                           \n",
       "1464                                                0.0                           \n",
       "1465                                                0.0                           \n",
       "1466                                                0.0                           \n",
       "1467                                                0.0                           \n",
       "1468                                                0.0                           \n",
       "1469                                                0.0                           \n",
       "1470                                                1.0                           \n",
       "1471                                                1.0                           \n",
       "1472                                                1.0                           \n",
       "\n",
       "      ['high_school_incomp', 'high_school_compl', 'college', 'futher_degree']_4  \n",
       "0                                                   0.0                          \n",
       "1                                                   0.0                          \n",
       "2                                                   0.0                          \n",
       "3                                                   0.0                          \n",
       "4                                                   0.0                          \n",
       "5                                                   1.0                          \n",
       "6                                                   0.0                          \n",
       "7                                                   0.0                          \n",
       "8                                                   0.0                          \n",
       "9                                                   0.0                          \n",
       "10                                                  0.0                          \n",
       "11                                                  0.0                          \n",
       "12                                                  1.0                          \n",
       "13                                                  0.0                          \n",
       "14                                                  0.0                          \n",
       "15                                                  0.0                          \n",
       "16                                                  0.0                          \n",
       "17                                                  0.0                          \n",
       "18                                                  0.0                          \n",
       "19                                                  0.0                          \n",
       "20                                                  0.0                          \n",
       "21                                                  0.0                          \n",
       "22                                                  1.0                          \n",
       "23                                                  1.0                          \n",
       "24                                                  1.0                          \n",
       "25                                                  0.0                          \n",
       "26                                                  1.0                          \n",
       "27                                                  1.0                          \n",
       "28                                                  1.0                          \n",
       "29                                                  0.0                          \n",
       "...                                                 ...                          \n",
       "1443                                                0.0                          \n",
       "1444                                                1.0                          \n",
       "1445                                                1.0                          \n",
       "1446                                                0.0                          \n",
       "1447                                                1.0                          \n",
       "1448                                                0.0                          \n",
       "1449                                                1.0                          \n",
       "1450                                                1.0                          \n",
       "1451                                                0.0                          \n",
       "1452                                                0.0                          \n",
       "1453                                                0.0                          \n",
       "1454                                                0.0                          \n",
       "1455                                                0.0                          \n",
       "1456                                                0.0                          \n",
       "1457                                                0.0                          \n",
       "1458                                                0.0                          \n",
       "1459                                                1.0                          \n",
       "1460                                                1.0                          \n",
       "1461                                                1.0                          \n",
       "1462                                                1.0                          \n",
       "1463                                                0.0                          \n",
       "1464                                                0.0                          \n",
       "1465                                                0.0                          \n",
       "1466                                                0.0                          \n",
       "1467                                                1.0                          \n",
       "1468                                                1.0                          \n",
       "1469                                                1.0                          \n",
       "1470                                                0.0                          \n",
       "1471                                                0.0                          \n",
       "1472                                                0.0                          \n",
       "\n",
       "[1473 rows x 4 columns]"
      ]
     },
     "execution_count": 13,
     "metadata": {},
     "output_type": "execute_result"
    }
   ],
   "source": [
    "#Pandas also provides get_dummies function\n",
    "\n",
    "pd.get_dummies(df.Education, prefix=['high_school_incomp', 'high_school_compl', 'college', 'futher_degree'])"
   ]
  },
  {
   "cell_type": "markdown",
   "metadata": {},
   "source": [
    "## Scaling\n",
    "\n",
    "is to preprocess data to have average=0 and distribtuion=1.  \n",
    "Scaling prevent overflow and underflow"
   ]
  },
  {
   "cell_type": "code",
   "execution_count": 14,
   "metadata": {
    "collapsed": false
   },
   "outputs": [
    {
     "name": "stdout",
     "output_type": "stream",
     "text": [
      "old mean of Age: 32.53835709436524\n",
      "old std: 8.224451598114449\n",
      "new mean of Age: 2.99074335486e-16\n",
      "new std: 1.0\n"
     ]
    },
    {
     "name": "stderr",
     "output_type": "stream",
     "text": [
      "/home/grace/.local/lib/python3.5/site-packages/sklearn/utils/validation.py:475: DataConversionWarning: Data with input dtype int64 was converted to float64 by the scale function.\n",
      "  warnings.warn(msg, DataConversionWarning)\n"
     ]
    }
   ],
   "source": [
    "old_age = df.Age\n",
    "print('old mean of Age:', np.mean(old_age, axis=0))\n",
    "print('old std:', np.std(old_age, axis=0))\n",
    "\n",
    "new_age = scale(old_age)\n",
    "print('new mean of Age:', np.mean(new_age, axis=0))\n",
    "print('new std:', np.std(new_age, axis=0))"
   ]
  },
  {
   "cell_type": "code",
   "execution_count": 15,
   "metadata": {
    "collapsed": false
   },
   "outputs": [
    {
     "name": "stdout",
     "output_type": "stream",
     "text": [
      "old mean: Age          32.538357\n",
      "num_child     3.261371\n",
      "dtype: float64\n",
      "old std: Age          8.224452\n",
      "num_child    2.357748\n",
      "dtype: float64\n",
      "new mean: [  2.99074335e-16  -7.23566941e-18]\n",
      "new std: [ 1.  1.]\n"
     ]
    }
   ],
   "source": [
    "# 파이프라인을 이용하기 위해서는 scale함수가 아니라 scalar 클래스를 구현해야한다.\n",
    "# scale 함수와 대응되는 클래스는 StandardScaler이다\n",
    "\n",
    "#fit으로 훈련 데이터를 활용하여 변환 계수 추정\n",
    "#transform으로 실제 자료를 변환\n",
    "age_child = df[['Age','num_child']]\n",
    "\n",
    "scaler = StandardScaler()\n",
    "scaler.fit(age_child)\n",
    "new_age_by_class = scaler.transform(age_child)\n",
    "print('old mean:', np.mean(age_child, axis=0))\n",
    "print('old std:', np.std(age_child, axis=0))\n",
    "\n",
    "print('new mean:', np.mean(new_age_by_class, axis=0))\n",
    "print('new std:', np.std(new_age_by_class, axis=0))\n",
    "\n",
    "#fit_transform()을 통해 동시에 실행가능"
   ]
  },
  {
   "cell_type": "code",
   "execution_count": 16,
   "metadata": {
    "collapsed": true
   },
   "outputs": [],
   "source": [
    "scaler = StandardScaler()\n",
    "df[['Age', 'num_child']] = scaler.fit_transform(df[['Age', 'num_child']])"
   ]
  },
  {
   "cell_type": "code",
   "execution_count": 17,
   "metadata": {
    "collapsed": true
   },
   "outputs": [],
   "source": [
    "x = df[['Age', 'num_child', 'Employ', 'Media_exposure']].values\n",
    "y = one_hot_encoding(df.contraceptive.values-1)"
   ]
  },
  {
   "cell_type": "code",
   "execution_count": 48,
   "metadata": {
    "collapsed": false
   },
   "outputs": [],
   "source": [
    "liv_cats = df.living_standard.max()\n",
    "edu_cats = df.Education.max()\n",
    "\n",
    "liv = df.living_standard.values-1\n",
    "liv_one_hot = one_hot_encoding(liv)\n",
    "edu = df.Education.values-1\n",
    "edu_one_hot = one_hot_encoding(edu)"
   ]
  },
  {
   "cell_type": "code",
   "execution_count": 49,
   "metadata": {
    "collapsed": true
   },
   "outputs": [],
   "source": [
    "train_x, test_x, \\\n",
    "train_liv, test_liv,\\\n",
    "train_edu, test_edu,\\\n",
    "train_y, test_y = train_test_split(x, liv_one_hot, edu_one_hot, y, test_size=0.1, random_state=1)"
   ]
  },
  {
   "cell_type": "code",
   "execution_count": 50,
   "metadata": {
    "collapsed": false
   },
   "outputs": [
    {
     "data": {
      "text/plain": [
       "(1325, 4)"
      ]
     },
     "execution_count": 50,
     "metadata": {},
     "output_type": "execute_result"
    }
   ],
   "source": [
    "train_x.shape"
   ]
  },
  {
   "cell_type": "code",
   "execution_count": 51,
   "metadata": {
    "collapsed": false
   },
   "outputs": [
    {
     "data": {
      "text/plain": [
       "(1325, 4)"
      ]
     },
     "execution_count": 51,
     "metadata": {},
     "output_type": "execute_result"
    }
   ],
   "source": [
    "train_edu.shape"
   ]
  },
  {
   "cell_type": "code",
   "execution_count": 52,
   "metadata": {
    "collapsed": false
   },
   "outputs": [
    {
     "data": {
      "text/plain": [
       "(1325, 4)"
      ]
     },
     "execution_count": 52,
     "metadata": {},
     "output_type": "execute_result"
    }
   ],
   "source": [
    "train_liv.shape"
   ]
  },
  {
   "cell_type": "code",
   "execution_count": 53,
   "metadata": {
    "collapsed": false
   },
   "outputs": [
    {
     "name": "stdout",
     "output_type": "stream",
     "text": [
      "[[ 1  2  3  7  8  9]\n",
      " [ 4  5  6 10 11 12]]\n",
      "[1 2 3 4 5 6 7 8 9]\n"
     ]
    }
   ],
   "source": [
    "#np.hstack is concatenation along the second axis\n",
    "#두개 이상의 배열을 옆으로 연결하여 열의 수가 더 많은 배열을 만든다\n",
    "aa = [[1,2,3],\n",
    "      [4,5,6]]\n",
    "bb = [[7,8,9],\n",
    "      [10,11,12]]\n",
    "\n",
    "combined_2 = np.hstack([aa,bb])\n",
    "print(combined_2)\n",
    "\n",
    "#BUT when input is 1-D array, concatenation along the first axis\n",
    "a = [1,2,3,4,5]\n",
    "b = [6,7,8,9]\n",
    "\n",
    "combined = np.hstack([a,b])\n",
    "print(combined)"
   ]
  },
  {
   "cell_type": "code",
   "execution_count": 54,
   "metadata": {
    "collapsed": false
   },
   "outputs": [
    {
     "name": "stdout",
     "output_type": "stream",
     "text": [
      "[[ 1  2  3]\n",
      " [ 4  5  6]\n",
      " [ 7  8  9]\n",
      " [10 11 12]]\n"
     ]
    }
   ],
   "source": [
    "#np.vstack은 열의 수가 같은 두개 이상의 배열을 연결하여 행의 수가 더 많은 배열을 만든다.\n",
    "aa = [[1,2,3],\n",
    "      [4,5,6]]\n",
    "bb = [[7,8,9],\n",
    "      [10,11,12]]\n",
    "\n",
    "combined_2 = np.vstack([aa,bb])\n",
    "print(combined_2)"
   ]
  },
  {
   "cell_type": "code",
   "execution_count": 55,
   "metadata": {
    "collapsed": false
   },
   "outputs": [
    {
     "data": {
      "text/plain": [
       "(1325, 12)"
      ]
     },
     "execution_count": 55,
     "metadata": {},
     "output_type": "execute_result"
    }
   ],
   "source": [
    "train_x = np.hstack([train_x, train_edu, train_liv])\n",
    "test_x = np.hstack([test_x, test_edu, test_liv])\n",
    "train_x.shape"
   ]
  },
  {
   "cell_type": "code",
   "execution_count": 56,
   "metadata": {
    "collapsed": false
   },
   "outputs": [
    {
     "name": "stderr",
     "output_type": "stream",
     "text": [
      "/home/grace/anaconda3/lib/python3.5/site-packages/ipykernel/__main__.py:5: UserWarning: Update your `Dense` call to the Keras 2 API: `Dense(units=12, input_dim=12)`\n",
      "/home/grace/anaconda3/lib/python3.5/site-packages/ipykernel/__main__.py:7: UserWarning: Update your `Dense` call to the Keras 2 API: `Dense(units=3)`\n",
      "/home/grace/anaconda3/lib/python3.5/site-packages/ipykernel/__main__.py:11: UserWarning: The `nb_epoch` argument in `fit` has been renamed `epochs`.\n"
     ]
    },
    {
     "name": "stdout",
     "output_type": "stream",
     "text": [
      "Epoch 1/100\n",
      " - 0s - loss: 1.0736 - acc: 0.4196\n",
      "Epoch 2/100\n",
      " - 0s - loss: 1.0164 - acc: 0.4558\n",
      "Epoch 3/100\n",
      " - 0s - loss: 0.9983 - acc: 0.4725\n",
      "Epoch 4/100\n",
      " - 0s - loss: 0.9866 - acc: 0.4860\n",
      "Epoch 5/100\n",
      " - 0s - loss: 0.9783 - acc: 0.4981\n",
      "Epoch 6/100\n",
      " - 0s - loss: 0.9713 - acc: 0.5125\n",
      "Epoch 7/100\n",
      " - 0s - loss: 0.9647 - acc: 0.5238\n",
      "Epoch 8/100\n",
      " - 0s - loss: 0.9591 - acc: 0.5358\n",
      "Epoch 9/100\n",
      " - 0s - loss: 0.9541 - acc: 0.5434\n",
      "Epoch 10/100\n",
      " - 0s - loss: 0.9495 - acc: 0.5502\n",
      "Epoch 11/100\n",
      " - 0s - loss: 0.9455 - acc: 0.5472\n",
      "Epoch 12/100\n",
      " - 0s - loss: 0.9421 - acc: 0.5509\n",
      "Epoch 13/100\n",
      " - 0s - loss: 0.9390 - acc: 0.5532\n",
      "Epoch 14/100\n",
      " - 0s - loss: 0.9360 - acc: 0.5547\n",
      "Epoch 15/100\n",
      " - 0s - loss: 0.9335 - acc: 0.5562\n",
      "Epoch 16/100\n",
      " - 0s - loss: 0.9311 - acc: 0.5547\n",
      "Epoch 17/100\n",
      " - 0s - loss: 0.9290 - acc: 0.5585\n",
      "Epoch 18/100\n",
      " - 0s - loss: 0.9273 - acc: 0.5592\n",
      "Epoch 19/100\n",
      " - 0s - loss: 0.9252 - acc: 0.5570\n",
      "Epoch 20/100\n",
      " - 0s - loss: 0.9236 - acc: 0.5547\n",
      "Epoch 21/100\n",
      " - 0s - loss: 0.9222 - acc: 0.5555\n",
      "Epoch 22/100\n",
      " - 0s - loss: 0.9209 - acc: 0.5577\n",
      "Epoch 23/100\n",
      " - 0s - loss: 0.9196 - acc: 0.5562\n",
      "Epoch 24/100\n",
      " - 0s - loss: 0.9186 - acc: 0.5600\n",
      "Epoch 25/100\n",
      " - 0s - loss: 0.9176 - acc: 0.5562\n",
      "Epoch 26/100\n",
      " - 0s - loss: 0.9166 - acc: 0.5585\n",
      "Epoch 27/100\n",
      " - 0s - loss: 0.9157 - acc: 0.5592\n",
      "Epoch 28/100\n",
      " - 0s - loss: 0.9149 - acc: 0.5577\n",
      "Epoch 29/100\n",
      " - 0s - loss: 0.9141 - acc: 0.5600\n",
      "Epoch 30/100\n",
      " - 0s - loss: 0.9133 - acc: 0.5623\n",
      "Epoch 31/100\n",
      " - 0s - loss: 0.9126 - acc: 0.5615\n",
      "Epoch 32/100\n",
      " - 0s - loss: 0.9119 - acc: 0.5630\n",
      "Epoch 33/100\n",
      " - 0s - loss: 0.9113 - acc: 0.5600\n",
      "Epoch 34/100\n",
      " - 0s - loss: 0.9107 - acc: 0.5623\n",
      "Epoch 35/100\n",
      " - 0s - loss: 0.9100 - acc: 0.5592\n",
      "Epoch 36/100\n",
      " - 0s - loss: 0.9095 - acc: 0.5645\n",
      "Epoch 37/100\n",
      " - 0s - loss: 0.9089 - acc: 0.5630\n",
      "Epoch 38/100\n",
      " - 0s - loss: 0.9083 - acc: 0.5653\n",
      "Epoch 39/100\n",
      " - 0s - loss: 0.9079 - acc: 0.5623\n",
      "Epoch 40/100\n",
      " - 0s - loss: 0.9074 - acc: 0.5630\n",
      "Epoch 41/100\n",
      " - 0s - loss: 0.9070 - acc: 0.5645\n",
      "Epoch 42/100\n",
      " - 0s - loss: 0.9065 - acc: 0.5638\n",
      "Epoch 43/100\n",
      " - 0s - loss: 0.9061 - acc: 0.5638\n",
      "Epoch 44/100\n",
      " - 0s - loss: 0.9057 - acc: 0.5638\n",
      "Epoch 45/100\n",
      " - 0s - loss: 0.9053 - acc: 0.5638\n",
      "Epoch 46/100\n",
      " - 0s - loss: 0.9049 - acc: 0.5660\n",
      "Epoch 47/100\n",
      " - 0s - loss: 0.9046 - acc: 0.5660\n",
      "Epoch 48/100\n",
      " - 0s - loss: 0.9042 - acc: 0.5691\n",
      "Epoch 49/100\n",
      " - 0s - loss: 0.9040 - acc: 0.5706\n",
      "Epoch 50/100\n",
      " - 0s - loss: 0.9036 - acc: 0.5691\n",
      "Epoch 51/100\n",
      " - 0s - loss: 0.9032 - acc: 0.5706\n",
      "Epoch 52/100\n",
      " - 0s - loss: 0.9029 - acc: 0.5728\n",
      "Epoch 53/100\n",
      " - 0s - loss: 0.9026 - acc: 0.5728\n",
      "Epoch 54/100\n",
      " - 0s - loss: 0.9022 - acc: 0.5713\n",
      "Epoch 55/100\n",
      " - 0s - loss: 0.9020 - acc: 0.5743\n",
      "Epoch 56/100\n",
      " - 0s - loss: 0.9017 - acc: 0.5728\n",
      "Epoch 57/100\n",
      " - 0s - loss: 0.9014 - acc: 0.5743\n",
      "Epoch 58/100\n",
      " - 0s - loss: 0.9011 - acc: 0.5774\n",
      "Epoch 59/100\n",
      " - 0s - loss: 0.9008 - acc: 0.5781\n",
      "Epoch 60/100\n",
      " - 0s - loss: 0.9005 - acc: 0.5766\n",
      "Epoch 61/100\n",
      " - 0s - loss: 0.9003 - acc: 0.5766\n",
      "Epoch 62/100\n",
      " - 0s - loss: 0.9000 - acc: 0.5781\n",
      "Epoch 63/100\n",
      " - 0s - loss: 0.8997 - acc: 0.5789\n",
      "Epoch 64/100\n",
      " - 0s - loss: 0.8995 - acc: 0.5774\n",
      "Epoch 65/100\n",
      " - 0s - loss: 0.8992 - acc: 0.5819\n",
      "Epoch 66/100\n",
      " - 0s - loss: 0.8990 - acc: 0.5819\n",
      "Epoch 67/100\n",
      " - 0s - loss: 0.8988 - acc: 0.5819\n",
      "Epoch 68/100\n",
      " - 0s - loss: 0.8985 - acc: 0.5804\n",
      "Epoch 69/100\n",
      " - 0s - loss: 0.8983 - acc: 0.5789\n",
      "Epoch 70/100\n",
      " - 0s - loss: 0.8980 - acc: 0.5819\n",
      "Epoch 71/100\n",
      " - 0s - loss: 0.8978 - acc: 0.5819\n",
      "Epoch 72/100\n",
      " - 0s - loss: 0.8976 - acc: 0.5811\n",
      "Epoch 73/100\n",
      " - 0s - loss: 0.8974 - acc: 0.5804\n",
      "Epoch 74/100\n",
      " - 0s - loss: 0.8972 - acc: 0.5804\n",
      "Epoch 75/100\n",
      " - 0s - loss: 0.8969 - acc: 0.5819\n",
      "Epoch 76/100\n",
      " - 0s - loss: 0.8968 - acc: 0.5811\n",
      "Epoch 77/100\n",
      " - 0s - loss: 0.8966 - acc: 0.5781\n",
      "Epoch 78/100\n",
      " - 0s - loss: 0.8964 - acc: 0.5789\n",
      "Epoch 79/100\n",
      " - 0s - loss: 0.8962 - acc: 0.5796\n",
      "Epoch 80/100\n",
      " - 0s - loss: 0.8960 - acc: 0.5774\n",
      "Epoch 81/100\n",
      " - 0s - loss: 0.8958 - acc: 0.5789\n",
      "Epoch 82/100\n",
      " - 0s - loss: 0.8956 - acc: 0.5774\n",
      "Epoch 83/100\n",
      " - 0s - loss: 0.8954 - acc: 0.5796\n",
      "Epoch 84/100\n",
      " - 0s - loss: 0.8952 - acc: 0.5804\n",
      "Epoch 85/100\n",
      " - 0s - loss: 0.8950 - acc: 0.5796\n",
      "Epoch 86/100\n",
      " - 0s - loss: 0.8949 - acc: 0.5819\n",
      "Epoch 87/100\n",
      " - 0s - loss: 0.8947 - acc: 0.5804\n",
      "Epoch 88/100\n",
      " - 0s - loss: 0.8945 - acc: 0.5811\n",
      "Epoch 89/100\n",
      " - 0s - loss: 0.8943 - acc: 0.5796\n",
      "Epoch 90/100\n",
      " - 0s - loss: 0.8942 - acc: 0.5796\n",
      "Epoch 91/100\n",
      " - 0s - loss: 0.8940 - acc: 0.5789\n",
      "Epoch 92/100\n",
      " - 0s - loss: 0.8939 - acc: 0.5804\n",
      "Epoch 93/100\n",
      " - 0s - loss: 0.8937 - acc: 0.5796\n",
      "Epoch 94/100\n",
      " - 0s - loss: 0.8935 - acc: 0.5811\n",
      "Epoch 95/100\n",
      " - 0s - loss: 0.8934 - acc: 0.5781\n",
      "Epoch 96/100\n",
      " - 0s - loss: 0.8932 - acc: 0.5811\n",
      "Epoch 97/100\n",
      " - 0s - loss: 0.8931 - acc: 0.5789\n",
      "Epoch 98/100\n",
      " - 0s - loss: 0.8929 - acc: 0.5804\n",
      "Epoch 99/100\n",
      " - 0s - loss: 0.8928 - acc: 0.5804\n",
      "Epoch 100/100\n",
      " - 0s - loss: 0.8927 - acc: 0.5796\n"
     ]
    },
    {
     "data": {
      "text/plain": [
       "<keras.callbacks.History at 0x7f9a28748320>"
      ]
     },
     "execution_count": 56,
     "metadata": {},
     "output_type": "execute_result"
    }
   ],
   "source": [
    "#model 순차모델\n",
    "\n",
    "model = Sequential()\n",
    "#모델의 입력값은 (첫번째 레이어는) 사용자로부터 주어진 입력값의 정보\n",
    "model.add(Dense(input_dim=train_x.shape[1], output_dim=12))\n",
    "model.add(Activation('relu'))\n",
    "model.add(Dense(output_dim=3))\n",
    "model.add(Activation('softmax'))\n",
    "\n",
    "model.compile(optimizer='adagrad', loss='categorical_crossentropy', metrics=['accuracy'])\n",
    "model.fit(train_x, train_y, nb_epoch=100, verbose=2)"
   ]
  },
  {
   "cell_type": "code",
   "execution_count": 57,
   "metadata": {
    "collapsed": false
   },
   "outputs": [
    {
     "name": "stdout",
     "output_type": "stream",
     "text": [
      "_________________________________________________________________\n",
      "Layer (type)                 Output Shape              Param #   \n",
      "=================================================================\n",
      "dense_5 (Dense)              (None, 12)                156       \n",
      "_________________________________________________________________\n",
      "activation_5 (Activation)    (None, 12)                0         \n",
      "_________________________________________________________________\n",
      "dense_6 (Dense)              (None, 3)                 39        \n",
      "_________________________________________________________________\n",
      "activation_6 (Activation)    (None, 3)                 0         \n",
      "=================================================================\n",
      "Total params: 195\n",
      "Trainable params: 195\n",
      "Non-trainable params: 0\n",
      "_________________________________________________________________\n"
     ]
    }
   ],
   "source": [
    "model.summary()"
   ]
  },
  {
   "cell_type": "code",
   "execution_count": 58,
   "metadata": {
    "collapsed": false
   },
   "outputs": [
    {
     "name": "stdout",
     "output_type": "stream",
     "text": [
      "(12, 12)\n",
      "(12,)\n",
      "(12, 3)\n",
      "(3,)\n"
     ]
    }
   ],
   "source": [
    "for w in model.get_weights():\n",
    "    print(w.shape)"
   ]
  },
  {
   "cell_type": "code",
   "execution_count": 59,
   "metadata": {
    "collapsed": false
   },
   "outputs": [
    {
     "name": "stdout",
     "output_type": "stream",
     "text": [
      "\r",
      "148/148 [==============================] - 0s 167us/step\n"
     ]
    },
    {
     "data": {
      "text/plain": [
       "[0.85526365041732788, 0.60135138034820557]"
      ]
     },
     "execution_count": 59,
     "metadata": {},
     "output_type": "execute_result"
    }
   ],
   "source": [
    "model.evaluate(test_x, test_y, batch_size=256)"
   ]
  },
  {
   "cell_type": "code",
   "execution_count": 60,
   "metadata": {
    "collapsed": false
   },
   "outputs": [
    {
     "data": {
      "text/plain": [
       "array([[ 0.26413348,  0.21689203,  0.51897448],\n",
       "       [ 0.76925462,  0.1420006 ,  0.08874473],\n",
       "       [ 0.26952514,  0.23453273,  0.49594206],\n",
       "       [ 0.484512  ,  0.30060306,  0.21488501],\n",
       "       [ 0.75211769,  0.15869322,  0.0891891 ],\n",
       "       [ 0.17417434,  0.51307213,  0.31275356],\n",
       "       [ 0.14898916,  0.38926655,  0.46174434],\n",
       "       [ 0.75296396,  0.11855028,  0.12848574],\n",
       "       [ 0.8097229 ,  0.02202768,  0.16824944],\n",
       "       [ 0.69803709,  0.11388898,  0.18807401]], dtype=float32)"
      ]
     },
     "execution_count": 60,
     "metadata": {},
     "output_type": "execute_result"
    }
   ],
   "source": [
    "model.predict(test_x[:10])"
   ]
  },
  {
   "cell_type": "code",
   "execution_count": 62,
   "metadata": {
    "collapsed": false
   },
   "outputs": [],
   "source": [
    "train_x, test_x, train_liv, \\\n",
    "test_liv, train_edu, test_edu, train_y, test_y = train_test_split(x,liv,edu,y,test_size=0.1, random_state=1)"
   ]
  },
  {
   "cell_type": "code",
   "execution_count": null,
   "metadata": {
    "collapsed": true
   },
   "outputs": [],
   "source": []
  }
 ],
 "metadata": {
  "anaconda-cloud": {},
  "kernelspec": {
   "display_name": "Python [conda root]",
   "language": "python",
   "name": "conda-root-py"
  },
  "language_info": {
   "codemirror_mode": {
    "name": "ipython",
    "version": 3
   },
   "file_extension": ".py",
   "mimetype": "text/x-python",
   "name": "python",
   "nbconvert_exporter": "python",
   "pygments_lexer": "ipython3",
   "version": "3.5.2"
  }
 },
 "nbformat": 4,
 "nbformat_minor": 2
}
