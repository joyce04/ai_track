{
 "cells": [
  {
   "cell_type": "markdown",
   "metadata": {},
   "source": [
    "## RNN (LSTM):\n",
    "\n",
    "- 입력된 데이터의 순서를 고려\n",
    "- 앞서 받은 데이터를 잠시 기억할 수 있다 -> 중요도에 따라 가중치를 적용하여 다음 데이터로 넘어간다.\n",
    "\n",
    "- 1. 다수 입력 단일 출력 : 문장을 읽고 뜻을 파악할 때\n",
    "- 2. 단입 입력 다수 출력 : 사진의 캡션을 만들 때\n",
    "- 3. 다수 입력 다수 출력 : 문장을 번역할 때"
   ]
  },
  {
   "cell_type": "markdown",
   "metadata": {},
   "source": [
    "## Classify Reuters with LSTM"
   ]
  },
  {
   "cell_type": "code",
   "execution_count": 3,
   "metadata": {},
   "outputs": [],
   "source": [
    "from keras.datasets import reuters\n",
    "import numpy as np"
   ]
  },
  {
   "cell_type": "code",
   "execution_count": 2,
   "metadata": {},
   "outputs": [],
   "source": [
    "# words with frequency rank of 1-1000\n",
    "(X_train, Y_train), (X_test, Y_test) = reuters.load_data(num_words=1000, test_split=0.2)"
   ]
  },
  {
   "cell_type": "code",
   "execution_count": 7,
   "metadata": {},
   "outputs": [
    {
     "data": {
      "text/plain": [
       "(8982,)"
      ]
     },
     "execution_count": 7,
     "metadata": {},
     "output_type": "execute_result"
    }
   ],
   "source": [
    "X_train.shape"
   ]
  },
  {
   "cell_type": "code",
   "execution_count": 8,
   "metadata": {},
   "outputs": [
    {
     "data": {
      "text/plain": [
       "(2246,)"
      ]
     },
     "execution_count": 8,
     "metadata": {},
     "output_type": "execute_result"
    }
   ],
   "source": [
    "X_test.shape"
   ]
  },
  {
   "cell_type": "code",
   "execution_count": 5,
   "metadata": {},
   "outputs": [
    {
     "data": {
      "text/plain": [
       "46"
      ]
     },
     "execution_count": 5,
     "metadata": {},
     "output_type": "execute_result"
    }
   ],
   "source": [
    "category = np.max(Y_train)+1\n",
    "category"
   ]
  },
  {
   "cell_type": "code",
   "execution_count": 12,
   "metadata": {},
   "outputs": [
    {
     "name": "stdout",
     "output_type": "stream",
     "text": [
      "[1, 2, 2, 8, 43, 10, 447, 5, 25, 207, 270, 5, 2, 111, 16, 369, 186, 90, 67, 7, 89, 5, 19, 102, 6, 19, 124, 15, 90, 67, 84, 22, 482, 26, 7, 48, 4, 49, 8, 864, 39, 209, 154, 6, 151, 6, 83, 11, 15, 22, 155, 11, 15, 7, 48, 9, 2, 2, 504, 6, 258, 6, 272, 11, 15, 22, 134, 44, 11, 15, 16, 8, 197, 2, 90, 67, 52, 29, 209, 30, 32, 132, 6, 109, 15, 17, 12]\n"
     ]
    }
   ],
   "source": [
    "# count vector 3 = 3rd most frequent word\n",
    "print(X_train[0])"
   ]
  },
  {
   "cell_type": "markdown",
   "metadata": {},
   "source": [
    "### Preprocessing\n",
    "\n",
    "- 각 기사의 단어 수가 다름으로 단어의 숫자를 맞춰야 한다"
   ]
  },
  {
   "cell_type": "code",
   "execution_count": 13,
   "metadata": {},
   "outputs": [],
   "source": [
    "from keras.preprocessing import sequence"
   ]
  },
  {
   "cell_type": "code",
   "execution_count": 14,
   "metadata": {},
   "outputs": [],
   "source": [
    "x_train = sequence.pad_sequences(X_train, maxlen=100)\n",
    "x_test = sequence.pad_sequences(X_test, maxlen=100)"
   ]
  },
  {
   "cell_type": "code",
   "execution_count": 17,
   "metadata": {},
   "outputs": [],
   "source": [
    "from keras.utils import np_utils\n",
    "\n",
    "y_train = np_utils.to_categorical(Y_train)\n",
    "y_test = np_utils.to_categorical(Y_test)"
   ]
  },
  {
   "cell_type": "markdown",
   "metadata": {},
   "source": [
    "### Model"
   ]
  },
  {
   "cell_type": "code",
   "execution_count": 18,
   "metadata": {},
   "outputs": [
    {
     "name": "stdout",
     "output_type": "stream",
     "text": [
      "WARNING:tensorflow:From /Users/grace/workspace/keras/venv/lib/python3.6/site-packages/keras/backend/tensorflow_backend.py:1188: calling reduce_sum (from tensorflow.python.ops.math_ops) with keep_dims is deprecated and will be removed in a future version.\n",
      "Instructions for updating:\n",
      "keep_dims is deprecated, use keepdims instead\n"
     ]
    }
   ],
   "source": [
    "from keras.models import Sequential\n",
    "from keras.layers import Embedding, LSTM, Dense\n",
    "\n",
    "model = Sequential()\n",
    "# embedding (총 단어 수, 기사당 단어 수)\n",
    "model.add(Embedding(1000, 100))\n",
    "# lstm(기사당 단어 수)\n",
    "model.add(LSTM(100, activation='tanh'))\n",
    "model.add(Dense(46, activation='softmax'))"
   ]
  },
  {
   "cell_type": "code",
   "execution_count": 20,
   "metadata": {},
   "outputs": [
    {
     "name": "stdout",
     "output_type": "stream",
     "text": [
      "WARNING:tensorflow:From /Users/grace/workspace/keras/venv/lib/python3.6/site-packages/keras/backend/tensorflow_backend.py:1290: calling reduce_mean (from tensorflow.python.ops.math_ops) with keep_dims is deprecated and will be removed in a future version.\n",
      "Instructions for updating:\n",
      "keep_dims is deprecated, use keepdims instead\n"
     ]
    }
   ],
   "source": [
    "model.compile(loss='categorical_crossentropy',\\\n",
    "             optimizer='adam',\\\n",
    "             metrics=['accuracy'])"
   ]
  },
  {
   "cell_type": "code",
   "execution_count": 21,
   "metadata": {},
   "outputs": [
    {
     "name": "stdout",
     "output_type": "stream",
     "text": [
      "Train on 8982 samples, validate on 2246 samples\n",
      "Epoch 1/20\n",
      "8982/8982 [==============================] - 19s - loss: 2.6094 - acc: 0.3468 - val_loss: 2.4031 - val_acc: 0.3620\n",
      "Epoch 2/20\n",
      "8982/8982 [==============================] - 17s - loss: 2.1241 - acc: 0.4675 - val_loss: 1.9855 - val_acc: 0.5067\n",
      "Epoch 3/20\n",
      "8982/8982 [==============================] - 18s - loss: 1.9081 - acc: 0.5227 - val_loss: 1.8251 - val_acc: 0.5414\n",
      "Epoch 4/20\n",
      "8982/8982 [==============================] - 19s - loss: 1.7379 - acc: 0.5553 - val_loss: 1.7792 - val_acc: 0.5392\n",
      "Epoch 5/20\n",
      "8982/8982 [==============================] - 18s - loss: 1.6800 - acc: 0.5583 - val_loss: 1.7075 - val_acc: 0.5686\n",
      "Epoch 6/20\n",
      "8982/8982 [==============================] - 18s - loss: 1.6090 - acc: 0.5878 - val_loss: 1.6484 - val_acc: 0.5779\n",
      "Epoch 7/20\n",
      "8982/8982 [==============================] - 18s - loss: 1.5243 - acc: 0.6120 - val_loss: 1.5455 - val_acc: 0.6091\n",
      "Epoch 8/20\n",
      "8982/8982 [==============================] - 18s - loss: 1.4469 - acc: 0.6275 - val_loss: 1.4777 - val_acc: 0.6247\n",
      "Epoch 9/20\n",
      "8982/8982 [==============================] - 18s - loss: 1.3521 - acc: 0.6578 - val_loss: 1.4365 - val_acc: 0.6389\n",
      "Epoch 10/20\n",
      "8982/8982 [==============================] - 18s - loss: 1.2569 - acc: 0.6827 - val_loss: 1.4182 - val_acc: 0.6474\n",
      "Epoch 11/20\n",
      "8982/8982 [==============================] - 18s - loss: 1.2422 - acc: 0.6791 - val_loss: 1.3866 - val_acc: 0.6456\n",
      "Epoch 12/20\n",
      "8982/8982 [==============================] - 18s - loss: 1.1648 - acc: 0.7013 - val_loss: 1.3248 - val_acc: 0.6745\n",
      "Epoch 13/20\n",
      "8982/8982 [==============================] - 18s - loss: 1.0962 - acc: 0.7221 - val_loss: 1.2853 - val_acc: 0.6741\n",
      "Epoch 14/20\n",
      "8982/8982 [==============================] - 18s - loss: 1.0285 - acc: 0.7404 - val_loss: 1.2852 - val_acc: 0.6670\n",
      "Epoch 15/20\n",
      "8982/8982 [==============================] - 17s - loss: 0.9939 - acc: 0.7474 - val_loss: 1.2244 - val_acc: 0.6990\n",
      "Epoch 16/20\n",
      "8982/8982 [==============================] - 17s - loss: 0.9504 - acc: 0.7629 - val_loss: 1.2245 - val_acc: 0.6981\n",
      "Epoch 17/20\n",
      "8982/8982 [==============================] - 17s - loss: 0.9065 - acc: 0.7720 - val_loss: 1.2141 - val_acc: 0.6986\n",
      "Epoch 18/20\n",
      "8982/8982 [==============================] - 18s - loss: 0.8778 - acc: 0.7781 - val_loss: 1.2226 - val_acc: 0.7004\n",
      "Epoch 19/20\n",
      "8982/8982 [==============================] - 17s - loss: 0.8295 - acc: 0.7934 - val_loss: 1.1870 - val_acc: 0.7017\n",
      "Epoch 20/20\n",
      "8982/8982 [==============================] - 17s - loss: 0.7914 - acc: 0.8007 - val_loss: 1.2065 - val_acc: 0.7030\n"
     ]
    }
   ],
   "source": [
    "history = model.fit(x_train, y_train,\n",
    "                   batch_size=100, epochs=20,\\\n",
    "                   validation_data=(x_test, y_test))"
   ]
  },
  {
   "cell_type": "code",
   "execution_count": 23,
   "metadata": {},
   "outputs": [
    {
     "data": {
      "text/plain": [
       "[<matplotlib.lines.Line2D at 0x13178f710>]"
      ]
     },
     "execution_count": 23,
     "metadata": {},
     "output_type": "execute_result"
    },
    {
     "data": {
      "text/plain": [
       "[<matplotlib.lines.Line2D at 0x13175dcf8>]"
      ]
     },
     "execution_count": 23,
     "metadata": {},
     "output_type": "execute_result"
    },
    {
     "data": {
      "text/plain": [
       "<matplotlib.legend.Legend at 0x13178fa90>"
      ]
     },
     "execution_count": 23,
     "metadata": {},
     "output_type": "execute_result"
    },
    {
     "data": {
      "text/plain": [
       "Text(0.5, 0, 'epoch')"
      ]
     },
     "execution_count": 23,
     "metadata": {},
     "output_type": "execute_result"
    },
    {
     "data": {
      "text/plain": [
       "Text(0, 0.5, 'loss')"
      ]
     },
     "execution_count": 23,
     "metadata": {},
     "output_type": "execute_result"
    },
    {
     "data": {
      "image/png": "[encoded data removed]",
      "text/plain": [
       "<Figure size 432x288 with 1 Axes>"
      ]
     },
     "metadata": {},
     "output_type": "display_data"
    }
   ],
   "source": [
    "import matplotlib.pyplot as plt\n",
    "\n",
    "y_vloss = history.history['val_loss']\n",
    "\n",
    "# training set\n",
    "y_loss = history.history['loss']\n",
    "\n",
    "plt.plot(np.arange(len(y_loss)), y_vloss, marker='.', c='red', label='Testset_loss')\n",
    "plt.plot(np.arange(len(y_loss)), y_loss, marker='.', c='blue', label='Trainset_loss')\n",
    "\n",
    "plt.legend(loc='upper right')\n",
    "plt.grid()\n",
    "plt.xlabel('epoch')\n",
    "plt.ylabel('loss')\n",
    "plt.show()"
   ]
  },
  {
   "cell_type": "code",
   "execution_count": null,
   "metadata": {},
   "outputs": [],
   "source": []
  }
 ],
 "metadata": {
  "kernelspec": {
   "display_name": "Python 3",
   "language": "python",
   "name": "python3"
  },
  "language_info": {
   "codemirror_mode": {
    "name": "ipython",
    "version": 3
   },
   "file_extension": ".py",
   "mimetype": "text/x-python",
   "name": "python",
   "nbconvert_exporter": "python",
   "pygments_lexer": "ipython3",
   "version": "3.6.4"
  }
 },
 "nbformat": 4,
 "nbformat_minor": 2
}
